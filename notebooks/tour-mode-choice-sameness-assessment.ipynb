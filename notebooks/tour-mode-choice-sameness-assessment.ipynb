{
 "cells": [
  {
   "cell_type": "code",
   "execution_count": 1,
   "id": "bc52a044",
   "metadata": {},
   "outputs": [],
   "source": [
    "import polars as pl\n",
    "from IPython.display import display\n",
    "import os"
   ]
  },
  {
   "cell_type": "markdown",
   "id": "fde9214a",
   "metadata": {},
   "source": [
    "### Parameters"
   ]
  },
  {
   "cell_type": "code",
   "execution_count": 2,
   "id": "f2cfccbc",
   "metadata": {},
   "outputs": [],
   "source": [
    "SAMENESS_MONTE_CARLO_WORD = \"Basics + tour_type_num\"\n",
    "SAMENESS_BASICS_WORD = \"Basics\"\n",
    "SAMENESS_START_TIME_WORD = \"Basics + start_time\"\n",
    "SAMENESS_SCHEDULE_LOCATION_WORD = \"Basics + start_time + duration + origin + destination\"\n",
    "SAMENESS_DESTINATION_WORD = \"Basics + destination\""
   ]
  },
  {
   "cell_type": "code",
   "execution_count": 3,
   "id": "b0c72f19",
   "metadata": {},
   "outputs": [
    {
     "data": {
      "text/plain": [
       "'/Users/wsp/Documents/GitHub/asim_eet_viz'"
      ]
     },
     "execution_count": 3,
     "metadata": {},
     "output_type": "execute_result"
    }
   ],
   "source": [
    "os.getcwd()"
   ]
  },
  {
   "cell_type": "markdown",
   "id": "6fc60c73",
   "metadata": {},
   "source": [
    "### Remote I/O"
   ]
  },
  {
   "cell_type": "code",
   "execution_count": 4,
   "id": "ee9b8290",
   "metadata": {},
   "outputs": [],
   "source": [
    "input_dir = \"./input/tour-mc-data/\"\n",
    "output_dir = \"./notebooks/\"\n",
    "\n",
    "base_dir_name = \"base\"\n",
    "build_dir_name = \"build-transit\"\n",
    "\n",
    "eet_dir_name = \"eet\"\n",
    "mc_same_dir_name = \"mc_same_seed\"\n",
    "\n",
    "tour_file_name = \"final_tours.csv\"\n",
    "\n",
    "output_file = os.path.join(output_dir, \"tour-mc-investigation-for-tableau.csv\")"
   ]
  },
  {
   "cell_type": "markdown",
   "id": "15968903",
   "metadata": {},
   "source": [
    "###  Data Reads"
   ]
  },
  {
   "cell_type": "code",
   "execution_count": 5,
   "id": "e596feda",
   "metadata": {},
   "outputs": [],
   "source": [
    "df_list = {}\n",
    "\n",
    "column_types = {\n",
    "    \"person_id\": pl.Float64,\n",
    "    \"tour_type\": pl.Utf8,\n",
    "    \"tour_type_count\": pl.Float64,\n",
    "    \"tour_type_num\": pl.Float64,\n",
    "    \"tour_num\": pl.Float64,\n",
    "    \"tour_count\": pl.Float64,\n",
    "    \"tour_category\": pl.Utf8,\n",
    "    \"number_of_participants\": pl.Float64,\n",
    "    \"destination\": pl.Float64,\n",
    "    \"origin\": pl.Float64,\n",
    "    \"household_id\": pl.Float64,\n",
    "    \"start\": pl.Float64,\n",
    "    \"end\": pl.Float64,\n",
    "    \"duration\": pl.Float64,\n",
    "    \"school_esc_outbound\": pl.Utf8,\n",
    "    \"school_esc_inbound\": pl.Utf8,\n",
    "    \"num_escortees\": pl.Float64,\n",
    "    \"tdd\": pl.Float64,\n",
    "    \"tour_id_temp\": pl.Float64,\n",
    "    \"composition\": pl.Utf8,\n",
    "    \"is_external_tour\": pl.Boolean,\n",
    "    \"is_internal_tour\": pl.Boolean,\n",
    "    \"destination_logsum\": pl.Float64,\n",
    "    \"vehicle_occup_1\": pl.Utf8,\n",
    "    \"vehicle_occup_2\": pl.Utf8,\n",
    "    \"vehicle_occup_3.5\": pl.Utf8,\n",
    "    \"tour_mode\": pl.Utf8,\n",
    "    \"mode_choice_logsum\": pl.Float64,\n",
    "    \"selected_vehicle\": pl.Utf8,\n",
    "    \"atwork_subtour_frequency\": pl.Utf8,\n",
    "    \"parent_tour_id\": pl.Float64,\n",
    "    \"stop_frequency\": pl.Utf8,\n",
    "    \"primary_purpose\": pl.Utf8,\n",
    "    \"tour_id\": pl.Int64,\n",
    "}\n",
    "\n",
    "\n",
    "for scen_name in [base_dir_name, build_dir_name]:\n",
    "    for sim_type_name in [eet_dir_name, mc_same_dir_name]:\n",
    "        in_file = os.path.join(input_dir, scen_name, sim_type_name, tour_file_name)\n",
    "        \n",
    "        df = pl.read_csv(in_file, schema_overrides=column_types)\n",
    "        \n",
    "        df = df.with_columns(\n",
    "            pl.lit(scen_name).alias(\"scenario\"),\n",
    "            pl.lit(sim_type_name).alias(\"simulation_type\")\n",
    "        )\n",
    "        \n",
    "        df_list[f\"{scen_name}--{sim_type_name}\"] = df"
   ]
  },
  {
   "cell_type": "markdown",
   "id": "e42ea0f3",
   "metadata": {},
   "source": [
    "### Reductions"
   ]
  },
  {
   "cell_type": "markdown",
   "id": "494e9ac2",
   "metadata": {},
   "source": [
    "#### EET Reductions"
   ]
  },
  {
   "cell_type": "code",
   "execution_count": 6,
   "id": "adbe0a47",
   "metadata": {},
   "outputs": [],
   "source": [
    "eet_base_df = df_list[f\"{base_dir_name}--{eet_dir_name}\"].select(\n",
    "    pl.col(\"household_id\").alias(\"base_household_id\"),\n",
    "    pl.col(\"person_id\").alias(\"base_person_id\"),\n",
    "    pl.col(\"tour_type\").alias(\"base_tour_type\"),\n",
    "    pl.col(\"primary_purpose\").alias(\"base_primary_purpose\"),\n",
    "    pl.col(\"tour_type_num\").alias(\"base_tour_type_num\"),\n",
    "    pl.col(\"tour_type_count\").alias(\"base_tour_type_count\"),\n",
    "    pl.col(\"tour_id\").alias(\"base_tour_id\"),\n",
    "    pl.col(\"tour_mode\").alias(\"base_tour_mode\"),\n",
    "    pl.col(\"duration\").alias(\"base_duration\"),\n",
    "    pl.col(\"start\").alias(\"base_start_time_index\"),\n",
    "    pl.col(\"end\").alias(\"base_end_time_index\"),\n",
    "    pl.col(\"origin\").alias(\"base_origin\"),\n",
    "    pl.col(\"destination\").alias(\"base_destination\"),\n",
    ").with_row_index(name=\"base_unique_id\", offset = 1).sort(\"base_unique_id\")\n",
    "\n",
    "\n",
    "eet_build_df = df_list[f\"{build_dir_name}--{eet_dir_name}\"].select(\n",
    "    pl.col(\"household_id\").alias(\"build_household_id\"),\n",
    "    pl.col(\"person_id\").alias(\"build_person_id\"),\n",
    "    pl.col(\"tour_type\").alias(\"build_tour_type\"),\n",
    "    pl.col(\"primary_purpose\").alias(\"build_primary_purpose\"),\n",
    "    pl.col(\"tour_type_num\").alias(\"build_tour_type_num\"),\n",
    "    pl.col(\"tour_type_count\").alias(\"build_tour_type_count\"),\n",
    "    pl.col(\"tour_id\").alias(\"build_tour_id\"),\n",
    "    pl.col(\"tour_mode\").alias(\"build_tour_mode\"),\n",
    "    pl.col(\"duration\").alias(\"build_duration\"),\n",
    "    pl.col(\"start\").alias(\"build_start_time_index\"),\n",
    "    pl.col(\"end\").alias(\"build_end_time_index\"),\n",
    "    pl.col(\"origin\").alias(\"build_origin\"),\n",
    "    pl.col(\"destination\").alias(\"build_destination\"),\n",
    ").with_row_index(name=\"build_unique_id\", offset = 1).sort(\"build_unique_id\") # `with_row_count` generates 0-indexed row numbers"
   ]
  },
  {
   "cell_type": "markdown",
   "id": "bd77b083",
   "metadata": {},
   "source": [
    "#### Free up some memory -- No Monte Carlo for now"
   ]
  },
  {
   "cell_type": "code",
   "execution_count": 7,
   "id": "a260f6cf",
   "metadata": {},
   "outputs": [],
   "source": [
    "del df_list"
   ]
  },
  {
   "cell_type": "markdown",
   "id": "f2190709",
   "metadata": {},
   "source": [
    "#### Identify tours with the same error terms"
   ]
  },
  {
   "cell_type": "code",
   "execution_count": 8,
   "id": "80a80f78",
   "metadata": {},
   "outputs": [],
   "source": [
    "same_error_df = eet_base_df.join(\n",
    "    eet_build_df,\n",
    "    left_on=\"base_tour_id\",\n",
    "    right_on=\"build_tour_id\",\n",
    "    how=\"left\", \n",
    ").select(\n",
    "    pl.col(\"base_unique_id\"),\n",
    "    pl.col(\"build_unique_id\"),\n",
    "    pl.col(\"base_tour_id\").alias(\"error_term_id\")\n",
    ")\n",
    "\n",
    "base_error_term_in_build_df = eet_base_df.select(\n",
    "    pl.col(\"base_unique_id\"),\n",
    "    pl.col(\"base_tour_id\").alias(\"error_term_id\")\n",
    ").with_columns(\n",
    "    pl.col(\"error_term_id\").is_in(pl.Series(eet_build_df[\"build_tour_id\"]).implode()).alias(\"error_term_present_in_build\")\n",
    ")"
   ]
  },
  {
   "cell_type": "markdown",
   "id": "c838ac82",
   "metadata": {},
   "source": [
    "#### Method to Assess Sameness across Different Definitions"
   ]
  },
  {
   "cell_type": "code",
   "execution_count": 9,
   "id": "be564af6",
   "metadata": {},
   "outputs": [],
   "source": [
    "def process_sameness(base_df, build_df, join_cols, sameness_word, same_error_df, base_error_term_in_build_df):\n",
    "\n",
    "    temp_df = base_df.join(\n",
    "        build_df,\n",
    "        left_on=[col[0] for col in join_cols],\n",
    "        right_on=[col[1] for col in join_cols],\n",
    "        how=\"left\", \n",
    "        suffix=\"_build_join\",\n",
    "        coalesce=False\n",
    "    ).with_columns(\n",
    "        pl.col(\"build_unique_id\").is_null().alias(\"nothing_comparable_in_build\")\n",
    "    ).with_columns(\n",
    "        pl.col(\"build_unique_id\").fill_null(0)\n",
    "    ).join(\n",
    "        same_error_df,\n",
    "        on=[\"base_unique_id\", \"build_unique_id\"],\n",
    "        how=\"left\"\n",
    "    ).with_columns(\n",
    "        pl.col(\"error_term_id\").is_not_null().alias(\"same_error_term\")\n",
    "    ).join(\n",
    "        base_error_term_in_build_df,\n",
    "        on=\"base_unique_id\",\n",
    "        how=\"left\"\n",
    "    ).with_columns(\n",
    "        pl.lit(sameness_word).alias(\"sameness_definition\")\n",
    "    )\n",
    "\n",
    "    # Estimate likely iia violations\n",
    "    iia_violations_df = temp_df.sort(\n",
    "        pl.col(\"base_unique_id\"),\n",
    "        pl.col(\"same_error_term\").cast(pl.Int32).neg(), \n",
    "        pl.col(\"build_unique_id\")\n",
    "    ).group_by(\n",
    "        pl.col(\"base_unique_id\")\n",
    "    ).agg(\n",
    "        pl.len().alias(\"iia_violations\"),\n",
    "        pl.col(\"build_unique_id\").first().alias(\"build_unique_id\"),\n",
    "    ).with_columns(\n",
    "        pl.col(\"iia_violations\").fill_null(0)        \n",
    "    ).with_columns(\n",
    "        pl.col(\"build_unique_id\").fill_null(0)\n",
    "    )\n",
    "\n",
    "    # Count the number uf unique error terms likely to have\n",
    "    unique_error_terms_count = base_df.select(\n",
    "        *[pl.col(col[0]) for col in join_cols]\n",
    "    ).unique().shape[0]\n",
    "    \n",
    "    total_base_rows = base_df.shape[0]\n",
    "    unique_error_terms_percentage = unique_error_terms_count / total_base_rows if total_base_rows > 0 else 0\n",
    "\n",
    "    result_df = temp_df.join(\n",
    "        iia_violations_df,\n",
    "        on=[\"base_unique_id\", \"build_unique_id\"],\n",
    "        how=\"left\"\n",
    "    ).filter(\n",
    "        pl.col(\"iia_violations\").is_not_null()\n",
    "    ).with_columns(\n",
    "        (pl.col(\"iia_violations\") - 1).alias(\"iia_violations\"),\n",
    "        pl.lit(unique_error_terms_percentage).alias(\"unique_error_terms\")\n",
    "    )\n",
    "    \n",
    "    return result_df"
   ]
  },
  {
   "cell_type": "markdown",
   "id": "f08d56dd",
   "metadata": {},
   "source": [
    "#### Sameness Definition 1: By household_id, person_id, tour_type, primary_purpose, and tour_type_num"
   ]
  },
  {
   "cell_type": "code",
   "execution_count": 10,
   "id": "ceea26a0",
   "metadata": {},
   "outputs": [],
   "source": [
    "join_cols = [\n",
    "    (\"base_household_id\", \"build_household_id\"),\n",
    "    (\"base_person_id\", \"build_person_id\"),\n",
    "    (\"base_tour_type\", \"build_tour_type\"),\n",
    "    (\"base_primary_purpose\", \"build_primary_purpose\"),\n",
    "    (\"base_tour_type_num\", \"build_tour_type_num\")\n",
    "]\n",
    "same_01_df = process_sameness(eet_base_df, eet_build_df, join_cols, SAMENESS_MONTE_CARLO_WORD, same_error_df, base_error_term_in_build_df)"
   ]
  },
  {
   "cell_type": "markdown",
   "id": "35ad6a51",
   "metadata": {},
   "source": [
    "#### Sameness Definition 2: By household_id, person_id, tour_type, primary_purpose, and start_time"
   ]
  },
  {
   "cell_type": "code",
   "execution_count": 11,
   "id": "e607b98b",
   "metadata": {},
   "outputs": [],
   "source": [
    "join_cols = [\n",
    "    (\"base_household_id\", \"build_household_id\"),\n",
    "    (\"base_person_id\", \"build_person_id\"),\n",
    "    (\"base_tour_type\", \"build_tour_type\"),\n",
    "    (\"base_primary_purpose\", \"build_primary_purpose\"),\n",
    "    (\"base_start_time_index\", \"build_start_time_index\")\n",
    "]\n",
    "same_02_df = process_sameness(eet_base_df, eet_build_df, join_cols, SAMENESS_START_TIME_WORD, same_error_df, base_error_term_in_build_df)"
   ]
  },
  {
   "cell_type": "markdown",
   "id": "8c156a2e",
   "metadata": {},
   "source": [
    "#### Sameness Definition 3: By household_id, person_id, tour_type, primary_purpose, start_time, duration, origin, and destination"
   ]
  },
  {
   "cell_type": "code",
   "execution_count": 12,
   "id": "2f1942c7",
   "metadata": {},
   "outputs": [],
   "source": [
    "join_cols = [\n",
    "    (\"base_household_id\", \"build_household_id\"),\n",
    "    (\"base_person_id\", \"build_person_id\"),\n",
    "    (\"base_tour_type\", \"build_tour_type\"),\n",
    "    (\"base_primary_purpose\", \"build_primary_purpose\"),\n",
    "    (\"base_start_time_index\", \"build_start_time_index\"),\n",
    "    (\"base_duration\", \"build_duration\"),\n",
    "    (\"base_origin\", \"build_origin\"),\n",
    "    (\"base_destination\", \"build_destination\")\n",
    "]\n",
    "same_03_df = process_sameness(eet_base_df, eet_build_df, join_cols, SAMENESS_SCHEDULE_LOCATION_WORD, same_error_df, base_error_term_in_build_df)"
   ]
  },
  {
   "cell_type": "markdown",
   "id": "6ae9975e",
   "metadata": {},
   "source": [
    "#### Sameness Definition 4: By household_id, person_id, tour_type, primary_purpose, and destination"
   ]
  },
  {
   "cell_type": "code",
   "execution_count": 13,
   "id": "5fe3cda8",
   "metadata": {},
   "outputs": [],
   "source": [
    "join_cols = [\n",
    "    (\"base_household_id\", \"build_household_id\"),\n",
    "    (\"base_person_id\", \"build_person_id\"),\n",
    "    (\"base_tour_type\", \"build_tour_type\"),\n",
    "    (\"base_primary_purpose\", \"build_primary_purpose\"),\n",
    "    (\"base_destination\", \"build_destination\")\n",
    "]\n",
    "same_04_df = process_sameness(eet_base_df, eet_build_df, join_cols, SAMENESS_DESTINATION_WORD, same_error_df, base_error_term_in_build_df)"
   ]
  },
  {
   "cell_type": "markdown",
   "id": "cb7181d2",
   "metadata": {},
   "source": [
    "#### Sameness Definition 5: By household_id, person_id, tour_type, primary_purpose"
   ]
  },
  {
   "cell_type": "code",
   "execution_count": 14,
   "id": "48bbfa10",
   "metadata": {},
   "outputs": [],
   "source": [
    "join_cols = [\n",
    "    (\"base_household_id\", \"build_household_id\"),\n",
    "    (\"base_person_id\", \"build_person_id\"),\n",
    "    (\"base_tour_type\", \"build_tour_type\"),\n",
    "    (\"base_primary_purpose\", \"build_primary_purpose\")\n",
    "]\n",
    "same_05_df = process_sameness(eet_base_df, eet_build_df, join_cols, SAMENESS_BASICS_WORD, same_error_df, base_error_term_in_build_df)"
   ]
  },
  {
   "cell_type": "markdown",
   "id": "1c3f878d",
   "metadata": {},
   "source": [
    "#### Consolidate Sameness Results"
   ]
  },
  {
   "cell_type": "code",
   "execution_count": 15,
   "id": "2d5e07ef",
   "metadata": {},
   "outputs": [],
   "source": [
    "output_df = pl.concat([same_01_df, same_02_df, same_03_df, same_04_df, same_05_df])\n",
    "output_df = output_df.with_columns(\n",
    "    (pl.col(\"base_tour_id\") == pl.col(\"build_tour_id\")).alias(\"is_tour_id_same\"),\n",
    "    (pl.col(\"base_duration\") == pl.col(\"build_duration\")).alias(\"is_duration_same\"),\n",
    "    (pl.col(\"base_tour_type_num\") == pl.col(\"build_tour_type_num\")).alias(\"is_tour_type_num_same\"),\n",
    "    (pl.col(\"base_start_time_index\") == pl.col(\"build_start_time_index\")).alias(\"is_start_time_same\"),\n",
    "    (pl.col(\"base_end_time_index\") == pl.col(\"build_end_time_index\")).alias(\"is_end_time_same\"),\n",
    "    pl.when(pl.col(\"same_error_term\"))\n",
    "    .then(pl.lit(\"Success: Correct match to build\"))\n",
    "    .when(~pl.col(\"same_error_term\") & pl.col(\"error_term_present_in_build\"))\n",
    "    .then(pl.lit(\"Failure: Incorrect match to build\"))\n",
    "    .when(~pl.col(\"same_error_term\") & ~pl.col(\"error_term_present_in_build\") & pl.col(\"nothing_comparable_in_build\"))\n",
    "    .then(pl.lit(\"Success: Nothing comparable in build\"))\n",
    "    .when(~pl.col(\"same_error_term\") & ~pl.col(\"error_term_present_in_build\") & ~pl.col(\"nothing_comparable_in_build\"))\n",
    "    .then(pl.lit(\"Failure: Error term not generated in build\"))\n",
    "    .otherwise(pl.lit(\"ERROR\")).alias(\"eet_performance\")\n",
    ")\n"
   ]
  },
  {
   "cell_type": "markdown",
   "id": "b9960eef",
   "metadata": {},
   "source": [
    "#### High-level Outcome"
   ]
  },
  {
   "cell_type": "code",
   "execution_count": 16,
   "id": "38e57ebb",
   "metadata": {},
   "outputs": [
    {
     "data": {
      "text/plain": [
       "'Sameness Definition vs EET Performance:'"
      ]
     },
     "metadata": {},
     "output_type": "display_data"
    },
    {
     "data": {
      "text/html": [
       "<div><style>\n",
       ".dataframe > thead > tr,\n",
       ".dataframe > tbody > tr {\n",
       "  text-align: right;\n",
       "  white-space: pre-wrap;\n",
       "}\n",
       "</style>\n",
       "<small>shape: (20, 3)</small><table border=\"1\" class=\"dataframe\"><thead><tr><th>sameness_definition</th><th>eet_performance</th><th>len</th></tr><tr><td>str</td><td>str</td><td>u32</td></tr></thead><tbody><tr><td>&quot;Basics&quot;</td><td>&quot;Failure: Error term not generated in build&quot;</td><td>6284</td></tr><tr><td>&quot;Basics&quot;</td><td>&quot;Failure: Incorrect match to build&quot;</td><td>4</td></tr><tr><td>&quot;Basics&quot;</td><td>&quot;Success: Correct match to build&quot;</td><td>4500845</td></tr><tr><td>&quot;Basics&quot;</td><td>&quot;Success: Nothing comparable in build&quot;</td><td>3872</td></tr><tr><td>&quot;Basics + destination&quot;</td><td>&quot;Failure: Error term not generated in build&quot;</td><td>1589</td></tr><tr><td>&quot;Basics + destination&quot;</td><td>&quot;Failure: Incorrect match to build&quot;</td><td>74225</td></tr><tr><td>&quot;Basics + destination&quot;</td><td>&quot;Success: Correct match to build&quot;</td><td>4426624</td></tr><tr><td>&quot;Basics + destination&quot;</td><td>&quot;Success: Nothing comparable in build&quot;</td><td>8567</td></tr><tr><td>&quot;Basics + start_time&quot;</td><td>&quot;Failure: Error term not generated in build&quot;</td><td>1032</td></tr><tr><td>&quot;Basics + start_time&quot;</td><td>&quot;Failure: Incorrect match to build&quot;</td><td>38665</td></tr><tr><td>&quot;Basics + start_time&quot;</td><td>&quot;Success: Correct match to build&quot;</td><td>4462184</td></tr><tr><td>&quot;Basics + start_time&quot;</td><td>&quot;Success: Nothing comparable in build&quot;</td><td>9124</td></tr><tr><td>&quot;Basics + start_time + duration + origin + destination&quot;</td><td>&quot;Failure: Error term not generated in build&quot;</td><td>374</td></tr><tr><td>&quot;Basics + start_time + duration + origin + destination&quot;</td><td>&quot;Failure: Incorrect match to build&quot;</td><td>97377</td></tr><tr><td>&quot;Basics + start_time + duration + origin + destination&quot;</td><td>&quot;Success: Correct match to build&quot;</td><td>4403472</td></tr><tr><td>&quot;Basics + start_time + duration + origin + destination&quot;</td><td>&quot;Success: Nothing comparable in build&quot;</td><td>9782</td></tr><tr><td>&quot;Basics + tour_type_num&quot;</td><td>&quot;Failure: Error term not generated in build&quot;</td><td>3058</td></tr><tr><td>&quot;Basics + tour_type_num&quot;</td><td>&quot;Failure: Incorrect match to build&quot;</td><td>2243</td></tr><tr><td>&quot;Basics + tour_type_num&quot;</td><td>&quot;Success: Correct match to build&quot;</td><td>4498606</td></tr><tr><td>&quot;Basics + tour_type_num&quot;</td><td>&quot;Success: Nothing comparable in build&quot;</td><td>7098</td></tr></tbody></table></div>"
      ],
      "text/plain": [
       "shape: (20, 3)\n",
       "┌───────────────────────────────────────────┬──────────────────────────────────────┬─────────┐\n",
       "│ sameness_definition                       ┆ eet_performance                      ┆ len     │\n",
       "│ ---                                       ┆ ---                                  ┆ ---     │\n",
       "│ str                                       ┆ str                                  ┆ u32     │\n",
       "╞═══════════════════════════════════════════╪══════════════════════════════════════╪═════════╡\n",
       "│ Basics                                    ┆ Failure: Error term not generated in ┆ 6284    │\n",
       "│                                           ┆ build                                ┆         │\n",
       "│ Basics                                    ┆ Failure: Incorrect match to build    ┆ 4       │\n",
       "│ Basics                                    ┆ Success: Correct match to build      ┆ 4500845 │\n",
       "│ Basics                                    ┆ Success: Nothing comparable in build ┆ 3872    │\n",
       "│ Basics + destination                      ┆ Failure: Error term not generated in ┆ 1589    │\n",
       "│                                           ┆ build                                ┆         │\n",
       "│ Basics + destination                      ┆ Failure: Incorrect match to build    ┆ 74225   │\n",
       "│ Basics + destination                      ┆ Success: Correct match to build      ┆ 4426624 │\n",
       "│ Basics + destination                      ┆ Success: Nothing comparable in build ┆ 8567    │\n",
       "│ Basics + start_time                       ┆ Failure: Error term not generated in ┆ 1032    │\n",
       "│                                           ┆ build                                ┆         │\n",
       "│ Basics + start_time                       ┆ Failure: Incorrect match to build    ┆ 38665   │\n",
       "│ Basics + start_time                       ┆ Success: Correct match to build      ┆ 4462184 │\n",
       "│ Basics + start_time                       ┆ Success: Nothing comparable in build ┆ 9124    │\n",
       "│ Basics + start_time + duration + origin + ┆ Failure: Error term not generated in ┆ 374     │\n",
       "│ destination                               ┆ build                                ┆         │\n",
       "│ Basics + start_time + duration + origin + ┆ Failure: Incorrect match to build    ┆ 97377   │\n",
       "│ destination                               ┆                                      ┆         │\n",
       "│ Basics + start_time + duration + origin + ┆ Success: Correct match to build      ┆ 4403472 │\n",
       "│ destination                               ┆                                      ┆         │\n",
       "│ Basics + start_time + duration + origin + ┆ Success: Nothing comparable in build ┆ 9782    │\n",
       "│ destination                               ┆                                      ┆         │\n",
       "│ Basics + tour_type_num                    ┆ Failure: Error term not generated in ┆ 3058    │\n",
       "│                                           ┆ build                                ┆         │\n",
       "│ Basics + tour_type_num                    ┆ Failure: Incorrect match to build    ┆ 2243    │\n",
       "│ Basics + tour_type_num                    ┆ Success: Correct match to build      ┆ 4498606 │\n",
       "│ Basics + tour_type_num                    ┆ Success: Nothing comparable in build ┆ 7098    │\n",
       "└───────────────────────────────────────────┴──────────────────────────────────────┴─────────┘"
      ]
     },
     "metadata": {},
     "output_type": "display_data"
    }
   ],
   "source": [
    "pl.Config.set_tbl_rows(50)\n",
    "pl.Config.set_tbl_cols(50)\n",
    "pl.Config.set_fmt_str_lengths(75)\n",
    "\n",
    "display(\"Sameness Definition vs EET Performance:\")\n",
    "display(output_df.group_by(\"sameness_definition\", \"eet_performance\").agg(pl.len()).sort(\"sameness_definition\", \"eet_performance\"))"
   ]
  },
  {
   "cell_type": "code",
   "execution_count": 17,
   "id": "51bc7c4e",
   "metadata": {},
   "outputs": [
    {
     "data": {
      "text/plain": [
       "'Sameness Definition vs IIA Violations:'"
      ]
     },
     "metadata": {},
     "output_type": "display_data"
    },
    {
     "data": {
      "text/html": [
       "<div><style>\n",
       ".dataframe > thead > tr,\n",
       ".dataframe > tbody > tr {\n",
       "  text-align: right;\n",
       "  white-space: pre-wrap;\n",
       "}\n",
       "</style>\n",
       "<small>shape: (24, 3)</small><table border=\"1\" class=\"dataframe\"><thead><tr><th>sameness_definition</th><th>iia_violations</th><th>len</th></tr><tr><td>str</td><td>u32</td><td>u32</td></tr></thead><tbody><tr><td>&quot;Basics&quot;</td><td>0</td><td>3218333</td></tr><tr><td>&quot;Basics&quot;</td><td>1</td><td>843129</td></tr><tr><td>&quot;Basics&quot;</td><td>2</td><td>191296</td></tr><tr><td>&quot;Basics&quot;</td><td>3</td><td>159320</td></tr><tr><td>&quot;Basics&quot;</td><td>4</td><td>61221</td></tr><tr><td>&quot;Basics&quot;</td><td>5</td><td>29503</td></tr><tr><td>&quot;Basics&quot;</td><td>6</td><td>5344</td></tr><tr><td>&quot;Basics&quot;</td><td>7</td><td>2081</td></tr><tr><td>&quot;Basics&quot;</td><td>8</td><td>580</td></tr><tr><td>&quot;Basics&quot;</td><td>9</td><td>198</td></tr><tr><td>&quot;Basics + destination&quot;</td><td>0</td><td>3918378</td></tr><tr><td>&quot;Basics + destination&quot;</td><td>1</td><td>568896</td></tr><tr><td>&quot;Basics + destination&quot;</td><td>2</td><td>13843</td></tr><tr><td>&quot;Basics + destination&quot;</td><td>3</td><td>9008</td></tr><tr><td>&quot;Basics + destination&quot;</td><td>4</td><td>653</td></tr><tr><td>&quot;Basics + destination&quot;</td><td>5</td><td>227</td></tr><tr><td>&quot;Basics + start_time&quot;</td><td>0</td><td>4448254</td></tr><tr><td>&quot;Basics + start_time&quot;</td><td>1</td><td>61200</td></tr><tr><td>&quot;Basics + start_time&quot;</td><td>2</td><td>1503</td></tr><tr><td>&quot;Basics + start_time&quot;</td><td>3</td><td>48</td></tr><tr><td>&quot;Basics + start_time + duration + origin + destination&quot;</td><td>0</td><td>4510132</td></tr><tr><td>&quot;Basics + start_time + duration + origin + destination&quot;</td><td>1</td><td>873</td></tr><tr><td>&quot;Basics + tour_type_num&quot;</td><td>0</td><td>4510379</td></tr><tr><td>&quot;Basics + tour_type_num&quot;</td><td>1</td><td>626</td></tr></tbody></table></div>"
      ],
      "text/plain": [
       "shape: (24, 3)\n",
       "┌───────────────────────────────────────────────────────┬────────────────┬─────────┐\n",
       "│ sameness_definition                                   ┆ iia_violations ┆ len     │\n",
       "│ ---                                                   ┆ ---            ┆ ---     │\n",
       "│ str                                                   ┆ u32            ┆ u32     │\n",
       "╞═══════════════════════════════════════════════════════╪════════════════╪═════════╡\n",
       "│ Basics                                                ┆ 0              ┆ 3218333 │\n",
       "│ Basics                                                ┆ 1              ┆ 843129  │\n",
       "│ Basics                                                ┆ 2              ┆ 191296  │\n",
       "│ Basics                                                ┆ 3              ┆ 159320  │\n",
       "│ Basics                                                ┆ 4              ┆ 61221   │\n",
       "│ Basics                                                ┆ 5              ┆ 29503   │\n",
       "│ Basics                                                ┆ 6              ┆ 5344    │\n",
       "│ Basics                                                ┆ 7              ┆ 2081    │\n",
       "│ Basics                                                ┆ 8              ┆ 580     │\n",
       "│ Basics                                                ┆ 9              ┆ 198     │\n",
       "│ Basics + destination                                  ┆ 0              ┆ 3918378 │\n",
       "│ Basics + destination                                  ┆ 1              ┆ 568896  │\n",
       "│ Basics + destination                                  ┆ 2              ┆ 13843   │\n",
       "│ Basics + destination                                  ┆ 3              ┆ 9008    │\n",
       "│ Basics + destination                                  ┆ 4              ┆ 653     │\n",
       "│ Basics + destination                                  ┆ 5              ┆ 227     │\n",
       "│ Basics + start_time                                   ┆ 0              ┆ 4448254 │\n",
       "│ Basics + start_time                                   ┆ 1              ┆ 61200   │\n",
       "│ Basics + start_time                                   ┆ 2              ┆ 1503    │\n",
       "│ Basics + start_time                                   ┆ 3              ┆ 48      │\n",
       "│ Basics + start_time + duration + origin + destination ┆ 0              ┆ 4510132 │\n",
       "│ Basics + start_time + duration + origin + destination ┆ 1              ┆ 873     │\n",
       "│ Basics + tour_type_num                                ┆ 0              ┆ 4510379 │\n",
       "│ Basics + tour_type_num                                ┆ 1              ┆ 626     │\n",
       "└───────────────────────────────────────────────────────┴────────────────┴─────────┘"
      ]
     },
     "metadata": {},
     "output_type": "display_data"
    }
   ],
   "source": [
    "display(\"Sameness Definition vs IIA Violations:\")\n",
    "display(output_df.group_by(\"sameness_definition\", \"iia_violations\").len().sort(\"sameness_definition\", \"iia_violations\"))"
   ]
  },
  {
   "cell_type": "code",
   "execution_count": 18,
   "id": "0e7c8402",
   "metadata": {},
   "outputs": [
    {
     "data": {
      "text/plain": [
       "'Sameness Definition vs Unique Error Terms:'"
      ]
     },
     "metadata": {},
     "output_type": "display_data"
    },
    {
     "data": {
      "text/html": [
       "<div><style>\n",
       ".dataframe > thead > tr,\n",
       ".dataframe > tbody > tr {\n",
       "  text-align: right;\n",
       "  white-space: pre-wrap;\n",
       "}\n",
       "</style>\n",
       "<small>shape: (5, 2)</small><table border=\"1\" class=\"dataframe\"><thead><tr><th>sameness_definition</th><th>unique_error_terms</th></tr><tr><td>str</td><td>f64</td></tr></thead><tbody><tr><td>&quot;Basics&quot;</td><td>0.833356</td></tr><tr><td>&quot;Basics + destination&quot;</td><td>0.929703</td></tr><tr><td>&quot;Basics + start_time&quot;</td><td>0.992803</td></tr><tr><td>&quot;Basics + start_time + duration + origin + destination&quot;</td><td>0.999894</td></tr><tr><td>&quot;Basics + tour_type_num&quot;</td><td>0.999931</td></tr></tbody></table></div>"
      ],
      "text/plain": [
       "shape: (5, 2)\n",
       "┌───────────────────────────────────────────────────────┬────────────────────┐\n",
       "│ sameness_definition                                   ┆ unique_error_terms │\n",
       "│ ---                                                   ┆ ---                │\n",
       "│ str                                                   ┆ f64                │\n",
       "╞═══════════════════════════════════════════════════════╪════════════════════╡\n",
       "│ Basics                                                ┆ 0.833356           │\n",
       "│ Basics + destination                                  ┆ 0.929703           │\n",
       "│ Basics + start_time                                   ┆ 0.992803           │\n",
       "│ Basics + start_time + duration + origin + destination ┆ 0.999894           │\n",
       "│ Basics + tour_type_num                                ┆ 0.999931           │\n",
       "└───────────────────────────────────────────────────────┴────────────────────┘"
      ]
     },
     "metadata": {},
     "output_type": "display_data"
    }
   ],
   "source": [
    "display(\"Sameness Definition vs Unique Error Terms:\")\n",
    "display(output_df.group_by(\"sameness_definition\").agg(pl.col(\"unique_error_terms\").first()).sort(\"sameness_definition\"))\n"
   ]
  },
  {
   "cell_type": "markdown",
   "id": "bcfaa664",
   "metadata": {},
   "source": [
    "#### Write to CSV for Tableau"
   ]
  },
  {
   "cell_type": "code",
   "execution_count": 19,
   "id": "c9df0221",
   "metadata": {},
   "outputs": [],
   "source": [
    "output_df.write_csv(output_file)"
   ]
  },
  {
   "cell_type": "markdown",
   "id": "ba1d5768",
   "metadata": {},
   "source": [
    "### Deep Dive/Debug Investigation"
   ]
  },
  {
   "cell_type": "markdown",
   "id": "d0ab9439",
   "metadata": {},
   "source": [
    "#### Question #1: Why does the Monte Carlo method fail? It should be perfect."
   ]
  },
  {
   "cell_type": "code",
   "execution_count": 20,
   "id": "9ad2f7cc",
   "metadata": {},
   "outputs": [
    {
     "data": {
      "text/plain": [
       "'Primary Purpose distribution for Monte Carlo method failures:'"
      ]
     },
     "metadata": {},
     "output_type": "display_data"
    },
    {
     "data": {
      "text/html": [
       "<div><style>\n",
       ".dataframe > thead > tr,\n",
       ".dataframe > tbody > tr {\n",
       "  text-align: right;\n",
       "  white-space: pre-wrap;\n",
       "}\n",
       "</style>\n",
       "<small>shape: (6, 2)</small><table border=\"1\" class=\"dataframe\"><thead><tr><th>base_primary_purpose</th><th>len</th></tr><tr><td>str</td><td>u32</td></tr></thead><tbody><tr><td>&quot;atwork&quot;</td><td>1</td></tr><tr><td>&quot;eatout&quot;</td><td>1</td></tr><tr><td>&quot;escort&quot;</td><td>5292</td></tr><tr><td>&quot;othdiscr&quot;</td><td>3</td></tr><tr><td>&quot;othmaint&quot;</td><td>2</td></tr><tr><td>&quot;shopping&quot;</td><td>2</td></tr></tbody></table></div>"
      ],
      "text/plain": [
       "shape: (6, 2)\n",
       "┌──────────────────────┬──────┐\n",
       "│ base_primary_purpose ┆ len  │\n",
       "│ ---                  ┆ ---  │\n",
       "│ str                  ┆ u32  │\n",
       "╞══════════════════════╪══════╡\n",
       "│ atwork               ┆ 1    │\n",
       "│ eatout               ┆ 1    │\n",
       "│ escort               ┆ 5292 │\n",
       "│ othdiscr             ┆ 3    │\n",
       "│ othmaint             ┆ 2    │\n",
       "│ shopping             ┆ 2    │\n",
       "└──────────────────────┴──────┘"
      ]
     },
     "metadata": {},
     "output_type": "display_data"
    }
   ],
   "source": [
    "working_df = output_df.filter(\n",
    "    (pl.col(\"sameness_definition\") == SAMENESS_MONTE_CARLO_WORD) &\n",
    "    (pl.col(\"eet_performance\").str.contains(\"Failure\"))\n",
    ")\n",
    "\n",
    "display(\"Primary Purpose distribution for Monte Carlo method failures:\")\n",
    "display(working_df.group_by(\"base_primary_purpose\").len().sort(\"base_primary_purpose\"))\n"
   ]
  },
  {
   "cell_type": "markdown",
   "id": "e0bf0e6d",
   "metadata": {},
   "source": [
    "##### Look into Shopping Failures"
   ]
  },
  {
   "cell_type": "code",
   "execution_count": 21,
   "id": "8edecf5f",
   "metadata": {},
   "outputs": [
    {
     "data": {
      "text/html": [
       "<div><style>\n",
       ".dataframe > thead > tr,\n",
       ".dataframe > tbody > tr {\n",
       "  text-align: right;\n",
       "  white-space: pre-wrap;\n",
       "}\n",
       "</style>\n",
       "<small>shape: (2, 2)</small><table border=\"1\" class=\"dataframe\"><thead><tr><th>base_unique_id</th><th>base_household_id</th></tr><tr><td>u32</td><td>f64</td></tr></thead><tbody><tr><td>1189351</td><td>302481.0</td></tr><tr><td>1189352</td><td>302481.0</td></tr></tbody></table></div>"
      ],
      "text/plain": [
       "shape: (2, 2)\n",
       "┌────────────────┬───────────────────┐\n",
       "│ base_unique_id ┆ base_household_id │\n",
       "│ ---            ┆ ---               │\n",
       "│ u32            ┆ f64               │\n",
       "╞════════════════╪═══════════════════╡\n",
       "│ 1189351        ┆ 302481.0          │\n",
       "│ 1189352        ┆ 302481.0          │\n",
       "└────────────────┴───────────────────┘"
      ]
     },
     "metadata": {},
     "output_type": "display_data"
    }
   ],
   "source": [
    "df_shopping_failures = working_df.filter(pl.col(\"base_primary_purpose\") == \"shopping\")\n",
    "display(df_shopping_failures.select([\"base_unique_id\", \"base_household_id\"]))\n"
   ]
  },
  {
   "cell_type": "code",
   "execution_count": 22,
   "id": "0ce87860",
   "metadata": {},
   "outputs": [
    {
     "data": {
      "text/plain": [
       "'Debug Base DataFrame (Shopping):'"
      ]
     },
     "metadata": {},
     "output_type": "display_data"
    },
    {
     "data": {
      "text/html": [
       "<div><style>\n",
       ".dataframe > thead > tr,\n",
       ".dataframe > tbody > tr {\n",
       "  text-align: right;\n",
       "  white-space: pre-wrap;\n",
       "}\n",
       "</style>\n",
       "<small>shape: (1, 8)</small><table border=\"1\" class=\"dataframe\"><thead><tr><th>base_household_id</th><th>base_person_id</th><th>base_tour_type</th><th>base_primary_purpose</th><th>base_tour_id</th><th>base_duration</th><th>base_start_time_index</th><th>base_end_time_index</th></tr><tr><td>f64</td><td>f64</td><td>str</td><td>str</td><td>i64</td><td>f64</td><td>f64</td><td>f64</td></tr></thead><tbody><tr><td>302481.0</td><td>858708.0</td><td>&quot;shopping&quot;</td><td>&quot;shopping&quot;</td><td>42935370</td><td>1.0</td><td>21.0</td><td>22.0</td></tr></tbody></table></div>"
      ],
      "text/plain": [
       "shape: (1, 8)\n",
       "┌────────────┬────────────┬────────────┬───────────┬───────────┬───────────┬───────────┬───────────┐\n",
       "│ base_house ┆ base_perso ┆ base_tour_ ┆ base_prim ┆ base_tour ┆ base_dura ┆ base_star ┆ base_end_ │\n",
       "│ hold_id    ┆ n_id       ┆ type       ┆ ary_purpo ┆ _id       ┆ tion      ┆ t_time_in ┆ time_inde │\n",
       "│ ---        ┆ ---        ┆ ---        ┆ se        ┆ ---       ┆ ---       ┆ dex       ┆ x         │\n",
       "│ f64        ┆ f64        ┆ str        ┆ ---       ┆ i64       ┆ f64       ┆ ---       ┆ ---       │\n",
       "│            ┆            ┆            ┆ str       ┆           ┆           ┆ f64       ┆ f64       │\n",
       "╞════════════╪════════════╪════════════╪═══════════╪═══════════╪═══════════╪═══════════╪═══════════╡\n",
       "│ 302481.0   ┆ 858708.0   ┆ shopping   ┆ shopping  ┆ 42935370  ┆ 1.0       ┆ 21.0      ┆ 22.0      │\n",
       "└────────────┴────────────┴────────────┴───────────┴───────────┴───────────┴───────────┴───────────┘"
      ]
     },
     "metadata": {},
     "output_type": "display_data"
    }
   ],
   "source": [
    "DEBUG_HH_ID = 302481\n",
    "DEBUG_PERSON_ID = 858708\n",
    "DEBUG_PURPOSE = \"shopping\"\n",
    "\n",
    "debug_base_df = eet_base_df.filter(\n",
    "    (pl.col(\"base_household_id\") == DEBUG_HH_ID) &\n",
    "    (pl.col(\"base_person_id\") == DEBUG_PERSON_ID) &\n",
    "    (pl.col(\"base_tour_type\") == DEBUG_PURPOSE)\n",
    ").select(\n",
    "    [\n",
    "        \"base_household_id\",\n",
    "        \"base_person_id\",\n",
    "        \"base_tour_type\",\n",
    "        \"base_primary_purpose\",\n",
    "        \"base_tour_id\",\n",
    "        \"base_duration\",\n",
    "        \"base_start_time_index\",\n",
    "        \"base_end_time_index\",\n",
    "    ]\n",
    ")\n",
    "display(\"Debug Base DataFrame (Shopping):\")\n",
    "display(debug_base_df)\n"
   ]
  },
  {
   "cell_type": "code",
   "execution_count": 23,
   "id": "5ee647ba",
   "metadata": {},
   "outputs": [
    {
     "data": {
      "text/plain": [
       "'Debug Build DataFrame (Shopping):'"
      ]
     },
     "metadata": {},
     "output_type": "display_data"
    },
    {
     "data": {
      "text/html": [
       "<div><style>\n",
       ".dataframe > thead > tr,\n",
       ".dataframe > tbody > tr {\n",
       "  text-align: right;\n",
       "  white-space: pre-wrap;\n",
       "}\n",
       "</style>\n",
       "<small>shape: (1, 14)</small><table border=\"1\" class=\"dataframe\"><thead><tr><th>build_unique_id</th><th>build_household_id</th><th>build_person_id</th><th>build_tour_type</th><th>build_primary_purpose</th><th>build_tour_type_num</th><th>build_tour_type_count</th><th>build_tour_id</th><th>build_tour_mode</th><th>build_duration</th><th>build_start_time_index</th><th>build_end_time_index</th><th>build_origin</th><th>build_destination</th></tr><tr><td>u32</td><td>f64</td><td>f64</td><td>str</td><td>str</td><td>f64</td><td>f64</td><td>i64</td><td>str</td><td>f64</td><td>f64</td><td>f64</td><td>f64</td><td>f64</td></tr></thead><tbody><tr><td>1189428</td><td>302481.0</td><td>858708.0</td><td>&quot;shopping&quot;</td><td>&quot;shopping&quot;</td><td>1.0</td><td>1.0</td><td>42935369</td><td>&quot;SHARED3&quot;</td><td>1.0</td><td>28.0</td><td>29.0</td><td>14843.0</td><td>12724.0</td></tr></tbody></table></div>"
      ],
      "text/plain": [
       "shape: (1, 14)\n",
       "┌─────┬─────┬─────┬─────┬─────┬─────┬─────┬────────┬───────┬───────┬───────┬───────┬───────┬───────┐\n",
       "│ bui ┆ bui ┆ bui ┆ bui ┆ bui ┆ bui ┆ bui ┆ build_ ┆ build ┆ build ┆ build ┆ build ┆ build ┆ build │\n",
       "│ ld_ ┆ ld_ ┆ ld_ ┆ ld_ ┆ ld_ ┆ ld_ ┆ ld_ ┆ tour_i ┆ _tour ┆ _dura ┆ _star ┆ _end_ ┆ _orig ┆ _dest │\n",
       "│ uni ┆ hou ┆ per ┆ tou ┆ pri ┆ tou ┆ tou ┆ d      ┆ _mode ┆ tion  ┆ t_tim ┆ time_ ┆ in    ┆ inati │\n",
       "│ que ┆ seh ┆ son ┆ r_t ┆ mar ┆ r_t ┆ r_t ┆ ---    ┆ ---   ┆ ---   ┆ e_ind ┆ index ┆ ---   ┆ on    │\n",
       "│ _id ┆ old ┆ _id ┆ ype ┆ y_p ┆ ype ┆ ype ┆ i64    ┆ str   ┆ f64   ┆ ex    ┆ ---   ┆ f64   ┆ ---   │\n",
       "│ --- ┆ _id ┆ --- ┆ --- ┆ urp ┆ _nu ┆ _co ┆        ┆       ┆       ┆ ---   ┆ f64   ┆       ┆ f64   │\n",
       "│ u32 ┆ --- ┆ f64 ┆ str ┆ ose ┆ m   ┆ unt ┆        ┆       ┆       ┆ f64   ┆       ┆       ┆       │\n",
       "│     ┆ f64 ┆     ┆     ┆ --- ┆ --- ┆ --- ┆        ┆       ┆       ┆       ┆       ┆       ┆       │\n",
       "│     ┆     ┆     ┆     ┆ str ┆ f64 ┆ f64 ┆        ┆       ┆       ┆       ┆       ┆       ┆       │\n",
       "╞═════╪═════╪═════╪═════╪═════╪═════╪═════╪════════╪═══════╪═══════╪═══════╪═══════╪═══════╪═══════╡\n",
       "│ 118 ┆ 302 ┆ 858 ┆ sho ┆ sho ┆ 1.0 ┆ 1.0 ┆ 429353 ┆ SHARE ┆ 1.0   ┆ 28.0  ┆ 29.0  ┆ 14843 ┆ 12724 │\n",
       "│ 942 ┆ 481 ┆ 708 ┆ ppi ┆ ppi ┆     ┆     ┆ 69     ┆ D3    ┆       ┆       ┆       ┆ .0    ┆ .0    │\n",
       "│ 8   ┆ .0  ┆ .0  ┆ ng  ┆ ng  ┆     ┆     ┆        ┆       ┆       ┆       ┆       ┆       ┆       │\n",
       "└─────┴─────┴─────┴─────┴─────┴─────┴─────┴────────┴───────┴───────┴───────┴───────┴───────┴───────┘"
      ]
     },
     "metadata": {},
     "output_type": "display_data"
    }
   ],
   "source": [
    "debug_build_df = eet_build_df.filter(\n",
    "    (pl.col(\"build_household_id\") == DEBUG_HH_ID) &\n",
    "    (pl.col(\"build_person_id\") == DEBUG_PERSON_ID) &\n",
    "    (pl.col(\"build_tour_type\") == DEBUG_PURPOSE)\n",
    ")\n",
    "display(\"Debug Build DataFrame (Shopping):\")\n",
    "display(debug_build_df)"
   ]
  },
  {
   "cell_type": "markdown",
   "id": "efde1231",
   "metadata": {},
   "source": [
    "The `tour_id` is different. Perhaps this is a joint tour that is leading to the different `tour_id`s?"
   ]
  },
  {
   "cell_type": "markdown",
   "id": "116646d3",
   "metadata": {},
   "source": [
    "#### Question #2: Illustrate bad matches from the base (Monte Carlo) method\n",
    "\n",
    "This example also illustrates the 'Failure: Error term not generated in build' error. Base tour number 5 matches, in terms of time and location, build tour number 3. But because there are only four tours in the build scenario, the error term for the fifth base tour is not generated in the build scenario."
   ]
  },
  {
   "cell_type": "code",
   "execution_count": 24,
   "id": "fee50cf1",
   "metadata": {},
   "outputs": [
    {
     "data": {
      "text/plain": [
       "'Debug Base DataFrame (Escort - Q2):'"
      ]
     },
     "metadata": {},
     "output_type": "display_data"
    },
    {
     "data": {
      "text/html": [
       "<div><style>\n",
       ".dataframe > thead > tr,\n",
       ".dataframe > tbody > tr {\n",
       "  text-align: right;\n",
       "  white-space: pre-wrap;\n",
       "}\n",
       "</style>\n",
       "<small>shape: (6, 14)</small><table border=\"1\" class=\"dataframe\"><thead><tr><th>base_unique_id</th><th>base_household_id</th><th>base_person_id</th><th>base_tour_type</th><th>base_primary_purpose</th><th>base_tour_type_num</th><th>base_tour_type_count</th><th>base_tour_id</th><th>base_tour_mode</th><th>base_duration</th><th>base_start_time_index</th><th>base_end_time_index</th><th>base_origin</th><th>base_destination</th></tr><tr><td>u32</td><td>f64</td><td>f64</td><td>str</td><td>str</td><td>f64</td><td>f64</td><td>i64</td><td>str</td><td>f64</td><td>f64</td><td>f64</td><td>f64</td><td>f64</td></tr></thead><tbody><tr><td>836</td><td>239.0</td><td>641.0</td><td>&quot;escort&quot;</td><td>&quot;escort&quot;</td><td>1.0</td><td>6.0</td><td>32085</td><td>&quot;SHARED3&quot;</td><td>1.0</td><td>8.0</td><td>9.0</td><td>322.0</td><td>23872.0</td></tr><tr><td>837</td><td>239.0</td><td>641.0</td><td>&quot;escort&quot;</td><td>&quot;escort&quot;</td><td>2.0</td><td>6.0</td><td>32086</td><td>&quot;SHARED3&quot;</td><td>1.0</td><td>9.0</td><td>10.0</td><td>322.0</td><td>5702.0</td></tr><tr><td>838</td><td>239.0</td><td>641.0</td><td>&quot;escort&quot;</td><td>&quot;escort&quot;</td><td>3.0</td><td>6.0</td><td>32087</td><td>&quot;WALK&quot;</td><td>1.0</td><td>18.0</td><td>19.0</td><td>322.0</td><td>11186.0</td></tr><tr><td>839</td><td>239.0</td><td>641.0</td><td>&quot;escort&quot;</td><td>&quot;escort&quot;</td><td>4.0</td><td>6.0</td><td>32088</td><td>&quot;SHARED3&quot;</td><td>4.0</td><td>19.0</td><td>23.0</td><td>322.0</td><td>5702.0</td></tr><tr><td>840</td><td>239.0</td><td>641.0</td><td>&quot;escort&quot;</td><td>&quot;escort&quot;</td><td>5.0</td><td>6.0</td><td>32089</td><td>&quot;SHARED2&quot;</td><td>1.0</td><td>23.0</td><td>24.0</td><td>322.0</td><td>23872.0</td></tr><tr><td>841</td><td>239.0</td><td>641.0</td><td>&quot;escort&quot;</td><td>&quot;escort&quot;</td><td>6.0</td><td>6.0</td><td>32090</td><td>&quot;WALK&quot;</td><td>1.0</td><td>25.0</td><td>26.0</td><td>322.0</td><td>11186.0</td></tr></tbody></table></div>"
      ],
      "text/plain": [
       "shape: (6, 14)\n",
       "┌─────┬─────┬─────┬─────┬─────┬─────┬─────┬────────┬───────┬───────┬───────┬───────┬───────┬───────┐\n",
       "│ bas ┆ bas ┆ bas ┆ bas ┆ bas ┆ bas ┆ bas ┆ base_t ┆ base_ ┆ base_ ┆ base_ ┆ base_ ┆ base_ ┆ base_ │\n",
       "│ e_u ┆ e_h ┆ e_p ┆ e_t ┆ e_p ┆ e_t ┆ e_t ┆ our_id ┆ tour_ ┆ durat ┆ start ┆ end_t ┆ origi ┆ desti │\n",
       "│ niq ┆ ous ┆ ers ┆ our ┆ rim ┆ our ┆ our ┆ ---    ┆ mode  ┆ ion   ┆ _time ┆ ime_i ┆ n     ┆ natio │\n",
       "│ ue_ ┆ eho ┆ on_ ┆ _ty ┆ ary ┆ _ty ┆ _ty ┆ i64    ┆ ---   ┆ ---   ┆ _inde ┆ ndex  ┆ ---   ┆ n     │\n",
       "│ id  ┆ ld_ ┆ id  ┆ pe  ┆ _pu ┆ pe_ ┆ pe_ ┆        ┆ str   ┆ f64   ┆ x     ┆ ---   ┆ f64   ┆ ---   │\n",
       "│ --- ┆ id  ┆ --- ┆ --- ┆ rpo ┆ num ┆ cou ┆        ┆       ┆       ┆ ---   ┆ f64   ┆       ┆ f64   │\n",
       "│ u32 ┆ --- ┆ f64 ┆ str ┆ se  ┆ --- ┆ nt  ┆        ┆       ┆       ┆ f64   ┆       ┆       ┆       │\n",
       "│     ┆ f64 ┆     ┆     ┆ --- ┆ f64 ┆ --- ┆        ┆       ┆       ┆       ┆       ┆       ┆       │\n",
       "│     ┆     ┆     ┆     ┆ str ┆     ┆ f64 ┆        ┆       ┆       ┆       ┆       ┆       ┆       │\n",
       "╞═════╪═════╪═════╪═════╪═════╪═════╪═════╪════════╪═══════╪═══════╪═══════╪═══════╪═══════╪═══════╡\n",
       "│ 836 ┆ 239 ┆ 641 ┆ esc ┆ esc ┆ 1.0 ┆ 6.0 ┆ 32085  ┆ SHARE ┆ 1.0   ┆ 8.0   ┆ 9.0   ┆ 322.0 ┆ 23872 │\n",
       "│     ┆ .0  ┆ .0  ┆ ort ┆ ort ┆     ┆     ┆        ┆ D3    ┆       ┆       ┆       ┆       ┆ .0    │\n",
       "│ 837 ┆ 239 ┆ 641 ┆ esc ┆ esc ┆ 2.0 ┆ 6.0 ┆ 32086  ┆ SHARE ┆ 1.0   ┆ 9.0   ┆ 10.0  ┆ 322.0 ┆ 5702. │\n",
       "│     ┆ .0  ┆ .0  ┆ ort ┆ ort ┆     ┆     ┆        ┆ D3    ┆       ┆       ┆       ┆       ┆ 0     │\n",
       "│ 838 ┆ 239 ┆ 641 ┆ esc ┆ esc ┆ 3.0 ┆ 6.0 ┆ 32087  ┆ WALK  ┆ 1.0   ┆ 18.0  ┆ 19.0  ┆ 322.0 ┆ 11186 │\n",
       "│     ┆ .0  ┆ .0  ┆ ort ┆ ort ┆     ┆     ┆        ┆       ┆       ┆       ┆       ┆       ┆ .0    │\n",
       "│ 839 ┆ 239 ┆ 641 ┆ esc ┆ esc ┆ 4.0 ┆ 6.0 ┆ 32088  ┆ SHARE ┆ 4.0   ┆ 19.0  ┆ 23.0  ┆ 322.0 ┆ 5702. │\n",
       "│     ┆ .0  ┆ .0  ┆ ort ┆ ort ┆     ┆     ┆        ┆ D3    ┆       ┆       ┆       ┆       ┆ 0     │\n",
       "│ 840 ┆ 239 ┆ 641 ┆ esc ┆ esc ┆ 5.0 ┆ 6.0 ┆ 32089  ┆ SHARE ┆ 1.0   ┆ 23.0  ┆ 24.0  ┆ 322.0 ┆ 23872 │\n",
       "│     ┆ .0  ┆ .0  ┆ ort ┆ ort ┆     ┆     ┆        ┆ D2    ┆       ┆       ┆       ┆       ┆ .0    │\n",
       "│ 841 ┆ 239 ┆ 641 ┆ esc ┆ esc ┆ 6.0 ┆ 6.0 ┆ 32090  ┆ WALK  ┆ 1.0   ┆ 25.0  ┆ 26.0  ┆ 322.0 ┆ 11186 │\n",
       "│     ┆ .0  ┆ .0  ┆ ort ┆ ort ┆     ┆     ┆        ┆       ┆       ┆       ┆       ┆       ┆ .0    │\n",
       "└─────┴─────┴─────┴─────┴─────┴─────┴─────┴────────┴───────┴───────┴───────┴───────┴───────┴───────┘"
      ]
     },
     "metadata": {},
     "output_type": "display_data"
    },
    {
     "data": {
      "text/plain": [
       "'Debug Build DataFrame (Escort - Q2):'"
      ]
     },
     "metadata": {},
     "output_type": "display_data"
    },
    {
     "data": {
      "text/html": [
       "<div><style>\n",
       ".dataframe > thead > tr,\n",
       ".dataframe > tbody > tr {\n",
       "  text-align: right;\n",
       "  white-space: pre-wrap;\n",
       "}\n",
       "</style>\n",
       "<small>shape: (4, 14)</small><table border=\"1\" class=\"dataframe\"><thead><tr><th>build_unique_id</th><th>build_household_id</th><th>build_person_id</th><th>build_tour_type</th><th>build_primary_purpose</th><th>build_tour_type_num</th><th>build_tour_type_count</th><th>build_tour_id</th><th>build_tour_mode</th><th>build_duration</th><th>build_start_time_index</th><th>build_end_time_index</th><th>build_origin</th><th>build_destination</th></tr><tr><td>u32</td><td>f64</td><td>f64</td><td>str</td><td>str</td><td>f64</td><td>f64</td><td>i64</td><td>str</td><td>f64</td><td>f64</td><td>f64</td><td>f64</td><td>f64</td></tr></thead><tbody><tr><td>836</td><td>239.0</td><td>641.0</td><td>&quot;escort&quot;</td><td>&quot;escort&quot;</td><td>1.0</td><td>4.0</td><td>32085</td><td>&quot;SHARED3&quot;</td><td>1.0</td><td>8.0</td><td>9.0</td><td>322.0</td><td>23872.0</td></tr><tr><td>837</td><td>239.0</td><td>641.0</td><td>&quot;escort&quot;</td><td>&quot;escort&quot;</td><td>2.0</td><td>4.0</td><td>32086</td><td>&quot;WALK&quot;</td><td>4.0</td><td>18.0</td><td>22.0</td><td>322.0</td><td>1834.0</td></tr><tr><td>838</td><td>239.0</td><td>641.0</td><td>&quot;escort&quot;</td><td>&quot;escort&quot;</td><td>3.0</td><td>4.0</td><td>32087</td><td>&quot;WALK&quot;</td><td>1.0</td><td>23.0</td><td>24.0</td><td>322.0</td><td>23872.0</td></tr><tr><td>839</td><td>239.0</td><td>641.0</td><td>&quot;escort&quot;</td><td>&quot;escort&quot;</td><td>4.0</td><td>4.0</td><td>32088</td><td>&quot;WALK&quot;</td><td>2.0</td><td>24.0</td><td>26.0</td><td>322.0</td><td>1834.0</td></tr></tbody></table></div>"
      ],
      "text/plain": [
       "shape: (4, 14)\n",
       "┌─────┬─────┬─────┬─────┬─────┬─────┬─────┬────────┬───────┬───────┬───────┬───────┬───────┬───────┐\n",
       "│ bui ┆ bui ┆ bui ┆ bui ┆ bui ┆ bui ┆ bui ┆ build_ ┆ build ┆ build ┆ build ┆ build ┆ build ┆ build │\n",
       "│ ld_ ┆ ld_ ┆ ld_ ┆ ld_ ┆ ld_ ┆ ld_ ┆ ld_ ┆ tour_i ┆ _tour ┆ _dura ┆ _star ┆ _end_ ┆ _orig ┆ _dest │\n",
       "│ uni ┆ hou ┆ per ┆ tou ┆ pri ┆ tou ┆ tou ┆ d      ┆ _mode ┆ tion  ┆ t_tim ┆ time_ ┆ in    ┆ inati │\n",
       "│ que ┆ seh ┆ son ┆ r_t ┆ mar ┆ r_t ┆ r_t ┆ ---    ┆ ---   ┆ ---   ┆ e_ind ┆ index ┆ ---   ┆ on    │\n",
       "│ _id ┆ old ┆ _id ┆ ype ┆ y_p ┆ ype ┆ ype ┆ i64    ┆ str   ┆ f64   ┆ ex    ┆ ---   ┆ f64   ┆ ---   │\n",
       "│ --- ┆ _id ┆ --- ┆ --- ┆ urp ┆ _nu ┆ _co ┆        ┆       ┆       ┆ ---   ┆ f64   ┆       ┆ f64   │\n",
       "│ u32 ┆ --- ┆ f64 ┆ str ┆ ose ┆ m   ┆ unt ┆        ┆       ┆       ┆ f64   ┆       ┆       ┆       │\n",
       "│     ┆ f64 ┆     ┆     ┆ --- ┆ --- ┆ --- ┆        ┆       ┆       ┆       ┆       ┆       ┆       │\n",
       "│     ┆     ┆     ┆     ┆ str ┆ f64 ┆ f64 ┆        ┆       ┆       ┆       ┆       ┆       ┆       │\n",
       "╞═════╪═════╪═════╪═════╪═════╪═════╪═════╪════════╪═══════╪═══════╪═══════╪═══════╪═══════╪═══════╡\n",
       "│ 836 ┆ 239 ┆ 641 ┆ esc ┆ esc ┆ 1.0 ┆ 4.0 ┆ 32085  ┆ SHARE ┆ 1.0   ┆ 8.0   ┆ 9.0   ┆ 322.0 ┆ 23872 │\n",
       "│     ┆ .0  ┆ .0  ┆ ort ┆ ort ┆     ┆     ┆        ┆ D3    ┆       ┆       ┆       ┆       ┆ .0    │\n",
       "│ 837 ┆ 239 ┆ 641 ┆ esc ┆ esc ┆ 2.0 ┆ 4.0 ┆ 32086  ┆ WALK  ┆ 4.0   ┆ 18.0  ┆ 22.0  ┆ 322.0 ┆ 1834. │\n",
       "│     ┆ .0  ┆ .0  ┆ ort ┆ ort ┆     ┆     ┆        ┆       ┆       ┆       ┆       ┆       ┆ 0     │\n",
       "│ 838 ┆ 239 ┆ 641 ┆ esc ┆ esc ┆ 3.0 ┆ 4.0 ┆ 32087  ┆ WALK  ┆ 1.0   ┆ 23.0  ┆ 24.0  ┆ 322.0 ┆ 23872 │\n",
       "│     ┆ .0  ┆ .0  ┆ ort ┆ ort ┆     ┆     ┆        ┆       ┆       ┆       ┆       ┆       ┆ .0    │\n",
       "│ 839 ┆ 239 ┆ 641 ┆ esc ┆ esc ┆ 4.0 ┆ 4.0 ┆ 32088  ┆ WALK  ┆ 2.0   ┆ 24.0  ┆ 26.0  ┆ 322.0 ┆ 1834. │\n",
       "│     ┆ .0  ┆ .0  ┆ ort ┆ ort ┆     ┆     ┆        ┆       ┆       ┆       ┆       ┆       ┆ 0     │\n",
       "└─────┴─────┴─────┴─────┴─────┴─────┴─────┴────────┴───────┴───────┴───────┴───────┴───────┴───────┘"
      ]
     },
     "metadata": {},
     "output_type": "display_data"
    }
   ],
   "source": [
    "DEBUG_HH_ID = 239\n",
    "DEBUG_PERSON_ID = 641\n",
    "DEBUG_PURPOSE = \"escort\"\n",
    "\n",
    "debug_base_df_q2 = eet_base_df.filter(\n",
    "    (pl.col(\"base_household_id\") == DEBUG_HH_ID) &\n",
    "    (pl.col(\"base_person_id\") == DEBUG_PERSON_ID) &\n",
    "    (pl.col(\"base_tour_type\") == DEBUG_PURPOSE)\n",
    ")\n",
    "display(\"Debug Base DataFrame (Escort - Q2):\")\n",
    "display(debug_base_df_q2)\n",
    "\n",
    "debug_build_df_q2 = eet_build_df.filter(\n",
    "    (pl.col(\"build_household_id\") == DEBUG_HH_ID) &\n",
    "    (pl.col(\"build_person_id\") == DEBUG_PERSON_ID) &\n",
    "    (pl.col(\"build_tour_type\") == DEBUG_PURPOSE)\n",
    ")\n",
    "display(\"Debug Build DataFrame (Escort - Q2):\")\n",
    "display(debug_build_df_q2)\n",
    "\n"
   ]
  }
 ],
 "metadata": {
  "kernelspec": {
   "display_name": "Python 3 (ipykernel)",
   "language": "python",
   "name": "python3"
  },
  "language_info": {
   "codemirror_mode": {
    "name": "ipython",
    "version": 3
   },
   "file_extension": ".py",
   "mimetype": "text/x-python",
   "name": "python",
   "nbconvert_exporter": "python",
   "pygments_lexer": "ipython3",
   "version": "3.13.3"
  }
 },
 "nbformat": 4,
 "nbformat_minor": 5
}
