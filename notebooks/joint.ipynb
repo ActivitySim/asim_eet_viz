{
 "cells": [
  {
   "cell_type": "raw",
   "id": "2fe4ea47",
   "metadata": {
    "vscode": {
     "languageId": "raw"
    }
   },
   "source": [
    "---\n",
    "title: Joint Models\n",
    "date: today\n",
    "---"
   ]
  },
  {
   "cell_type": "code",
   "execution_count": null,
   "id": "777881ca",
   "metadata": {},
   "outputs": [],
   "source": [
    "import pandas as pd\n",
    "import yaml\n",
    "import plotly.io as pio\n",
    "pio.renderers.default = \"plotly_mimetype+notebook_connected\"\n",
    "\n",
    "from IPython.display import Markdown, display\n",
    "import visualizer_helpers as vh"
   ]
  },
  {
   "cell_type": "code",
   "execution_count": null,
   "id": "4599ebaa",
   "metadata": {
    "tags": [
     "parameters"
    ]
   },
   "outputs": [],
   "source": [
    "# NOTE: SPECIALLY TAGGED PARAMETERS CELL\n",
    "# Assignments in this cell may be overwritten at compile-time\n",
    "# Otherwise, the below defaults to not filtering any zones\n",
    "zone_set: str = 'all'\n",
    "how_method: str = 'any'\n",
    "affected_tazs: list = []\n",
    "affected_mazs: list = []"
   ]
  },
  {
   "cell_type": "code",
   "execution_count": null,
   "id": "2d734b8a",
   "metadata": {},
   "outputs": [],
   "source": [
    "# file IO locations\n",
    "with open('_quarto.yml') as f:\n",
    "    config = yaml.safe_load(f)\n",
    "base_dir = config['sources']['base']\n",
    "build_dir = config['sources']['build']\n"
   ]
  },
  {
   "cell_type": "code",
   "execution_count": null,
   "id": "c356d581",
   "metadata": {},
   "outputs": [],
   "source": [
    "name_dict = {'escort': \"Escorting\", \n",
    "             'work': \"Work\", \n",
    "             'school': \"School\", \n",
    "             'othmaint': \"Other-Maintenance\",\n",
    "             'othdiscr': \"Other-Discretionary\", \n",
    "             'shopping': \"Shopping\",\n",
    "             'atwork': \"At-work Subtour\", \n",
    "             'eatout': \"Eat Out\", \n",
    "             'social' : \"Social\", \n",
    "             'univ': \"University\"}"
   ]
  },
  {
   "cell_type": "code",
   "execution_count": null,
   "id": "881894fd",
   "metadata": {},
   "outputs": [],
   "source": [
    "# get corresponding filter from zone_set parameter\n",
    "single_filter_tazs, multi_filter_tazs = vh.get_filters(zone_set, how_method, affected_tazs)\n",
    "single_filter_mazs, multi_filter_mazs = vh.get_filters(zone_set, how_method, affected_mazs)"
   ]
  },
  {
   "cell_type": "code",
   "execution_count": null,
   "id": "733a894b",
   "metadata": {},
   "outputs": [],
   "source": [
    "# unfiltered file input\n",
    "\n",
    "base_tour = pd.read_csv(f\"{base_dir}/final_tours.csv\", \n",
    "                        index_col='tour_id', \n",
    "                        usecols=['tour_id','tour_category','origin','destination','primary_purpose','number_of_participants','start','end'])\n",
    "\n",
    "# this will be used in filtering the base tours\n",
    "base_tour_idx = base_tour.index\n",
    "\n",
    "build_tour = pd.read_csv(f\"{build_dir}/final_tours.csv\", \n",
    "                         index_col='tour_id', \n",
    "                         usecols=['tour_id','tour_category','origin','destination','primary_purpose','number_of_participants','start','end'])\n"
   ]
  },
  {
   "cell_type": "code",
   "execution_count": null,
   "id": "d0463b60",
   "metadata": {},
   "outputs": [],
   "source": [
    "print(f\"\"\"Filtering tours by origin {\n",
    "    'and' if how_method == 'all' else 'or' if how_method == 'any' else '???'\n",
    "    } destination TAZ.\\nOriginal tours in base: {len(base_tour)}\\tbuild: {len(build_tour)}\"\"\")\n",
    "\n",
    "base_tour = base_tour[multi_filter_mazs([base_tour.origin, base_tour.destination])] # base tour in the filtered set\n",
    "\n",
    "# special build-case filtering\n",
    "build_tour = build_tour[(\n",
    "    build_tour.index.isin(base_tour_idx) # originally existed in base\n",
    "    & build_tour.index.isin(base_tour.index)    # and was in the current set for the base\n",
    "    ) |     # OR\n",
    "    ((~build_tour.index.isin(base_tour_idx)) # is a new tour \n",
    "     & multi_filter_mazs([build_tour.origin, build_tour.destination]) # and it's in this set\n",
    "     )]\n",
    "\n",
    "print(f\"After filtering, tours in base: {len(base_tour)}\\tbuild: {len(build_tour)}\")"
   ]
  },
  {
   "cell_type": "markdown",
   "id": "e5b637a7",
   "metadata": {},
   "source": [
    "## Joint Tour Participation"
   ]
  },
  {
   "cell_type": "code",
   "execution_count": null,
   "id": "d2d8c2e8",
   "metadata": {},
   "outputs": [],
   "source": [
    "base_persons_df = pd.read_csv(\n",
    "    f\"{base_dir}/final_persons.csv\",\n",
    "    index_col=\"person_id\",\n",
    "    usecols=[\n",
    "        \"person_id\",\n",
    "        \"num_joint_tours\",\n",
    "        'home_zone_id'\n",
    "    ]\n",
    ")\n",
    "\n",
    "build_persons_df = pd.read_csv(\n",
    "    f\"{build_dir}/final_persons.csv\",\n",
    "    index_col=\"person_id\",\n",
    "    usecols=[\n",
    "        \"person_id\",\n",
    "        \"num_joint_tours\",\n",
    "        'home_zone_id'\n",
    "    ]\n",
    ")"
   ]
  },
  {
   "cell_type": "code",
   "execution_count": null,
   "id": "ce170484",
   "metadata": {},
   "outputs": [],
   "source": [
    "print(f\"Filtering persons by home MAZ. Original Persons: {len(base_persons_df)}\")\n",
    "base_persons_df = base_persons_df[single_filter_mazs(base_persons_df.home_zone_id)]\n",
    "build_persons_df = build_persons_df[single_filter_mazs(build_persons_df.home_zone_id)]\n",
    "print(f\"Persons after filtering: {len(base_persons_df)}\")"
   ]
  },
  {
   "cell_type": "code",
   "execution_count": null,
   "id": "ec36a963",
   "metadata": {},
   "outputs": [],
   "source": [
    "df = pd.crosstab(\n",
    "    base_persons_df.num_joint_tours,\n",
    "    build_persons_df.num_joint_tours,\n",
    "    rownames=['Base'],\n",
    "    colnames=['Build'],\n",
    "    margins=True,\n",
    "    margins_name='Total'\n",
    ")\n",
    "\n",
    "df"
   ]
  },
  {
   "cell_type": "markdown",
   "id": "61ac484b",
   "metadata": {},
   "source": [
    "## Joint Tour Destinations"
   ]
  },
  {
   "cell_type": "code",
   "execution_count": null,
   "id": "d1bda6a7",
   "metadata": {},
   "outputs": [],
   "source": [
    "df = base_tour[base_tour.number_of_participants > 1].merge(build_tour[build_tour.number_of_participants > 1],\n",
    "                                                           how='outer',\n",
    "                                                           left_index=True,\n",
    "                                                           right_index=True,\n",
    "                                                           suffixes=('_base','_build'))"
   ]
  },
  {
   "cell_type": "code",
   "execution_count": null,
   "id": "c5eb98eb",
   "metadata": {},
   "outputs": [],
   "source": [
    "df.loc[df.destination_base == df.destination_build,'Case'] = \"Unchanged\"\n",
    "df.loc[df.destination_base != df.destination_build,'Case'] = \"Changed\"\n",
    "\n",
    "df.loc[df.destination_base.isna(),'Case'] = \"Newly Created\"\n",
    "df.loc[df.destination_build.isna(),\"Case\"] = \"Removed\"\n"
   ]
  },
  {
   "cell_type": "code",
   "execution_count": null,
   "id": "f1adc232",
   "metadata": {},
   "outputs": [],
   "source": [
    "df = df.Case.value_counts()\n",
    "\n",
    "df"
   ]
  },
  {
   "cell_type": "code",
   "execution_count": null,
   "id": "80e799cd",
   "metadata": {},
   "outputs": [],
   "source": [
    "fig = vh.create_pie_chart(df.to_frame().sort_index(),[\"count\"])\n",
    "fig.show()"
   ]
  },
  {
   "cell_type": "raw",
   "id": "6614e295",
   "metadata": {},
   "source": [
    "::: {.panel-tabset}"
   ]
  },
  {
   "cell_type": "code",
   "execution_count": null,
   "id": "1d0376bc",
   "metadata": {},
   "outputs": [],
   "source": [
    "# | output: asis\n",
    "# above comment is needed for Quarto to render subtabs correctly\n",
    "\n",
    "\n",
    "for key, value in name_dict.items():\n",
    "\n",
    "    if len(base_tour[\n",
    "        (base_tour.number_of_participants > 1)\n",
    "        & (base_tour.primary_purpose == key)\n",
    "        ]) == 0:\n",
    "        continue\n",
    "    \n",
    "    print(f\"#### {value}\")\n",
    "    df = base_tour[\n",
    "        (base_tour.number_of_participants > 1)\n",
    "        & (base_tour.primary_purpose == key)\n",
    "        ].merge(build_tour[\n",
    "                (build_tour.number_of_participants > 1)\n",
    "                & (build_tour.primary_purpose == key)\n",
    "            ],\n",
    "                how='left',\n",
    "                left_index=True,\n",
    "                right_index=True,\n",
    "                suffixes=('_base','_build'))\n",
    "    \n",
    "    df.loc[df.destination_base == df.destination_build,'Case'] = \"Unchanged\"\n",
    "    df.loc[df.destination_base != df.destination_build,'Case'] = \"Changed\"\n",
    "    df.loc[df.destination_base.isna(),'Case'] = \"Newly Created\"\n",
    "    df.loc[df.destination_build.isna(),\"Case\"] = \"Removed\"\n",
    "\n",
    "    \n",
    "    df = df.Case.value_counts()\n",
    "    print(str(df).replace(\"\\n\",\"<br>\"))\n",
    "    \n",
    "    fig = vh.create_pie_chart(df.to_frame().sort_index(),[\"count\"])\n",
    "    \n",
    "    fig.show()\n",
    "    display(Markdown(\" \"))"
   ]
  },
  {
   "cell_type": "raw",
   "id": "94fea986",
   "metadata": {},
   "source": [
    ":::"
   ]
  },
  {
   "cell_type": "markdown",
   "id": "3dc912b0",
   "metadata": {},
   "source": [
    "## Joint Tour Scheduling"
   ]
  },
  {
   "cell_type": "code",
   "execution_count": null,
   "id": "de093650",
   "metadata": {},
   "outputs": [],
   "source": [
    "base_tours_df = base_tour[base_tour.number_of_participants > 1]\n",
    "build_tours_df = build_tour[build_tour.number_of_participants > 1]\n",
    "\n",
    "# translate time bin to time period index\n",
    "base_tours_df['start_period'] = base_tours_df.start.apply(vh.get_time_period_index)\n",
    "build_tours_df['start_period'] = build_tours_df.start.apply(vh.get_time_period_index)\n",
    "\n",
    "base_tours_df['end_period'] = base_tours_df.end.apply(vh.get_time_period_index)\n",
    "build_tours_df['end_period'] = build_tours_df.end.apply(vh.get_time_period_index)"
   ]
  },
  {
   "cell_type": "code",
   "execution_count": null,
   "id": "fd82381e",
   "metadata": {},
   "outputs": [],
   "source": [
    "# join base and build tours on tour_id\n",
    "# compare tours that are in both base and build datasets\n",
    "df = pd.merge(\n",
    "    base_tours_df,\n",
    "    build_tours_df,\n",
    "    left_index=True,\n",
    "    right_index=True,\n",
    "    suffixes=('_base', '_build'),\n",
    "    how='inner'\n",
    ")\n",
    "\n",
    "# get the difference in start and end times\n",
    "df['start_bin_difference'] = df.start_build - df.start_base\n",
    "df['end_bin_difference'] = df.end_build - df.end_base\n",
    "\n",
    "# get the difference in start and end time periods\n",
    "df['start_period_difference'] = df.start_period_build - df.start_period_base\n",
    "df['end_period_difference'] = df.end_period_build - df.end_period_base"
   ]
  },
  {
   "cell_type": "raw",
   "id": "6476db8c",
   "metadata": {
    "vscode": {
     "languageId": "raw"
    }
   },
   "source": [
    "::: {.panel-tabset}"
   ]
  },
  {
   "cell_type": "code",
   "execution_count": null,
   "id": "267bc118",
   "metadata": {},
   "outputs": [],
   "source": [
    "# | output: asis\n",
    "# above comment is needed for Quarto to render subtabs correctly\n",
    "\n",
    "for key in ['bin', 'period']:\n",
    "    for metric in ['start', 'end']:\n",
    "        purpose_df = df\n",
    "        display(Markdown(f\"### Joint Tour {metric.capitalize()} Time {key.capitalize()} Difference\"))\n",
    "        purpose_df = df.groupby(f'{metric}_{key}_difference').size().reset_index()\n",
    "        purpose_df.columns = [f'{metric}_{key}_difference', 'count']\n",
    "        purpose_df = purpose_df.sort_values(by=f'{metric}_{key}_difference')\n",
    "\n",
    "        fig = vh.create_bar_chart(\n",
    "            source_data=purpose_df,\n",
    "            source=f'{metric}_{key}_difference',\n",
    "            col=f'{metric}_{key}_difference',\n",
    "            plot_col='count',\n",
    "            # title=f\"{purpose.capitalize()} Tour {metric.capitalize()} Time Difference\",\n",
    "        )\n",
    "        fig.show()\n",
    "        display(Markdown(\" \"))"
   ]
  },
  {
   "cell_type": "raw",
   "id": "587cedc4",
   "metadata": {
    "vscode": {
     "languageId": "raw"
    }
   },
   "source": [
    ":::"
   ]
  }
 ],
 "metadata": {
  "kernelspec": {

   "display_name": "asimviz",
   "language": "python",
   "name": "python3"
  },
  "language_info": {
   "name": "python",

   "version": "3.12.9"
  }
 },
 "nbformat": 4,
 "nbformat_minor": 5
}
