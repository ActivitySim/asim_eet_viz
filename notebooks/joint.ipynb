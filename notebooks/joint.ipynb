{
 "cells": [
  {
   "cell_type": "raw",
   "id": "2fe4ea47",
   "metadata": {
    "vscode": {
     "languageId": "raw"
    }
   },
   "source": [
    "---\n",
    "title: Joint Models\n",
    "date: today\n",
    "---"
   ]
  },
  {
   "cell_type": "code",
   "execution_count": null,
   "id": "777881ca",
   "metadata": {},
   "outputs": [],
   "source": [
    "import pandas as pd\n",
    "import yaml\n",
    "import plotly.io as pio\n",
    "pio.renderers.default = \"plotly_mimetype+notebook_connected\"\n",
    "\n",
    "from IPython.display import Markdown, display\n",
    "import visualizer_helpers as vh"
   ]
  },
  {
   "cell_type": "code",
   "execution_count": null,
   "id": "4599ebaa",
   "metadata": {
    "tags": [
     "parameters"
    ]
   },
   "outputs": [],
   "source": [
    "# NOTE: SPECIALLY TAGGED PARAMETERS CELL\n",
    "# Assignments in this cell may be overwritten at compile-time\n",
    "# Otherwise, the below defaults to not filtering any zones\n",
    "zone_set: str = 'all'\n",
    "affected_tazs: list = []\n",
    "affected_mazs: list = []"
   ]
  },
  {
   "cell_type": "code",
   "execution_count": null,
   "id": "5242e314",
   "metadata": {},
   "outputs": [],
   "source": [
    "# get corresponding filter from zone_set parameter\n",
    "filter_tazs, filter_mazs = vh.get_filters(zone_set,\n",
    "                                          affected_tazs=affected_tazs,\n",
    "                                          affected_mazs=affected_mazs\n",
    "                                        )"
   ]
  },
  {
   "cell_type": "code",
   "execution_count": null,
   "id": "2d734b8a",
   "metadata": {},
   "outputs": [],
   "source": [
    "# file IO locations\n",
    "with open('_quarto.yml') as f:\n",
    "    config = yaml.safe_load(f)\n",
    "base_dir = config['sources']['base']\n",
    "build_dir = config['sources']['build']\n"
   ]
  },
  {
   "cell_type": "code",
   "execution_count": null,
   "id": "c356d581",
   "metadata": {},
   "outputs": [],
   "source": [
    "name_dict = {'escort': \"Escorting\", \n",
    "             'work': \"Work\", \n",
    "             'school': \"School\", \n",
    "             'othmaint': \"Other-Maintenance\",\n",
    "             'othdiscr': \"Other-Discretionary\", \n",
    "             'shopping': \"Shopping\",\n",
    "             'atwork': \"At-work Subtour\", \n",
    "             'eatout': \"Eat Out\", \n",
    "             'social' : \"Social\", \n",
    "             'univ': \"University\"}"
   ]
  },
  {
   "cell_type": "markdown",
   "id": "e5b637a7",
   "metadata": {},
   "source": [
    "## Joint Tour Participation"
   ]
  },
  {
   "cell_type": "code",
   "execution_count": null,
   "id": "d2d8c2e8",
   "metadata": {},
   "outputs": [],
   "source": [
    "print(\"Lorem ipsum\") # Placeholder for WSP"
   ]
  },
  {
   "cell_type": "markdown",
   "id": "61ac484b",
   "metadata": {},
   "source": [
    "## Joint Tour Destinations"
   ]
  },
  {
   "cell_type": "code",
   "execution_count": null,
   "id": "881894fd",
   "metadata": {},
   "outputs": [],
   "source": [
    "base_tour = pd.read_csv(f\"{base_dir}/final_tours.csv\", \n",
    "                        index_col='tour_id', \n",
    "                        usecols=['tour_id','number_of_participants','destination','primary_purpose'])\n",
    "\n",
    "build_tour = pd.read_csv(f\"{build_dir}/final_tours.csv\", \n",
    "                         index_col='tour_id', \n",
    "                         usecols=['tour_id','number_of_participants','destination','primary_purpose'])\n"
   ]
  },
  {
   "cell_type": "code",
   "execution_count": null,
   "id": "e30a7fa2",
   "metadata": {},
   "outputs": [],
   "source": [
    "print(f\"Filtering tours by destination. Original tours: {len(base_tour)}\")\n",
    "base_tour = base_tour[filter_tazs(base_tour.destination)]\n",
    "print(f\"Tours after filtering: {len(base_tour)}\")"
   ]
  },
  {
   "cell_type": "code",
   "execution_count": null,
   "id": "f1adc232",
   "metadata": {},
   "outputs": [],
   "source": [
    "df = base_tour[base_tour.number_of_participants > 1].merge(build_tour,\n",
    "                                                           how='left',\n",
    "                                                           left_index=True,\n",
    "                                                           right_index=True,\n",
    "                                                           suffixes=('_base','_build'))\n",
    "\n",
    "df = (df.destination_base == df.destination_build).value_counts()\n",
    "df.index = df.index.map({True:'No Change',False:'Change'})\n",
    "df"
   ]
  },
  {
   "cell_type": "code",
   "execution_count": null,
   "id": "80e799cd",
   "metadata": {},
   "outputs": [],
   "source": [
    "fig = vh.create_pie_chart(df.to_frame(),[\"count\"])\n",
    "fig.show()"
   ]
  },
  {
   "cell_type": "raw",
   "id": "6614e295",
   "metadata": {},
   "source": [
    "::: {.panel-tabset}"
   ]
  },
  {
   "cell_type": "code",
   "execution_count": null,
   "id": "1d0376bc",
   "metadata": {},
   "outputs": [],
   "source": [
    "# | output: asis\n",
    "# above comment is needed for Quarto to render subtabs correctly\n",
    "\n",
    "\n",
    "for key, value in name_dict.items():\n",
    "\n",
    "    if len(base_tour[\n",
    "        (base_tour.number_of_participants > 1)\n",
    "        & (base_tour.primary_purpose == key)\n",
    "        ]) == 0:\n",
    "        continue\n",
    "    \n",
    "    print(f\"#### {value}\")\n",
    "    df = base_tour[\n",
    "        (base_tour.number_of_participants > 1)\n",
    "        & (base_tour.primary_purpose == key)\n",
    "        ].merge(build_tour,\n",
    "                how='left',\n",
    "                left_index=True,\n",
    "                right_index=True,\n",
    "                suffixes=('_base','_build'))\n",
    "    \n",
    "    df = (df.destination_base == df.destination_build).value_counts()\n",
    "    df.index = df.index.map({True:'No Change',False:'Change'})\n",
    "    print(str(df).replace(\"\\n\",\"<br>\"))\n",
    "    \n",
    "    fig = vh.create_pie_chart(df.to_frame(),[\"count\"])\n",
    "    \n",
    "    fig.show()\n",
    "    display(Markdown(\" \"))"
   ]
  },
  {
   "cell_type": "raw",
   "id": "94fea986",
   "metadata": {},
   "source": [
    ":::"
   ]
  },
  {
   "cell_type": "markdown",
   "id": "3dc912b0",
   "metadata": {},
   "source": [
    "## Joint Tour Scheduling"
   ]
  },
  {
   "cell_type": "code",
   "execution_count": null,
   "id": "de093650",
   "metadata": {},
   "outputs": [],
   "source": [
    "print(\"Lorem ipsum\") # Placeholder for WSP"
   ]
  }
 ],
 "metadata": {
  "language_info": {
   "name": "python"
  }
 },
 "nbformat": 4,
 "nbformat_minor": 5
}
