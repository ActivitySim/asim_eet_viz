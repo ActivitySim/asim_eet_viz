{
 "cells": [
  {
   "cell_type": "raw",
   "id": "155d0f85",
   "metadata": {
    "vscode": {
     "languageId": "raw"
    }
   },
   "source": [
    "---\n",
    "title: Tour Models\n",
    "date: today\n",
    "---"
   ]
  },
  {
   "cell_type": "code",
   "execution_count": null,
   "id": "5f97b388",
   "metadata": {},
   "outputs": [],
   "source": [
    "import pandas as pd\n",
    "import numpy as np\n",
    "import yaml\n",
    "import plotly.io as pio\n",
    "pio.renderers.default = \"plotly_mimetype+notebook_connected\"\n",
    "\n",
    "from IPython.display import Markdown, display\n",
    "\n",
    "import visualizer_helpers as vh\n",
    "\n",
    "pd.set_option('display.max_rows',100)"
   ]
  },
  {
   "cell_type": "code",
   "execution_count": null,
   "id": "93821c7f",
   "metadata": {
    "tags": [
     "parameters"
    ]
   },
   "outputs": [],
   "source": [
    "# NOTE: SPECIALLY TAGGED PARAMETERS CELL\n",
    "# Assignments in this cell may be overwritten at compile-time\n",
    "# Otherwise, the below defaults to not filtering any zones\n",
    "zone_set: str = 'all'\n",
    "how_method: str = 'any'\n",
    "affected_tazs: list = []\n",
    "affected_mazs: list = []"
   ]
  },
  {
   "cell_type": "code",
   "execution_count": null,
   "id": "3a40fdb9",
   "metadata": {},
   "outputs": [],
   "source": [
    "# get corresponding filter from zone_set parameter\n",
    "single_filter_tazs, multi_filter_tazs = vh.get_filters(zone_set, how_method, affected_tazs)\n",
    "single_filter_mazs, multi_filter_mazs = vh.get_filters(zone_set, how_method, affected_mazs)"
   ]
  },
  {
   "cell_type": "code",
   "execution_count": null,
   "id": "1222b87a",
   "metadata": {},
   "outputs": [],
   "source": [
    "# file IO locations\n",
    "with open('_quarto.yml') as f:\n",
    "    config = yaml.safe_load(f)\n",
    "base_dir = config['sources']['base']\n",
    "build_dir = config['sources']['build']"
   ]
  },
  {
   "cell_type": "code",
   "execution_count": null,
   "id": "926736b3",
   "metadata": {},
   "outputs": [],
   "source": [
    "base_tour = pd.read_csv(f\"{base_dir}/final_tours.csv\", \n",
    "                        index_col='tour_id', \n",
    "                        usecols=['tour_id','tour_category','origin','destination','primary_purpose','person_id','start','end','tour_type'])\n",
    "\n",
    "base_tour_idx = base_tour.index\n",
    "\n",
    "build_tour = pd.read_csv(f\"{build_dir}/final_tours.csv\", \n",
    "                         index_col='tour_id', \n",
    "                         usecols=['tour_id','tour_category','origin','destination','primary_purpose','person_id','start','end','tour_type'])\n"
   ]
  },
  {
   "cell_type": "code",
   "execution_count": null,
   "id": "be0762ef",
   "metadata": {},
   "outputs": [],
   "source": [
    "print(f\"\"\"Filtering tours by origin {\n",
    "    'and' if how_method == 'all' else 'or' if how_method == 'any' else '???'\n",
    "    } destination MAZ.\\nOriginal tours in base: {len(base_tour)}\\tbuild: {len(build_tour)}\\tdiff: {len(build_tour)-len(base_tour)}\"\"\")\n",
    "\n",
    "base_tour = base_tour[multi_filter_mazs([base_tour.origin, base_tour.destination])] # base tour in the filtered set\n",
    "\n",
    "# special build-case filtering\n",
    "build_tour = build_tour[(\n",
    "    build_tour.index.isin(base_tour_idx) # originally existed in base\n",
    "    & build_tour.index.isin(base_tour.index)    # and was in the current set for the base\n",
    "    ) |     # OR\n",
    "    ((~build_tour.index.isin(base_tour_idx)) # is a new tour \n",
    "     & multi_filter_mazs([build_tour.origin, build_tour.destination]) # and it's in this set\n",
    "     )]\n",
    "\n",
    "print(f\"After filtering, tours in base: {len(base_tour)}\\tbuild: {len(build_tour)}\\tdiff: {len(build_tour)-len(base_tour)}\")"
   ]
  },
  {
   "cell_type": "code",
   "execution_count": null,
   "id": "a5de2921",
   "metadata": {},
   "outputs": [],
   "source": [
    "name_dict = {'escort': \"Escorting\", \n",
    "             'work': \"Work\", \n",
    "             'school': \"School\", \n",
    "             'othmaint': \"Other-Maintenance\",\n",
    "             'othdiscr': \"Other-Discretionary\", \n",
    "             'shopping': \"Shopping\",\n",
    "             'atwork': \"At-work Subtour\", \n",
    "             'eatout': \"Eat Out\", \n",
    "             'social' : \"Social\", \n",
    "             'univ': \"University\"}"
   ]
  },
  {
   "cell_type": "markdown",
   "id": "02abda8e",
   "metadata": {},
   "source": [
    "## Non-Mandatory Tour Destinations"
   ]
  },
  {
   "cell_type": "code",
   "execution_count": null,
   "id": "c3027c7d",
   "metadata": {},
   "outputs": [],
   "source": [
    "df = base_tour[base_tour.tour_category == 'non_mandatory'].merge(build_tour[build_tour.tour_category == 'non_mandatory'],\n",
    "                                                                 how='outer',\n",
    "                                                                 left_index=True,\n",
    "                                                                 right_index=True,\n",
    "                                                                 suffixes=('_base','_build'))\n",
    "\n"
   ]
  },
  {
   "cell_type": "code",
   "execution_count": null,
   "id": "34fd0746",
   "metadata": {},
   "outputs": [],
   "source": [
    "df.loc[df.destination_base == df.destination_build,'Case'] = \"Unchanged\"\n",
    "df.loc[df.destination_base != df.destination_build,'Case'] = \"Changed\"\n",
    "\n",
    "df.loc[df.destination_base.isna(),'Case'] = \"Newly Created\"\n",
    "df.loc[df.destination_build.isna(),\"Case\"] = \"Removed\"\n"
   ]
  },
  {
   "cell_type": "code",
   "execution_count": null,
   "id": "95835ee0",
   "metadata": {},
   "outputs": [],
   "source": [
    "df = df.Case.value_counts()\n",
    "\n",
    "df"
   ]
  },
  {
   "cell_type": "code",
   "execution_count": null,
   "id": "fba6627b",
   "metadata": {},
   "outputs": [],
   "source": [
    "fig = vh.create_pie_chart(df.to_frame().sort_index(),[\"count\"])\n",
    "fig.show()"
   ]
  },
  {
   "cell_type": "raw",
   "id": "fb5d3b94",
   "metadata": {},
   "source": [
    "::: {.panel-tabset}"
   ]
  },
  {
   "cell_type": "code",
   "execution_count": null,
   "id": "5ecb0e5e",
   "metadata": {},
   "outputs": [],
   "source": [
    "# | output: asis\n",
    "# above comment is needed for Quarto to render subtabs correctly\n",
    "\n",
    "for key, value in name_dict.items():\n",
    "\n",
    "    if len(base_tour[\n",
    "        (base_tour.tour_category == 'non_mandatory')\n",
    "        & (base_tour.primary_purpose == key)\n",
    "        ]) == 0:\n",
    "        continue\n",
    "    \n",
    "    print(f\"#### {value}\")\n",
    "    df = base_tour[\n",
    "        (base_tour.tour_category == 'non_mandatory')\n",
    "        & (base_tour.primary_purpose == key)\n",
    "        ].merge(build_tour[\n",
    "                    (build_tour.tour_category == 'non_mandatory')\n",
    "                    & (build_tour.primary_purpose == key)\n",
    "                ],\n",
    "                how='left',\n",
    "                left_index=True,\n",
    "                right_index=True,\n",
    "                suffixes=('_base','_build'))\n",
    "    \n",
    "    df.loc[df.destination_base == df.destination_build,'Case'] = \"Unchanged\"\n",
    "    df.loc[df.destination_base != df.destination_build,'Case'] = \"Changed\"\n",
    "\n",
    "    df.loc[df.destination_base.isna(),'Case'] = \"Newly Created\"\n",
    "    df.loc[df.destination_build.isna(),\"Case\"] = \"Removed\"\n",
    "\n",
    "    \n",
    "    df = df.Case.value_counts()\n",
    "\n",
    "    print(str(df).replace(\"\\n\",\"<br>\"))\n",
    "    \n",
    "    fig = vh.create_pie_chart(df.to_frame().sort_index(),[\"count\"])\n",
    "    \n",
    "    fig.show()\n",
    "    display(Markdown(\" \"))"
   ]
  },
  {
   "cell_type": "raw",
   "id": "8fa5cf90",
   "metadata": {},
   "source": [
    ":::"
   ]
  },
  {
   "cell_type": "markdown",
   "id": "fb9a96b8",
   "metadata": {},
   "source": [
    "## Mandatory Tour Scheduling"
   ]
  },
  {
   "cell_type": "code",
   "execution_count": null,
   "id": "f145c393",
   "metadata": {},
   "outputs": [],
   "source": [
    "# keep only work and school tours\n",
    "base_tours_df = base_tour[base_tour.tour_type.isin(['work', 'school'])]\n",
    "base_tour_idx = base_tours_df.index\n",
    "\n",
    "build_tours_df = build_tour[build_tour.tour_type.isin(['work', 'school'])]"
   ]
  },
  {
   "cell_type": "code",
   "execution_count": null,
   "id": "457848a7",
   "metadata": {},
   "outputs": [],
   "source": [
    "# translate time bin to time period index\n",
    "base_tours_df['start_period'] = base_tours_df.start.apply(vh.get_time_period_index)\n",
    "build_tours_df['start_period'] = build_tours_df.start.apply(vh.get_time_period_index)\n",
    "\n",
    "base_tours_df['end_period'] = base_tours_df.end.apply(vh.get_time_period_index)\n",
    "build_tours_df['end_period'] = build_tours_df.end.apply(vh.get_time_period_index)"
   ]
  },
  {
   "cell_type": "code",
   "execution_count": null,
   "id": "09898570",
   "metadata": {},
   "outputs": [],
   "source": [
    "# join base and build tours on tour_id\n",
    "# compare tours that are in both base and build datasets\n",
    "df = pd.merge(\n",
    "    base_tours_df,\n",
    "    build_tours_df,\n",
    "    left_index=True,\n",
    "    right_index=True,\n",
    "    suffixes=('_base', '_build'),\n",
    "    how='inner'\n",
    ")\n",
    "\n",
    "# get the difference in start and end times\n",
    "df['start_bin_difference'] = df.start_build - df.start_base\n",
    "df['end_bin_difference'] = df.end_build - df.end_base\n",
    "\n",
    "# get the difference in start and end time periods\n",
    "df['start_period_difference'] = df.start_period_build - df.start_period_base\n",
    "df['end_period_difference'] = df.end_period_build - df.end_period_base"
   ]
  },
  {
   "cell_type": "code",
   "execution_count": null,
   "id": "aa33d1d1",
   "metadata": {},
   "outputs": [],
   "source": [
    "summary_text = f\"\"\"**Mandatory tour scheduling changes:**\n",
    "    Tours which departed earlier in build: {len(df[df.start_bin_difference < 0])}\n",
    "    Tours which departed in the same bin in build: {len(df[df.start_bin_difference == 0])}\n",
    "    Tours which departed later in build: {len(df[df.start_bin_difference > 0])}\n",
    "\n",
    "    Tours which arrived earlier in build: {len(df[df.end_bin_difference < 0])}\n",
    "    Tours which arrived in the same bin in build: {len(df[df.end_bin_difference == 0 ])}\n",
    "    Tours which arrived later in build: {len(df[df.end_bin_difference > 0])}\n",
    "\"\"\"\n",
    "display(Markdown(summary_text.replace(\"\\n\",\"<br>\")))"
   ]
  },
  {
   "cell_type": "markdown",
   "id": "1e2fd03e",
   "metadata": {},
   "source": [
    "### Tour departures"
   ]
  },
  {
   "cell_type": "code",
   "execution_count": null,
   "id": "0bc95459",
   "metadata": {},
   "outputs": [],
   "source": [
    "mapper = {\n",
    "    0: \"EA\",\n",
    "    1: \"AM\",\n",
    "    2: \"MD\",\n",
    "    3: \"PM\",\n",
    "    4: \"EV\"\n",
    "}\n",
    "tp_order = ['EA','AM','MD','PM','EV','Total']\n",
    "xtab = pd.crosstab(\n",
    "    df.start_period_base.replace(mapper),\n",
    "    df.start_period_build.replace(mapper),\n",
    "    margins=True,\n",
    "    margins_name='Total'\n",
    ")\n",
    "display(xtab.loc[tp_order,tp_order])"
   ]
  },
  {
   "cell_type": "raw",
   "id": "0f2771a3",
   "metadata": {},
   "source": [
    "::: {.panel-tabset}"
   ]
  },
  {
   "cell_type": "code",
   "execution_count": null,
   "id": "c8eb4a34",
   "metadata": {},
   "outputs": [],
   "source": [
    "# | output: asis\n",
    "# above comment is needed for Quarto to render subtabs correctly\n",
    "\n",
    "for purpose in ['work', 'school']:\n",
    "    for metric in ['start']:\n",
    "        purpose_df = df[df.tour_type_base == purpose]\n",
    "        display(Markdown(f\"### {purpose.capitalize()}\"))\n",
    "\n",
    "        xtab = pd.crosstab(\n",
    "            purpose_df[f'{metric}_period_base'].replace(mapper),\n",
    "            purpose_df[f'{metric}_period_build'].replace(mapper),\n",
    "            margins=True,\n",
    "            margins_name='Total'\n",
    "        )\n",
    "        display(xtab.loc[tp_order,tp_order])\n",
    "\n",
    "\n",
    "        summary_text = f\"\"\"**{purpose.capitalize()} tour {metric} changes:**\n",
    "            Tours which {'departed' if metric=='start'\n",
    "                         else 'arrived' if metric=='end'\n",
    "                         else '???'\n",
    "                         } earlier in build: {len(purpose_df[purpose_df[f'{metric}_bin_difference'] < 0])}\n",
    "            Tours which {'departed' if metric=='start'\n",
    "                         else 'arrived' if metric=='end'\n",
    "                         else '???'\n",
    "                         }  in the same bin in build: {len(purpose_df[purpose_df[f'{metric}_bin_difference'] == 0])}\n",
    "            Tours which {'departed' if metric=='start'\n",
    "                         else 'arrived' if metric=='end'\n",
    "                         else '???'\n",
    "                         }  later in build: {len(purpose_df[purpose_df[f'{metric}_bin_difference'] > 0])}\n",
    "        \"\"\"\n",
    "        display(Markdown(summary_text.replace(\"\\n\",\"<br>\")))\n",
    "\n",
    "        display(Markdown(\" \"))"
   ]
  },
  {
   "cell_type": "raw",
   "id": "d438ebdd",
   "metadata": {},
   "source": [
    ":::"
   ]
  },
  {
   "cell_type": "markdown",
   "id": "2700ec53",
   "metadata": {},
   "source": [
    "### Tour arrivals"
   ]
  },
  {
   "cell_type": "code",
   "execution_count": null,
   "id": "e1806921",
   "metadata": {},
   "outputs": [],
   "source": [
    "xtab = pd.crosstab(\n",
    "    df.end_period_base.replace(mapper),\n",
    "    df.end_period_build.replace(mapper),\n",
    "    margins=True,\n",
    "    margins_name='Total'\n",
    ")\n",
    "display(xtab.loc[tp_order,tp_order])"
   ]
  },
  {
   "cell_type": "raw",
   "id": "2b0f289a",
   "metadata": {},
   "source": [
    "::: {.panel-tabset}"
   ]
  },
  {
   "cell_type": "code",
   "execution_count": null,
   "id": "ccea7628",
   "metadata": {},
   "outputs": [],
   "source": [
    "# | output: asis\n",
    "# above comment is needed for Quarto to render subtabs correctly\n",
    "\n",
    "for purpose in ['work', 'school']:\n",
    "    for metric in ['end']:\n",
    "        purpose_df = df[df.tour_type_base == purpose]\n",
    "        display(Markdown(f\"### {purpose.capitalize()}\"))\n",
    "\n",
    "        xtab = pd.crosstab(\n",
    "            purpose_df[f'{metric}_period_base'].replace(mapper),\n",
    "            purpose_df[f'{metric}_period_build'].replace(mapper),\n",
    "            margins=True,\n",
    "            margins_name='Total'\n",
    "        )\n",
    "        display(xtab.loc[tp_order,tp_order])\n",
    "\n",
    "\n",
    "        summary_text = f\"\"\"**{purpose.capitalize()} tour {metric} changes:**\n",
    "            Tours which {'departed' if metric=='start'\n",
    "                         else 'arrived' if metric=='end'\n",
    "                         else '???'\n",
    "                         } earlier in build: {len(purpose_df[purpose_df[f'{metric}_bin_difference'] < 0])}\n",
    "            Tours which {'departed' if metric=='start'\n",
    "                         else 'arrived' if metric=='end'\n",
    "                         else '???'\n",
    "                         }  in the same bin in build: {len(purpose_df[purpose_df[f'{metric}_bin_difference'] == 0])}\n",
    "            Tours which {'departed' if metric=='start'\n",
    "                         else 'arrived' if metric=='end'\n",
    "                         else '???'\n",
    "                         }  later in build: {len(purpose_df[purpose_df[f'{metric}_bin_difference'] > 0])}\n",
    "        \"\"\"\n",
    "        display(Markdown(summary_text.replace(\"\\n\",\"<br>\")))\n",
    "\n",
    "        display(Markdown(\" \"))"
   ]
  },
  {
   "cell_type": "raw",
   "id": "6717fad2",
   "metadata": {},
   "source": [
    ":::"
   ]
  },
  {
   "cell_type": "markdown",
   "id": "9dc57a10",
   "metadata": {},
   "source": [
    "## Non-Mandatory Tour Scheduling"
   ]
  },
  {
   "cell_type": "code",
   "execution_count": null,
   "id": "e6ff6c51",
   "metadata": {},
   "outputs": [],
   "source": [
    "# start with the filtered tours, get non-mandatory tours only\n",
    "base_tours_df = base_tour[base_tour.tour_category == 'non_mandatory']\n",
    "build_tours_df = build_tour[build_tour.tour_category == 'non_mandatory']"
   ]
  },
  {
   "cell_type": "code",
   "execution_count": null,
   "id": "91372f9c",
   "metadata": {},
   "outputs": [],
   "source": [
    "# translate time bin to time period index\n",
    "base_tours_df['start_period'] = base_tours_df.start.apply(vh.get_time_period_index)\n",
    "build_tours_df['start_period'] = build_tours_df.start.apply(vh.get_time_period_index)\n",
    "\n",
    "base_tours_df['end_period'] = base_tours_df.end.apply(vh.get_time_period_index)\n",
    "build_tours_df['end_period'] = build_tours_df.end.apply(vh.get_time_period_index)"
   ]
  },
  {
   "cell_type": "code",
   "execution_count": null,
   "id": "5453ebc9",
   "metadata": {},
   "outputs": [],
   "source": [
    "# join base and build tours on tour_id\n",
    "# compare tours that are in both base and build datasets\n",
    "df = pd.merge(\n",
    "    base_tours_df,\n",
    "    build_tours_df,\n",
    "    left_index=True,\n",
    "    right_index=True,\n",
    "    suffixes=('_base', '_build'),\n",
    "    how='inner'\n",
    ")\n",
    "\n",
    "# get the difference in start and end times\n",
    "df['start_bin_difference'] = df.start_build - df.start_base\n",
    "df['end_bin_difference'] = df.end_build - df.end_base\n",
    "\n",
    "# get the difference in start and end time periods\n",
    "df['start_period_difference'] = df.start_period_build - df.start_period_base\n",
    "df['end_period_difference'] = df.end_period_build - df.end_period_base"
   ]
  },
  {
   "cell_type": "code",
   "execution_count": null,
   "id": "a525ae20",
   "metadata": {},
   "outputs": [],
   "source": [
    "summary_text = f\"\"\"**Non-mandatory tour scheduling changes:**\n",
    "    Tours which departed earlier in build: {len(df[df.start_bin_difference < 0])}\n",
    "    Tours which departed in the same bin in build: {len(df[df.start_bin_difference == 0])}\n",
    "    Tours which departed later in build: {len(df[df.start_bin_difference > 0])}\n",
    "\n",
    "    Tours which arrived earlier in build: {len(df[df.end_bin_difference < 0])}\n",
    "    Tours which arrived in the same bin in build: {len(df[df.end_bin_difference == 0 ])}\n",
    "    Tours which arrived later in build: {len(df[df.end_bin_difference > 0])}\n",
    "\"\"\"\n",
    "display(Markdown(summary_text.replace(\"\\n\",\"<br>\")))"
   ]
  },
  {
   "cell_type": "markdown",
   "id": "8623143d",
   "metadata": {},
   "source": [
    "### Tour departures"
   ]
  },
  {
   "cell_type": "code",
   "execution_count": null,
   "id": "8a11c2ec",
   "metadata": {},
   "outputs": [],
   "source": [
    "xtab = pd.crosstab(\n",
    "    df.start_period_base.replace(mapper),\n",
    "    df.start_period_build.replace(mapper),\n",
    "    margins=True,\n",
    "    margins_name='Total'\n",
    ")\n",
    "display(xtab)"
   ]
  },
  {
   "cell_type": "raw",
   "id": "6df67362",
   "metadata": {
    "vscode": {
     "languageId": "raw"
    }
   },
   "source": [
    "::: {.panel-tabset}"
   ]
  },
  {
   "cell_type": "code",
   "execution_count": null,
   "id": "7374bdc7",
   "metadata": {},
   "outputs": [],
   "source": [
    "# | output: asis\n",
    "# above comment is needed for Quarto to render subtabs correctly\n",
    "metric='start'\n",
    "for key, value in name_dict.items():\n",
    "    purpose_df = df[df.primary_purpose_base == key]\n",
    "    if len(purpose_df) == 0:\n",
    "        continue\n",
    "    display(Markdown(f\"### {key.capitalize()}\"))\n",
    "\n",
    "    xtab = pd.crosstab(\n",
    "        purpose_df[f'{metric}_period_base'].replace(mapper),\n",
    "        purpose_df[f'{metric}_period_build'].replace(mapper),\n",
    "        margins=True,\n",
    "        margins_name='Total'\n",
    "    )\n",
    "    display(xtab)\n",
    "\n",
    "\n",
    "\n",
    "    summary_text = f\"\"\"**{key.capitalize()} tour {metric} changes:**\n",
    "        Tours which departed earlier in build: {len(purpose_df[purpose_df[f'{metric}_bin_difference'] < 0])}\n",
    "        Tours which departed in the same bin in build: {len(purpose_df[purpose_df[f'{metric}_bin_difference'] == 0])}\n",
    "        Tours which departed later in build: {len(purpose_df[purpose_df[f'{metric}_bin_difference'] > 0])}\n",
    "    \"\"\"\n",
    "    display(Markdown(summary_text.replace(\"\\n\",\"<br>\")))\n",
    "    \n",
    "    display(Markdown(\" \"))"
   ]
  },
  {
   "cell_type": "raw",
   "id": "e90980ba",
   "metadata": {
    "vscode": {
     "languageId": "raw"
    }
   },
   "source": [
    ":::"
   ]
  },
  {
   "cell_type": "markdown",
   "id": "d941c327",
   "metadata": {},
   "source": [
    "### Tour arrivals"
   ]
  },
  {
   "cell_type": "code",
   "execution_count": null,
   "id": "0d57a3c1",
   "metadata": {},
   "outputs": [],
   "source": [
    "xtab = pd.crosstab(\n",
    "    df.end_period_base.replace(mapper),\n",
    "    df.end_period_build.replace(mapper),\n",
    "    margins=True,\n",
    "    margins_name='Total'\n",
    ")\n",
    "display(xtab)"
   ]
  },
  {
   "cell_type": "raw",
   "id": "e16a0178",
   "metadata": {
    "vscode": {
     "languageId": "raw"
    }
   },
   "source": [
    "::: {.panel-tabset}"
   ]
  },
  {
   "cell_type": "code",
   "execution_count": null,
   "id": "319ea885",
   "metadata": {},
   "outputs": [],
   "source": [
    "# | output: asis\n",
    "# above comment is needed for Quarto to render subtabs correctly\n",
    "metric='end'\n",
    "for key, value in name_dict.items():\n",
    "    purpose_df = df[df.primary_purpose_base == key]\n",
    "    if len(purpose_df) == 0:\n",
    "        continue\n",
    "    display(Markdown(f\"### {key.capitalize()}\"))\n",
    "\n",
    "    xtab = pd.crosstab(\n",
    "        purpose_df[f'{metric}_period_base'].replace(mapper),\n",
    "        purpose_df[f'{metric}_period_build'].replace(mapper),\n",
    "        margins=True,\n",
    "        margins_name='Total'\n",
    "    )\n",
    "    display(xtab)\n",
    "\n",
    "    summary_text = f\"\"\"**{key.capitalize()} tour {metric} changes:**\n",
    "        Tours which arrived earlier in build: {len(purpose_df[purpose_df[f'{metric}_bin_difference'] < 0])}\n",
    "        Tours which arrived in the same bin in build: {len(purpose_df[purpose_df[f'{metric}_bin_difference'] == 0])}\n",
    "        Tours which arrived later in build: {len(purpose_df[purpose_df[f'{metric}_bin_difference'] > 0])}\n",
    "    \"\"\"\n",
    "\n",
    "    display(Markdown(summary_text.replace(\"\\n\",\"<br>\")))\n",
    "\n",
    "    display(Markdown(\" \"))"
   ]
  },
  {
   "cell_type": "raw",
   "id": "5abf76cb",
   "metadata": {
    "vscode": {
     "languageId": "raw"
    }
   },
   "source": [
    ":::"
   ]
  },
  {
   "cell_type": "markdown",
   "id": "8976f398",
   "metadata": {},
   "source": [
    "## Tour Mode Choice"
   ]
  },
  {
   "cell_type": "code",
   "execution_count": null,
   "id": "bc787578-b039-459f-b98f-c2fc28cf0823",
   "metadata": {},
   "outputs": [],
   "source": [
    "# xtab base-vs build mode choice for all NM tours\n",
    "# xtab base-vs build mode choice for NM tours by purpose"
   ]
  },
  {
   "cell_type": "code",
   "execution_count": null,
   "id": "5752ee4a-e49d-4842-876e-435937812ab5",
   "metadata": {},
   "outputs": [],
   "source": [
    "usecols = ['tour_id','tour_category','origin','destination','tour_mode', 'tour_category', 'primary_purpose']\n",
    "base_tour = pd.read_csv(f\"{base_dir}/final_tours.csv\", \n",
    "                        index_col='tour_id', \n",
    "                        usecols=usecols)\n",
    "\n",
    "build_tour = pd.read_csv(f\"{build_dir}/final_tours.csv\", \n",
    "                         index_col='tour_id',\n",
    "                         usecols=usecols)"
   ]
  },
  {
   "cell_type": "code",
   "execution_count": null,
   "id": "9f592846-8521-479e-9435-e30edd401a12",
   "metadata": {},
   "outputs": [],
   "source": [
    "print(f\"\"\"Filtering tours by origin {\n",
    "    'and' if how_method == 'all' else 'or' if how_method == 'any' else '???'\n",
    "    } destination MAZ.\\nOriginal tours in base: {len(base_tour)}\\tbuild: {len(build_tour)}\"\"\")\n",
    "\n",
    "base_tour = base_tour[multi_filter_mazs([base_tour.origin, base_tour.destination])] # base tour in the filtered set\n",
    "\n",
    "# special build-case filtering\n",
    "build_tour = build_tour[(\n",
    "    build_tour.index.isin(base_tour_idx) # originally existed in base\n",
    "    & build_tour.index.isin(base_tour.index)    # and was in the current set for the base\n",
    "    ) |     # OR\n",
    "    ((~build_tour.index.isin(base_tour_idx)) # is a new tour \n",
    "     & multi_filter_mazs([build_tour.origin, build_tour.destination]) # and it's in this set\n",
    "     )]\n",
    "\n",
    "print(f\"After filtering, tours in base: {len(base_tour)}\\tbuild: {len(build_tour)}\")"
   ]
  },
  {
   "cell_type": "code",
   "execution_count": null,
   "id": "988d1954-fe79-4d29-9ced-323dbfd5697e",
   "metadata": {},
   "outputs": [],
   "source": [
    "df = pd.merge(\n",
    "    base_tour,\n",
    "    build_tour,\n",
    "    how='outer',\n",
    "    left_index=True,\n",
    "    right_index=True,\n",
    "    suffixes=['_base', '_build']\n",
    ")\n",
    "\n",
    "df.loc[df.tour_mode_base == df.tour_mode_build,'Case'] = \"Unchanged\"\n",
    "df.loc[df.tour_mode_base != df.tour_mode_build,'Case'] = \"Changed\"\n",
    "\n",
    "df.loc[df.tour_mode_base.isna(),'Case'] = \"Newly Created\"\n",
    "df.loc[df.tour_mode_build.isna(),\"Case\"] = \"Removed\"\n",
    "\n",
    "df.Case.value_counts()"
   ]
  },
  {
   "cell_type": "code",
   "execution_count": null,
   "id": "4b6b0c30-3505-45cd-ae4e-64f592cf86b2",
   "metadata": {},
   "outputs": [],
   "source": [
    "fig = vh.create_pie_chart(df.Case.value_counts().to_frame().sort_index(), [\"count\"])\n",
    "fig"
   ]
  },
  {
   "cell_type": "code",
   "execution_count": null,
   "id": "fe4963c1",
   "metadata": {},
   "outputs": [],
   "source": [
    "combiners = {\n",
    "    \"EBIKE\": \"MICROMOBILITY\",\n",
    "    \"ESCOOTER\": \"MICROMOBILITY\",\n",
    "\n",
    "    \"WALK_LOC\": \"WALK_TRANSIT\",\n",
    "    \"WALK_PRM\": \"WALK_TRANSIT\",\n",
    "    \"WALK_MIX\": \"WALK_TRANSIT\",\n",
    "\n",
    "    \"PNR_LOC\": \"PNR_TRANSIT\",\n",
    "    \"PNR_PRM\": \"PNR_TRANSIT\",\n",
    "    \"PNR_MIX\": \"PNR_TRANSIT\",\n",
    "\n",
    "    \"KNR_LOC\": \"KNR_TRANSIT\",\n",
    "    \"KNR_PRM\": \"KNR_TRANSIT\",\n",
    "    \"KNR_MIX\": \"KNR_TRANSIT\",\n",
    "\n",
    "    \"TNC_LOC\": \"TNC_TRANSIT\",\n",
    "    \"TNC_PRM\": \"TNC_TRANSIT\",\n",
    "    \"TNC_MIX\": \"TNC_TRANSIT\",\n",
    "\n",
    "    \"TAXI\": \"RIDESHARE\",\n",
    "    \"TNC_SHARED\": \"RIDESHARE\",\n",
    "    \"TNC_SINGLE\": \"RIDESHARE\",\n",
    "\n",
    "}\n",
    "order = ['DRIVEALONE','SHARED2','SHARED3',\n",
    "         'WALK','BIKE','MICROMOBILITY','WALK_TRANSIT',\n",
    "         'PNR_TRANSIT','KNR_TRANSIT','TNC_TRANSIT',\n",
    "         'RIDESHARE','SCH_BUS','Newly created','Removed',\"Total\",]\n"
   ]
  },
  {
   "cell_type": "code",
   "execution_count": null,
   "id": "ee849982-18d9-4295-b9f3-9587d53e9666",
   "metadata": {},
   "outputs": [],
   "source": [
    "# xtab = df[[\"tour_mode_base\", \"tour_mode_build\"]].replace(combiners).value_counts(dropna=False).unstack().fillna(0)\n",
    "# xtab.loc[order,order]\n",
    "order = pd.Series(order)\n",
    "xtab = pd.crosstab(\n",
    "    df.tour_mode_base.replace(combiners).fillna('Newly created'),\n",
    "      df.tour_mode_build.replace(combiners).fillna('Removed'),\n",
    "      margins=True,\n",
    "      margins_name='Total')\n",
    "\n",
    "display(xtab.loc[order[order.isin(xtab.index)],order[order.isin(xtab.columns)]])"
   ]
  },
  {
   "cell_type": "code",
   "execution_count": null,
   "id": "3e774c6f",
   "metadata": {},
   "outputs": [],
   "source": [
    "transit_modes = [f'{access_mode}_{transit_mode}' \n",
    "                 for access_mode in ['WALK','PNR','KNR','TNC'] \n",
    "                 for transit_mode in ['LOC','PRM','MIX']]\n",
    "auto_modes = ['DRIVEALONE','SHARED2','SHARED3']\n",
    "nmot_modes = ['BIKE','EBIKE','ESCOOTER']\n",
    "rideshare_modes = ['TAXI','TNC_SHARED','TNC_SINGLE']"
   ]
  },
  {
   "cell_type": "code",
   "execution_count": null,
   "id": "03330e47",
   "metadata": {},
   "outputs": [],
   "source": [
    "mand_df = df[df.tour_category_base == 'mandatory']\n",
    "nm_df = df[df.tour_category_base == 'non_mandatory']\n",
    "whole_df = df"
   ]
  },
  {
   "cell_type": "code",
   "execution_count": null,
   "id": "94b133fe",
   "metadata": {},
   "outputs": [],
   "source": [
    "df = mand_df"
   ]
  },
  {
   "cell_type": "code",
   "execution_count": null,
   "id": "f8dd1134",
   "metadata": {},
   "outputs": [],
   "source": [
    "summary_text = f\"\"\"**Mandatory tour mode changes:**\n",
    "To transit\n",
    "<p style=\"margin-left: 40px\">\n",
    "from auto: {len(df[df.tour_mode_base.isin(auto_modes) & df.tour_mode_build.isin(transit_modes)])}\n",
    "from non-motorized: {len(df[df.tour_mode_base.isin(nmot_modes) & df.tour_mode_build.isin(transit_modes)])}\n",
    "from rideshare: {len(df[df.tour_mode_base.isin(rideshare_modes) & df.tour_mode_build.isin(transit_modes)])}\n",
    "from school bus: {len(df[df.tour_mode_base.isin(['SCH_BUS']) & df.tour_mode_build.isin(transit_modes)])}\n",
    "from new tour: {len(df[df.tour_mode_base.isna() & df.tour_mode_build.isin(transit_modes)])}\n",
    "*Subtotal: {len(df.tour_mode_build.isin(transit_modes)&(~(df.tour_mode_base.isin(transit_modes))))}*\n",
    "</p>\n",
    "Stayed on transit: {len(df[df.tour_mode_base.isin(transit_modes) & df.tour_mode_build.isin(transit_modes)])}\n",
    "Stayed on something else: {len(df[~(df.tour_mode_base.isin(transit_modes)|df.tour_mode_build.isin(transit_modes))])}\n",
    "Switched to something else: {len(df[df.tour_mode_base.isin(transit_modes)&(~(df.tour_mode_build.isin(transit_modes)))])}\n",
    "\"\"\"\n",
    "display(Markdown(summary_text.replace(\"\\n\",\"<br>\")))"
   ]
  },
  {
   "cell_type": "code",
   "execution_count": null,
   "id": "043e9faa",
   "metadata": {},
   "outputs": [],
   "source": [
    "df = nm_df"
   ]
  },
  {
   "cell_type": "code",
   "execution_count": null,
   "id": "509db153",
   "metadata": {},
   "outputs": [],
   "source": [
    "summary_text = f\"\"\"**Non-mandatory tour mode changes:**\n",
    "To transit\n",
    "<p style=\"margin-left: 40px\">\n",
    "from auto: {len(df[df.tour_mode_base.isin(auto_modes) & df.tour_mode_build.isin(transit_modes)])}\n",
    "from non-motorized: {len(df[df.tour_mode_base.isin(nmot_modes) & df.tour_mode_build.isin(transit_modes)])}\n",
    "from rideshare: {len(df[df.tour_mode_base.isin(rideshare_modes) & df.tour_mode_build.isin(transit_modes)])}\n",
    "from school bus: {len(df[df.tour_mode_base.isin(['SCH_BUS']) & df.tour_mode_build.isin(transit_modes)])}\n",
    "from new tour: {len(df[df.tour_mode_base.isna() & df.tour_mode_build.isin(transit_modes)])}\n",
    "*Subtotal: {len(df.tour_mode_build.isin(transit_modes)&(~(df.tour_mode_base.isin(transit_modes))))}*\n",
    "</p>\n",
    "Stayed on transit: {len(df[df.tour_mode_base.isin(transit_modes) & df.tour_mode_build.isin(transit_modes)])}\n",
    "Stayed on something else: {len(df[~(df.tour_mode_base.isin(transit_modes)|df.tour_mode_build.isin(transit_modes))])}\n",
    "Switched to something else: {len(df[df.tour_mode_base.isin(transit_modes)&(~(df.tour_mode_build.isin(transit_modes)))])}\n",
    "\"\"\"\n",
    "display(Markdown(summary_text.replace(\"\\n\",\"<br>\")))"
   ]
  },
  {
   "cell_type": "code",
   "execution_count": null,
   "id": "201ea5db",
   "metadata": {},
   "outputs": [],
   "source": [
    "df = whole_df"
   ]
  },
  {
   "cell_type": "raw",
   "id": "bea7d9ca-c450-466e-98fd-9ea137e98806",
   "metadata": {},
   "source": [
    "::: {.panel-tabset}"
   ]
  },
  {
   "cell_type": "code",
   "execution_count": null,
   "id": "6751c9d2-98e7-4366-8176-fad6c679bc9e",
   "metadata": {},
   "outputs": [],
   "source": [
    "# | output: asis\n",
    "# above comment is needed for Quarto to render subtabs correctly\n",
    "\n",
    "# only trips that exist in the base run will be output\n",
    "# looping thru name_dict will not find cases where the base value for purpose or category is nan in the outer join\n",
    "for key, value in name_dict.items():\n",
    "    df_purp = df.loc[(df.primary_purpose_base == key)]\n",
    "    if len(df_purp) == 0:\n",
    "        continue \n",
    "        \n",
    "    print(f\"#### {value}\")\n",
    "    df_purp_cases = df_purp.Case.value_counts()\n",
    "    print(str(df_purp_cases).replace(\"\\n\",\"<br>\"))\n",
    "    \n",
    "    fig = vh.create_pie_chart(df_purp_cases.to_frame().sort_index(),[\"count\"])\n",
    "    \n",
    "    fig.show()\n",
    "    display(Markdown(\" \"))"
   ]
  },
  {
   "cell_type": "raw",
   "id": "93549f2d-c4a0-4827-8964-87e863de7fc7",
   "metadata": {},
   "source": [
    ":::"
   ]
  },
  {
   "cell_type": "markdown",
   "id": "c1a39b2b",
   "metadata": {},
   "source": [
    "## At-Work Subtour Frequency"
   ]
  },
  {
   "cell_type": "code",
   "execution_count": null,
   "id": "5f8b4a9d",
   "metadata": {},
   "outputs": [],
   "source": [
    "# at-work subtours are decisions made by work tours, so we need to filter based on the work location\n",
    "\n",
    "# read in unfiltered tours for base and build\n",
    "\n",
    "base_tour = pd.read_csv(f\"{base_dir}/final_tours.csv\", \n",
    "                        index_col='tour_id', \n",
    "                        usecols=['tour_id','tour_category','primary_purpose','destination', 'parent_tour_id'])\n",
    "\n",
    "build_tour = pd.read_csv(f\"{build_dir}/final_tours.csv\", \n",
    "                         index_col='tour_id', \n",
    "                         usecols=['tour_id','tour_category','primary_purpose','destination', 'parent_tour_id'])\n",
    "\n",
    "# keep work tours only\n",
    "base_work_tour = base_tour[base_tour.primary_purpose == 'work']\n",
    "build_work_tour = build_tour[build_tour.primary_purpose == 'work']\n",
    "base_work_tour_idx = base_work_tour.index\n"
   ]
  },
  {
   "cell_type": "code",
   "execution_count": null,
   "id": "0003dabe",
   "metadata": {},
   "outputs": [],
   "source": [
    "print(f\"\"\"Filtering work tours by destination MAZ.\\nOriginal tours in base: {len(base_work_tour)}\\tbuild: {len(build_work_tour)}\\tdiff: {len(build_work_tour)-len(base_work_tour)}\"\"\")\n",
    "\n",
    "base_work_tour = base_work_tour[single_filter_mazs(base_work_tour.destination)] # base tour in the filtered set\n",
    "\n",
    "# special build-case filtering\n",
    "build_work_tour = build_work_tour[(\n",
    "    build_work_tour.index.isin(base_work_tour_idx) # originally existed in base\n",
    "    & build_work_tour.index.isin(base_work_tour.index)    # and was in the current set for the base\n",
    "    ) |     # OR\n",
    "    ((~build_work_tour.index.isin(base_work_tour_idx)) # is a new tour \n",
    "     & single_filter_mazs(build_work_tour.destination)# and it's in this set\n",
    "     )]\n",
    "\n",
    "print(f\"After filtering, tours in base: {len(base_work_tour)}\\tbuild: {len(build_work_tour)}\\tdiff: {len(build_work_tour)-len(base_work_tour)}\")"
   ]
  },
  {
   "cell_type": "code",
   "execution_count": null,
   "id": "5fe39fd8",
   "metadata": {},
   "outputs": [],
   "source": [
    "# now get the at-work subtours from the unfiltered tours\n",
    "base_atwork_tours_df = base_tour[base_tour.primary_purpose == 'atwork']\n",
    "build_atwork_tours_df = build_tour[build_tour.primary_purpose == 'atwork']"
   ]
  },
  {
   "cell_type": "code",
   "execution_count": null,
   "id": "a7f5dc2e",
   "metadata": {},
   "outputs": [],
   "source": [
    "# now count at-work subtours by parent_tour_id\n",
    "base_atwork_tour_counts_df = base_atwork_tours_df.groupby('parent_tour_id').size()\n",
    "build_atwork_tour_counts_df = build_atwork_tours_df.groupby('parent_tour_id').size()\n",
    "base_atwork_tour_counts_df = base_atwork_tour_counts_df.rename('at-work')\n",
    "build_atwork_tour_counts_df = build_atwork_tour_counts_df.rename('at-work')\n",
    "\n",
    "# reindex to ensure all work tours are included, filling missing with 0\n",
    "base_work_atwork_counts_df = base_atwork_tour_counts_df.reindex(base_work_tour.index, fill_value=0)\n",
    "build_work_atwork_counts_df = build_atwork_tour_counts_df.reindex(build_work_tour.index, fill_value=0)\n",
    "\n",
    "display(Markdown(f\"### At-Work Subtour Frequency\\n\"))\n",
    "df = pd.crosstab(\n",
    "    base_work_atwork_counts_df, \n",
    "    build_work_atwork_counts_df, \n",
    "    rownames=['Base'], \n",
    "    colnames=['Build'], \n",
    "    margins=True, \n",
    "    margins_name='Total'\n",
    ")\n",
    "df"
   ]
  },
  {
   "cell_type": "markdown",
   "id": "df242b89",
   "metadata": {},
   "source": [
    "## At-Work Subtour Destinations"
   ]
  },
  {
   "cell_type": "code",
   "execution_count": null,
   "id": "752979eb",
   "metadata": {
    "jupyter": {
     "source_hidden": true
    }
   },
   "outputs": [],
   "source": [
    "base_tour = pd.read_csv(f\"{base_dir}/final_tours.csv\", \n",
    "                        index_col='tour_id', \n",
    "                        usecols=['tour_id','tour_category','origin','destination','primary_purpose','start','end'])\n",
    "\n",
    "build_tour = pd.read_csv(f\"{build_dir}/final_tours.csv\", \n",
    "                         index_col='tour_id', \n",
    "                         usecols=['tour_id','tour_category','origin','destination','primary_purpose','start','end'])\n"
   ]
  },
  {
   "cell_type": "code",
   "execution_count": null,
   "id": "604977ef",
   "metadata": {},
   "outputs": [],
   "source": [
    "print(f\"\"\"Filtering tours by origin {\n",
    "    'and' if how_method == 'all' else 'or' if how_method == 'any' else '???'\n",
    "    } destination MAZ.\\nOriginal tours in base: {len(base_tour)}\\tbuild: {len(build_tour)}\\tdiff: {len(build_tour)-len(base_tour)}\"\"\")\n",
    "\n",
    "base_tour = base_tour[multi_filter_mazs([base_tour.origin, base_tour.destination])] # base tour in the filtered set\n",
    "\n",
    "# special build-case filtering\n",
    "build_tour = build_tour[(\n",
    "    build_tour.index.isin(base_tour_idx) # originally existed in base\n",
    "    & build_tour.index.isin(base_tour.index)    # and was in the current set for the base\n",
    "    ) |     # OR\n",
    "    ((~build_tour.index.isin(base_tour_idx)) # is a new tour \n",
    "     & multi_filter_mazs([build_tour.origin, build_tour.destination]) # and it's in this set\n",
    "     )]\n",
    "\n",
    "print(f\"After filtering, tours in base: {len(base_tour)}\\tbuild: {len(build_tour)}\")"
   ]
  },
  {
   "cell_type": "code",
   "execution_count": null,
   "id": "d0f3ae6a",
   "metadata": {},
   "outputs": [],
   "source": [
    "df = base_tour[base_tour.tour_category == 'atwork'].merge(build_tour[build_tour.tour_category == 'atwork'],\n",
    "                                                          how='outer',\n",
    "                                                          left_index=True,\n",
    "                                                          right_index=True,\n",
    "                                                          suffixes=('_base','_build'))\n"
   ]
  },
  {
   "cell_type": "code",
   "execution_count": null,
   "id": "a8107065",
   "metadata": {},
   "outputs": [],
   "source": [
    "df.loc[df.destination_base == df.destination_build,'Case'] = \"Unchanged\"\n",
    "df.loc[df.destination_base != df.destination_build,'Case'] = \"Changed\"\n",
    "\n",
    "df.loc[df.destination_base.isna(),'Case'] = \"Newly Created\"\n",
    "df.loc[df.destination_build.isna(),\"Case\"] = \"Removed\"\n"
   ]
  },
  {
   "cell_type": "code",
   "execution_count": null,
   "id": "b16694fa",
   "metadata": {},
   "outputs": [],
   "source": [
    "df = df.Case.value_counts()\n",
    "\n",
    "df"
   ]
  },
  {
   "cell_type": "code",
   "execution_count": null,
   "id": "479e63bd",
   "metadata": {},
   "outputs": [],
   "source": [
    "fig = vh.create_pie_chart(df.to_frame().sort_index(),[\"count\"])\n",
    "fig.show()"
   ]
  },
  {
   "cell_type": "markdown",
   "id": "3ef0a582",
   "metadata": {},
   "source": [
    "## At-Work Subtour Scheduling"
   ]
  },
  {
   "cell_type": "code",
   "execution_count": null,
   "id": "ee088c27",
   "metadata": {},
   "outputs": [],
   "source": [
    "base_tour = pd.read_csv(f\"{base_dir}/final_tours.csv\", \n",
    "                        index_col='tour_id', \n",
    "                        usecols=['tour_id','tour_category','origin','destination','primary_purpose','start','end'])\n",
    "base_tour = base_tour[base_tour.tour_category == 'atwork']\n",
    "\n",
    "base_tour_idx = base_tour.index\n",
    "\n",
    "build_tour = pd.read_csv(f\"{build_dir}/final_tours.csv\", \n",
    "                         index_col='tour_id', \n",
    "                         usecols=['tour_id','tour_category','origin','destination','primary_purpose','start','end'])\n",
    "build_tour = build_tour[build_tour.tour_category == 'atwork']"
   ]
  },
  {
   "cell_type": "code",
   "execution_count": null,
   "id": "e8ab8310",
   "metadata": {},
   "outputs": [],
   "source": [
    "print(f\"\"\"Filtering tours by origin {\n",
    "    'and' if how_method == 'all' else 'or' if how_method == 'any' else '???'\n",
    "    } destination MAZ.\\nOriginal tours in base: {len(base_tour)}\\tbuild: {len(build_tour)}\\tdiff: {len(build_tour)-len(base_tour)}\"\"\")\n",
    "\n",
    "base_tour = base_tour[multi_filter_mazs([base_tour.origin, base_tour.destination])] # base tour in the filtered set\n",
    "\n",
    "# special build-case filtering\n",
    "build_tour = build_tour[(\n",
    "    build_tour.index.isin(base_tour_idx) # originally existed in base\n",
    "    & build_tour.index.isin(base_tour.index)    # and was in the current set for the base\n",
    "    ) |     # OR\n",
    "    ((~build_tour.index.isin(base_tour_idx)) # is a new tour \n",
    "     & multi_filter_mazs([build_tour.origin, build_tour.destination]) # and it's in this set\n",
    "     )]\n",
    "\n",
    "print(f\"After filtering, tours in base: {len(base_tour)}\\tbuild: {len(build_tour)}\")"
   ]
  },
  {
   "cell_type": "code",
   "execution_count": null,
   "id": "6310d7fa",
   "metadata": {},
   "outputs": [],
   "source": [
    "# start with the filtered tours\n",
    "# base_atwork_tours_df = base_tour[base_tour.tour_category == 'atwork']\n",
    "# build_atwork_tours_df = build_tour[build_tour.tour_category == 'atwork']\n",
    "\n",
    "# translate time bin to time period index\n",
    "base_tour['start_period'] = base_tour.start.apply(vh.get_time_period_index)\n",
    "build_tour['start_period'] = build_tour.start.apply(vh.get_time_period_index)\n",
    "base_tour['end_period'] = base_tour.end.apply(vh.get_time_period_index)\n",
    "build_tour['end_period'] = build_tour.end.apply(vh.get_time_period_index) "
   ]
  },
  {
   "cell_type": "code",
   "execution_count": null,
   "id": "84c330a3",
   "metadata": {},
   "outputs": [],
   "source": [
    "# join base and build tours on tour_id\n",
    "# compare tours that are in both base and build datasets\n",
    "df = pd.merge(\n",
    "    base_tour,\n",
    "    build_tour,\n",
    "    left_index=True,\n",
    "    right_index=True,\n",
    "    suffixes=('_base', '_build'),\n",
    "    how='inner'\n",
    ")\n",
    "\n",
    "# get the difference in start and end times\n",
    "df['start_bin_difference'] = df.start_build - df.start_base\n",
    "df['end_bin_difference'] = df.end_build - df.end_base\n",
    "\n",
    "# get the difference in start and end time periods\n",
    "df['start_period_difference'] = df.start_period_build - df.start_period_base\n",
    "df['end_period_difference'] = df.end_period_build - df.end_period_base"
   ]
  },
  {
   "cell_type": "markdown",
   "id": "af47256d",
   "metadata": {},
   "source": [
    "### Tour departures"
   ]
  },
  {
   "cell_type": "code",
   "execution_count": null,
   "id": "cd3dbae1",
   "metadata": {},
   "outputs": [],
   "source": [
    "xtab = pd.crosstab(\n",
    "    df.start_period_base.replace(mapper),\n",
    "    df.start_period_build.replace(mapper),\n",
    "    margins=True,\n",
    "    margins_name='Total'\n",
    ")\n",
    "display(xtab.loc[tp_order,tp_order])"
   ]
  },
  {
   "cell_type": "markdown",
   "id": "a0dd12b9",
   "metadata": {},
   "source": [
    "### Tour arrivals"
   ]
  },
  {
   "cell_type": "code",
   "execution_count": null,
   "id": "e85f0436",
   "metadata": {},
   "outputs": [],
   "source": [
    "xtab = pd.crosstab(\n",
    "    df.end_period_base.replace(mapper),\n",
    "    df.end_period_build.replace(mapper),\n",
    "    margins=True,\n",
    "    margins_name='Total'\n",
    ")\n",
    "display(xtab.loc[tp_order,tp_order])"
   ]
  },
  {
   "cell_type": "code",
   "execution_count": null,
   "id": "9b3ae0b3",
   "metadata": {},
   "outputs": [],
   "source": [
    "summary_text = f\"\"\"**At-work subtour scheduling changes:**\n",
    "    Tours which departed earlier in build: {len(df[df.start_bin_difference < 0])}\n",
    "    Tours which departed in the same bin in build: {len(df[df.start_bin_difference == 0])}\n",
    "    Tours which departed later in build: {len(df[df.start_bin_difference > 0])}\n",
    "\n",
    "    Tours which arrived earlier in build: {len(df[df.end_bin_difference < 0])}\n",
    "    Tours which arrived in the same bin in build: {len(df[df.end_bin_difference == 0 ])}\n",
    "    Tours which arrived later in build: {len(df[df.end_bin_difference > 0])}\n",
    "\"\"\"\n",
    "display(Markdown(summary_text.replace(\"\\n\",\"<br>\")))"
   ]
  },
  {
   "cell_type": "markdown",
   "id": "29f9bfa7",
   "metadata": {},
   "source": [
    "## At-Work Subtour Mode Choice"
   ]
  },
  {
   "cell_type": "code",
   "execution_count": null,
   "id": "0aa09d92-6245-4a8c-bbab-ec78cc62c4bf",
   "metadata": {},
   "outputs": [],
   "source": [
    "usecols = ['tour_id','tour_category','origin','destination','tour_category', 'tour_mode']\n",
    "base_tour = pd.read_csv(f\"{base_dir}/final_tours.csv\", \n",
    "                        index_col='tour_id', \n",
    "                        usecols=usecols)\n",
    "\n",
    "build_tour = pd.read_csv(f\"{build_dir}/final_tours.csv\", \n",
    "                         index_col='tour_id', \n",
    "                         usecols=usecols)"
   ]
  },
  {
   "cell_type": "code",
   "execution_count": null,
   "id": "c4fd7cb3-1920-4e62-b572-7325dee94ecd",
   "metadata": {},
   "outputs": [],
   "source": [
    "print(f\"\"\"Filtering tours by origin {\n",
    "    'and' if how_method == 'all' else 'or' if how_method == 'any' else '???'\n",
    "    } destination MAZ.\\nOriginal tours in base: {len(base_tour)}\\tbuild: {len(build_tour)}\"\"\")\n",
    "base_tour = base_tour[multi_filter_mazs([base_tour.origin, base_tour.destination])] # base tour in the filtered set\n",
    "\n",
    "# special build-case filtering\n",
    "build_tour = build_tour[(\n",
    "    build_tour.index.isin(base_tour_idx) # originally existed in base\n",
    "    & build_tour.index.isin(base_tour.index)    # and was in the current set for the base\n",
    "    ) |     # OR\n",
    "    ((~build_tour.index.isin(base_tour_idx)) # is a new tour \n",
    "     & multi_filter_mazs([build_tour.origin, build_tour.destination]) # and it's in this set\n",
    "     )]\n",
    "\n",
    "print(f\"After filtering, tours in base: {len(base_tour)}\\tbuild: {len(build_tour)}\")"
   ]
  },
  {
   "cell_type": "code",
   "execution_count": null,
   "id": "f01461f6-ff26-414c-bb3a-f06be11f9b5c",
   "metadata": {},
   "outputs": [],
   "source": [
    "df = pd.merge(\n",
    "    base_tour[base_tour.tour_category == \"atwork\"],\n",
    "    build_tour[build_tour.tour_category == \"atwork\"],\n",
    "    how='outer',\n",
    "    left_index=True,\n",
    "    right_index=True,\n",
    "    suffixes=['_base', '_build']\n",
    ")\n",
    "\n",
    "df.loc[df.tour_mode_base == df.tour_mode_build,'Case'] = \"Unchanged\"\n",
    "df.loc[df.tour_mode_base != df.tour_mode_build,'Case'] = \"Changed\"\n",
    "\n",
    "df.loc[df.tour_mode_base.isna(),'Case'] = \"Newly Created\"\n",
    "df.loc[df.tour_mode_build.isna(),\"Case\"] = \"Removed\"\n",
    "\n",
    "df.Case.value_counts()"
   ]
  },
  {
   "cell_type": "code",
   "execution_count": null,
   "id": "576f4d00-8a54-45eb-a999-ccdd2d5447d2",
   "metadata": {},
   "outputs": [],
   "source": [
    "fig = vh.create_pie_chart(df.Case.value_counts().to_frame().sort_index(), [\"count\"])\n",
    "fig"
   ]
  },
  {
   "cell_type": "code",
   "execution_count": null,
   "id": "34707a00",
   "metadata": {},
   "outputs": [],
   "source": [
    "# xtab = df[[\"tour_mode_base\", \"tour_mode_build\"]].replace(combiners).value_counts(dropna=False).unstack().fillna(0)\n",
    "# xtab.loc[order,order]\n",
    "order = pd.Series(order)\n",
    "xtab = pd.crosstab(\n",
    "    df.tour_mode_base.replace(combiners).fillna('Newly created'),\n",
    "      df.tour_mode_build.replace(combiners).fillna('Removed'),\n",
    "      margins=True,\n",
    "      margins_name='Total')\n",
    "\n",
    "display(xtab.loc[order[order.isin(xtab.index)],order[order.isin(xtab.columns)]])"
   ]
  },
  {
   "cell_type": "code",
   "execution_count": null,
   "id": "96242d10",
   "metadata": {},
   "outputs": [],
   "source": [
    "summary_text = f\"\"\"**At-work subtour mode changes:**\n",
    "To transit\n",
    "<p style=\"margin-left: 40px\">\n",
    "from auto: {len(df[df.tour_mode_base.isin(auto_modes) & df.tour_mode_build.isin(transit_modes)])}\n",
    "from non-motorized: {len(df[df.tour_mode_base.isin(nmot_modes) & df.tour_mode_build.isin(transit_modes)])}\n",
    "from rideshare: {len(df[df.tour_mode_base.isin(rideshare_modes) & df.tour_mode_build.isin(transit_modes)])}\n",
    "from school bus: {len(df[df.tour_mode_base.isin(['SCH_BUS']) & df.tour_mode_build.isin(transit_modes)])}\n",
    "from new tour: {len(df[df.tour_mode_base.isna() & df.tour_mode_build.isin(transit_modes)])}\n",
    "*Subtotal: {len(df.tour_mode_build.isin(transit_modes)&(~(df.tour_mode_base.isin(transit_modes))))}*\n",
    "</p>\n",
    "Stayed on transit: {len(df[df.tour_mode_base.isin(transit_modes) & df.tour_mode_build.isin(transit_modes)])}\n",
    "Stayed on something else: {len(df[~(df.tour_mode_base.isin(transit_modes)|df.tour_mode_build.isin(transit_modes))])}\n",
    "Switched to something else: {len(df[df.tour_mode_base.isin(transit_modes)&(~(df.tour_mode_build.isin(transit_modes)))])}\n",
    "\"\"\"\n",
    "display(Markdown(summary_text.replace(\"\\n\",\"<br>\")))"
   ]
  },
  {
   "cell_type": "markdown",
   "id": "ac961eb2",
   "metadata": {},
   "source": [
    "## Stop Frequency"
   ]
  },
  {
   "cell_type": "code",
   "execution_count": null,
   "id": "5eb7a6cd-6212-4503-9509-105802cff771",
   "metadata": {},
   "outputs": [],
   "source": [
    "usecols = ['tour_id','tour_category','origin','destination','stop_frequency', 'primary_purpose']\n",
    "base_tour = pd.read_csv(f\"{base_dir}/final_tours.csv\", \n",
    "                        index_col='tour_id', \n",
    "                        usecols=usecols)\n",
    "\n",
    "build_tour = pd.read_csv(f\"{build_dir}/final_tours.csv\", \n",
    "                         index_col='tour_id',\n",
    "                         usecols=usecols)"
   ]
  },
  {
   "cell_type": "code",
   "execution_count": null,
   "id": "f5698e6b-9d80-4398-90ae-21b55e3b049b",
   "metadata": {},
   "outputs": [],
   "source": [
    "print(f\"\"\"Filtering tours by origin {\n",
    "    'and' if how_method == 'all' else 'or' if how_method == 'any' else '???'\n",
    "    } destination MAZ.\\nOriginal tours in base: {len(base_tour)}\\tbuild: {len(build_tour)}\"\"\")\n",
    "\n",
    "base_tour = base_tour[multi_filter_mazs([base_tour.origin, base_tour.destination])] # base tour in the filtered set\n",
    "\n",
    "# special build-case filtering\n",
    "build_tour = build_tour[(\n",
    "    build_tour.index.isin(base_tour_idx) # originally existed in base\n",
    "    & build_tour.index.isin(base_tour.index)    # and was in the current set for the base\n",
    "    ) |     # OR\n",
    "    ((~build_tour.index.isin(base_tour_idx)) # is a new tour \n",
    "     & multi_filter_mazs([build_tour.origin, build_tour.destination]) # and it's in this set\n",
    "     )]\n",
    "\n",
    "print(f\"After filtering, tours in base: {len(base_tour)}\\tbuild: {len(build_tour)}\")"
   ]
  },
  {
   "cell_type": "code",
   "execution_count": null,
   "id": "317ed485-59ed-469d-9ba0-d6480e61c7e0",
   "metadata": {},
   "outputs": [],
   "source": [
    "df = pd.merge(\n",
    "    base_tour,\n",
    "    build_tour,\n",
    "    how='outer',\n",
    "    left_index=True,\n",
    "    right_index=True,\n",
    "    suffixes=['_base', '_build']\n",
    ")\n",
    "\n",
    "df.loc[df.stop_frequency_base == df.stop_frequency_build,'Case'] = \"Unchanged\"\n",
    "df.loc[df.stop_frequency_base != df.stop_frequency_build,'Case'] = \"Changed\"\n",
    "\n",
    "df.loc[df.stop_frequency_base.isna(),'Case'] = \"Newly Created\"\n",
    "df.loc[df.stop_frequency_build.isna(),\"Case\"] = \"Removed\"\n",
    "\n",
    "df.Case.value_counts()"
   ]
  },
  {
   "cell_type": "code",
   "execution_count": null,
   "id": "38df880b",
   "metadata": {},
   "outputs": [],
   "source": [
    "total_stops_base = (df.stop_frequency_base.str[0].astype(float) \n",
    "                    + df.stop_frequency_base.str[5].astype(float)\n",
    "                    ).fillna(-np.inf).clip(upper=4)\n",
    "\n",
    "total_stops_build = (df.stop_frequency_build.str[0].astype(float) \n",
    "                     + df.stop_frequency_build.str[5].astype(float)\n",
    "                     ).fillna(-np.inf).clip(upper=4)\n",
    "\n"
   ]
  },
  {
   "cell_type": "code",
   "execution_count": null,
   "id": "d9453567-16cd-47f1-b123-96ccaf0cd2ee",
   "metadata": {},
   "outputs": [],
   "source": [
    "fig = vh.create_pie_chart(df.Case.value_counts().to_frame().sort_index(), [\"count\"])\n",
    "fig"
   ]
  },
  {
   "cell_type": "code",
   "execution_count": null,
   "id": "db5a41d1-123e-43b1-b5c9-7f32009c2dbe",
   "metadata": {},
   "outputs": [],
   "source": [
    "diff = total_stops_build - total_stops_base\n",
    "xtab = pd.crosstab(\n",
    "    total_stops_base.replace({4:\"4+\",-np.inf:\"Newly created\"}).astype(str).str.replace(\".0\",\"\"),\n",
    "      total_stops_build.clip(upper=4).replace({4:\"4+\",-np.inf:\"Removed\"}).astype(str).str.replace(\".0\",\"\"),\n",
    "      margins=True,\n",
    "      margins_name='Total')\n",
    "\n",
    "display(xtab.sort_index())"
   ]
  },
  {
   "cell_type": "code",
   "execution_count": null,
   "id": "7f6eb5e6",
   "metadata": {},
   "outputs": [],
   "source": [
    "summary_text = f\"\"\"**Stop frequency changes:**\n",
    "    Tours with fewer stops in build: {len(diff[diff < 0])}\n",
    "    Tours with the same stops in build: {len(diff[diff==0])}\n",
    "    Tours with more stops in build: {len(diff[diff > 0])}\n",
    "\"\"\"\n",
    "display(Markdown(summary_text.replace(\"\\n\",\"<br>\")))"
   ]
  },
  {
   "cell_type": "raw",
   "id": "4115c2e0-dc14-410f-8716-457c78db6e70",
   "metadata": {},
   "source": [
    "::: {.panel-tabset}"
   ]
  },
  {
   "cell_type": "code",
   "execution_count": null,
   "id": "536eca88-0f30-4fa3-a463-802fa3da2fb0",
   "metadata": {},
   "outputs": [],
   "source": [
    "# | output: asis\n",
    "# above comment is needed for Quarto to render subtabs correctly\n",
    "\n",
    "# only trips that exist in the base run will be output\n",
    "# looping thru name_dict will not find cases where the base value for purpose or category is nan in the outer join\n",
    "for key, value in name_dict.items():\n",
    "    df_purp = df.loc[df.primary_purpose_base == key]\n",
    "    if len(df_purp) == 0:\n",
    "        continue \n",
    "        \n",
    "    print(f\"#### {value}\")\n",
    "    df_purp_cases = df_purp.Case.value_counts()\n",
    "    print(str(df_purp_cases).replace(\"\\n\",\"<br>\"))\n",
    "    \n",
    "    fig = vh.create_pie_chart(df_purp_cases.to_frame().sort_index(),[\"count\"])\n",
    "    \n",
    "    fig.show()\n",
    "    display(Markdown(\" \"))"
   ]
  },
  {
   "cell_type": "raw",
   "id": "1da243b8-b557-427f-82a0-3928c653f0bb",
   "metadata": {},
   "source": [
    ":::"
   ]
  }
 ],
 "metadata": {
  "kernelspec": {
   "display_name": "asimviz",
   "language": "python",
   "name": "python3"
  },
  "language_info": {
   "name": "python",
   "nbconvert_exporter": "python",
   "pygments_lexer": "ipython3",
   "version": "3.12.9"
  }
 },
 "nbformat": 4,
 "nbformat_minor": 5
}
