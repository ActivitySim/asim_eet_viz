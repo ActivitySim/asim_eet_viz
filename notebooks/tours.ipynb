{
 "cells": [
  {
   "cell_type": "raw",
   "id": "155d0f85",
   "metadata": {
    "vscode": {
     "languageId": "raw"
    }
   },
   "source": [
    "---\n",
    "title: Tour Models\n",
    "date: today\n",
    "---"
   ]
  },
  {
   "cell_type": "code",
   "execution_count": null,
   "id": "5f97b388",
   "metadata": {},
   "outputs": [],
   "source": [
    "import pandas as pd\n",
    "import yaml\n",
    "import plotly.io as pio\n",
    "pio.renderers.default = \"plotly_mimetype+notebook_connected\"\n",
    "\n",
    "from IPython.display import Markdown, display\n",
    "import visualizer_helpers as vh"
   ]
  },
  {
   "cell_type": "code",
   "execution_count": null,
   "id": "93821c7f",
   "metadata": {
    "tags": [
     "parameters"
    ]
   },
   "outputs": [],
   "source": [
    "# NOTE: SPECIALLY TAGGED PARAMETERS CELL\n",
    "# Assignments in this cell may be overwritten at compile-time\n",
    "# Otherwise, the below defaults to not filtering any zones\n",
    "zone_set: str = 'all'\n",
    "how_method: str = 'any'\n",
    "affected_tazs: list = []\n",
    "affected_mazs: list = []"
   ]
  },
  {
   "cell_type": "code",
   "execution_count": null,
   "id": "3a40fdb9",
   "metadata": {},
   "outputs": [],
   "source": [
    "# get corresponding filter from zone_set parameter\n",
    "single_filter_tazs, multi_filter_tazs = vh.get_filters(zone_set, how_method, affected_tazs)\n",
    "single_filter_mazs, multi_filter_mazs = vh.get_filters(zone_set, how_method, affected_mazs)"
   ]
  },
  {
   "cell_type": "code",
   "execution_count": null,
   "id": "1222b87a",
   "metadata": {},
   "outputs": [],
   "source": [
    "# file IO locations\n",
    "with open('_quarto.yml') as f:\n",
    "    config = yaml.safe_load(f)\n",
    "base_dir = config['sources']['base']\n",
    "build_dir = config['sources']['build']"
   ]
  },
  {
   "cell_type": "code",
   "execution_count": null,
   "id": "926736b3",
   "metadata": {},
   "outputs": [],
   "source": [
    "base_tour = pd.read_csv(f\"{base_dir}/final_tours.csv\", \n",
    "                        index_col='tour_id', \n",
    "                        usecols=['tour_id','tour_category','origin','destination','primary_purpose','person_id','start','end'])\n",
    "\n",
    "base_tour_idx = base_tour.index\n",
    "\n",
    "build_tour = pd.read_csv(f\"{build_dir}/final_tours.csv\", \n",
    "                         index_col='tour_id', \n",
    "                         usecols=['tour_id','tour_category','origin','destination','primary_purpose','person_id','start','end'])\n"
   ]
  },
  {
   "cell_type": "code",
   "execution_count": null,
   "id": "be0762ef",
   "metadata": {},
   "outputs": [],
   "source": [
    "print(f\"\"\"Filtering tours by origin {\n",
    "    'and' if how_method == 'all' else 'or' if how_method == 'any' else '???'\n",
    "    } destination TAZ.\\nOriginal tours in base: {len(base_tour)}\\tbuild: {len(build_tour)}\"\"\")\n",
    "\n",
    "base_tour = base_tour[multi_filter_mazs([base_tour.origin, base_tour.destination])] # base tour in the filtered set\n",
    "\n",
    "# special build-case filtering\n",
    "build_tour = build_tour[(\n",
    "    build_tour.index.isin(base_tour_idx) # originally existed in base\n",
    "    & build_tour.index.isin(base_tour.index)    # and was in the current set for the base\n",
    "    ) |     # OR\n",
    "    ((~build_tour.index.isin(base_tour_idx)) # is a new tour \n",
    "     & multi_filter_mazs([build_tour.origin, build_tour.destination]) # and it's in this set\n",
    "     )]\n",
    "\n",
    "print(f\"After filtering, tours in base: {len(base_tour)}\\tbuild: {len(build_tour)}\")"
   ]
  },
  {
   "cell_type": "code",
   "execution_count": null,
   "id": "a5de2921",
   "metadata": {},
   "outputs": [],
   "source": [
    "name_dict = {'escort': \"Escorting\", \n",
    "             'work': \"Work\", \n",
    "             'school': \"School\", \n",
    "             'othmaint': \"Other-Maintenance\",\n",
    "             'othdiscr': \"Other-Discretionary\", \n",
    "             'shopping': \"Shopping\",\n",
    "             'atwork': \"At-work Subtour\", \n",
    "             'eatout': \"Eat Out\", \n",
    "             'social' : \"Social\", \n",
    "             'univ': \"University\"}"
   ]
  },
  {
   "cell_type": "markdown",
   "id": "09f11c37",
   "metadata": {},
   "source": [
    "## Non-Mandatory Tour Frequency"
   ]
  },
  {
   "cell_type": "code",
   "execution_count": null,
   "id": "23b1b7da",
   "metadata": {},
   "outputs": [],
   "source": [
    "# Tour Frequency is a person choice, so we should apply the filter on person\n",
    "\n",
    "base_persons_df = pd.read_csv(\n",
    "    f\"{base_dir}/final_persons.csv\", \n",
    "    index_col='person_id',\n",
    "    usecols=['person_id', 'home_zone_id'],\n",
    ")\n",
    "\n",
    "build_persons_df = pd.read_csv(\n",
    "    f\"{build_dir}/final_persons.csv\",\n",
    "    index_col='person_id',\n",
    "    usecols=['person_id', 'home_zone_id'],\n",
    ")"
   ]
  },
  {
   "cell_type": "code",
   "execution_count": null,
   "id": "36c6f1c6",
   "metadata": {},
   "outputs": [],
   "source": [
    "print(f\"Filtering persons by home MAZ. Original Persons: {len(base_persons_df)}\")\n",
    "base_persons_df = base_persons_df[single_filter_mazs(base_persons_df.home_zone_id)]\n",
    "build_persons_df = build_persons_df[single_filter_mazs(build_persons_df.home_zone_id)]\n",
    "print(f\"Persons after filtering: {len(base_persons_df)}\")"
   ]
  },
  {
   "cell_type": "code",
   "execution_count": null,
   "id": "f86a6954",
   "metadata": {},
   "outputs": [],
   "source": [
    "# read in unfiltered tours for base and build\n",
    "\n",
    "base_tours_df = pd.read_csv(f\"{base_dir}/final_tours.csv\", \n",
    "                        index_col='tour_id', \n",
    "                        usecols=['tour_id','tour_category','primary_purpose','person_id'])\n",
    "\n",
    "build_tours_df = pd.read_csv(f\"{build_dir}/final_tours.csv\", \n",
    "                         index_col='tour_id', \n",
    "                         usecols=['tour_id','tour_category','primary_purpose','person_id'])\n",
    "\n",
    "# keep non-mandatory tours only\n",
    "base_tours_df = base_tours_df[base_tours_df.tour_category == 'non_mandatory']\n",
    "build_tours_df = build_tours_df[build_tours_df.tour_category == 'non_mandatory']"
   ]
  },
  {
   "cell_type": "code",
   "execution_count": null,
   "id": "7263af19",
   "metadata": {},
   "outputs": [],
   "source": [
    "# count non-mandatory tours by person\n",
    "base_tour_counts_df = base_tours_df.groupby('person_id').size()\n",
    "build_tour_counts_df = build_tours_df.groupby('person_id').size()\n",
    "base_tour_counts_df = base_tour_counts_df.rename('non-mandatory')\n",
    "build_tour_counts_df = build_tour_counts_df.rename('non-mandatory')\n",
    "\n",
    "# reindex to ensure all persons are included, filling missing with 0\n",
    "base_person_tour_counts_df = base_tour_counts_df.reindex(base_persons_df.index, fill_value=0)\n",
    "build_person_tour_counts_df = build_tour_counts_df.reindex(base_persons_df.index, fill_value=0)\n",
    "\n",
    "display(Markdown(f\"### Non-Mandatory Tour Counts\\n\"))\n",
    "df = pd.crosstab(\n",
    "    base_person_tour_counts_df, \n",
    "    build_person_tour_counts_df, \n",
    "    rownames=['Base'], \n",
    "    colnames=['Build'], \n",
    "    margins=True, \n",
    "    margins_name='Total'\n",
    ")\n",
    "\n",
    "df"
   ]
  },
  {
   "cell_type": "raw",
   "id": "2b5810a8",
   "metadata": {
    "vscode": {
     "languageId": "raw"
    }
   },
   "source": [
    "::: {.panel-tabset}"
   ]
  },
  {
   "cell_type": "code",
   "execution_count": null,
   "id": "1b1203eb",
   "metadata": {},
   "outputs": [],
   "source": [
    "# | output: asis\n",
    "# above comment is needed for Quarto to render subtabs correctly\n",
    "\n",
    "for key, value in name_dict.items():\n",
    "    \n",
    "    if len(base_tours_df[base_tours_df.primary_purpose == key]) == 0:\n",
    "        continue\n",
    "\n",
    "    # count tours by primary purpose\n",
    "    base_tour_counts_df = base_tours_df[base_tours_df.primary_purpose == key].groupby('person_id').size()\n",
    "    build_tour_counts_df = build_tours_df[build_tours_df.primary_purpose == key].groupby('person_id').size()\n",
    "    base_tour_counts_df = base_tour_counts_df.rename(value)\n",
    "    build_tour_counts_df = build_tour_counts_df.rename(value)\n",
    "\n",
    "    # reindex to ensure all persons are included, filling missing with 0\n",
    "    base_person_tour_counts_df = base_tour_counts_df.reindex(base_persons_df.index, fill_value=0)\n",
    "    build_person_tour_counts_df = build_tour_counts_df.reindex(base_persons_df.index, fill_value=0)\n",
    "\n",
    "    df = pd.crosstab(\n",
    "        base_person_tour_counts_df, \n",
    "        build_person_tour_counts_df, \n",
    "        rownames=['Base'], \n",
    "        colnames=['Build'], \n",
    "        margins=True, \n",
    "        margins_name='Total'\n",
    "    )\n",
    "\n",
    "    display(Markdown(f\"\\n### {value} Tour Counts\"))\n",
    "    display(df)"
   ]
  },
  {
   "cell_type": "raw",
   "id": "886339fb",
   "metadata": {
    "vscode": {
     "languageId": "raw"
    }
   },
   "source": [
    ":::"
   ]
  },
  {
   "cell_type": "markdown",
   "id": "02abda8e",
   "metadata": {},
   "source": [
    "## Non-Mandatory Tour Destinations"
   ]
  },
  {
   "cell_type": "code",
   "execution_count": null,
   "id": "c3027c7d",
   "metadata": {},
   "outputs": [],
   "source": [
    "df = base_tour[base_tour.tour_category == 'non_mandatory'].merge(build_tour[build_tour.tour_category == 'non_mandatory'],\n",
    "                                                                 how='outer',\n",
    "                                                                 left_index=True,\n",
    "                                                                 right_index=True,\n",
    "                                                                 suffixes=('_base','_build'))\n",
    "\n"
   ]
  },
  {
   "cell_type": "code",
   "execution_count": null,
   "id": "34fd0746",
   "metadata": {},
   "outputs": [],
   "source": [
    "df.loc[df.destination_base == df.destination_build,'Case'] = \"Unchanged\"\n",
    "df.loc[df.destination_base != df.destination_build,'Case'] = \"Changed\"\n",
    "\n",
    "df.loc[df.destination_base.isna(),'Case'] = \"Newly Created\"\n",
    "df.loc[df.destination_build.isna(),\"Case\"] = \"Removed\"\n"
   ]
  },
  {
   "cell_type": "code",
   "execution_count": null,
   "id": "95835ee0",
   "metadata": {},
   "outputs": [],
   "source": [
    "df = df.Case.value_counts()\n",
    "\n",
    "df"
   ]
  },
  {
   "cell_type": "code",
   "execution_count": null,
   "id": "fba6627b",
   "metadata": {},
   "outputs": [],
   "source": [
    "fig = vh.create_pie_chart(df.to_frame().sort_index(),[\"count\"])\n",
    "fig.show()"
   ]
  },
  {
   "cell_type": "raw",
   "id": "fb5d3b94",
   "metadata": {},
   "source": [
    "::: {.panel-tabset}"
   ]
  },
  {
   "cell_type": "code",
   "execution_count": null,
   "id": "5ecb0e5e",
   "metadata": {},
   "outputs": [],
   "source": [
    "# | output: asis\n",
    "# above comment is needed for Quarto to render subtabs correctly\n",
    "\n",
    "for key, value in name_dict.items():\n",
    "\n",
    "    if len(base_tour[\n",
    "        (base_tour.tour_category == 'non_mandatory')\n",
    "        & (base_tour.primary_purpose == key)\n",
    "        ]) == 0:\n",
    "        continue\n",
    "    \n",
    "    print(f\"#### {value}\")\n",
    "    df = base_tour[\n",
    "        (base_tour.tour_category == 'non_mandatory')\n",
    "        & (base_tour.primary_purpose == key)\n",
    "        ].merge(build_tour[\n",
    "                    (build_tour.tour_category == 'non_mandatory')\n",
    "                    & (build_tour.primary_purpose == key)\n",
    "                ],\n",
    "                how='left',\n",
    "                left_index=True,\n",
    "                right_index=True,\n",
    "                suffixes=('_base','_build'))\n",
    "    \n",
    "    df.loc[df.destination_base == df.destination_build,'Case'] = \"Unchanged\"\n",
    "    df.loc[df.destination_base != df.destination_build,'Case'] = \"Changed\"\n",
    "\n",
    "    df.loc[df.destination_base.isna(),'Case'] = \"Newly Created\"\n",
    "    df.loc[df.destination_build.isna(),\"Case\"] = \"Removed\"\n",
    "\n",
    "    \n",
    "    df = df.Case.value_counts()\n",
    "\n",
    "    print(str(df).replace(\"\\n\",\"<br>\"))\n",
    "    \n",
    "    fig = vh.create_pie_chart(df.to_frame().sort_index(),[\"count\"])\n",
    "    \n",
    "    fig.show()\n",
    "    display(Markdown(\" \"))"
   ]
  },
  {
   "cell_type": "raw",
   "id": "8fa5cf90",
   "metadata": {},
   "source": [
    ":::"
   ]
  },
  {
   "cell_type": "markdown",
   "id": "9dc57a10",
   "metadata": {},
   "source": [
    "## Non-Mandatory Tour Scheduling"
   ]
  },
  {
   "cell_type": "code",
   "execution_count": null,
   "id": "e6ff6c51",
   "metadata": {},
   "outputs": [],
   "source": [
    "# start with the filtered tours, get non-mandatory tours only\n",
    "base_tours_df = base_tour[base_tour.tour_category == 'non_mandatory']\n",
    "build_tours_df = build_tour[build_tour.tour_category == 'non_mandatory']"
   ]
  },
  {
   "cell_type": "code",
   "execution_count": null,
   "id": "91372f9c",
   "metadata": {},
   "outputs": [],
   "source": [
    "# translate time bin to time period index\n",
    "base_tours_df['start_period'] = base_tours_df.start.apply(vh.get_time_period_index)\n",
    "build_tours_df['start_period'] = build_tours_df.start.apply(vh.get_time_period_index)\n",
    "\n",
    "base_tours_df['end_period'] = base_tours_df.end.apply(vh.get_time_period_index)\n",
    "build_tours_df['end_period'] = build_tours_df.end.apply(vh.get_time_period_index)"
   ]
  },
  {
   "cell_type": "code",
   "execution_count": null,
   "id": "5453ebc9",
   "metadata": {},
   "outputs": [],
   "source": [
    "# join base and build tours on tour_id\n",
    "# compare tours that are in both base and build datasets\n",
    "df = pd.merge(\n",
    "    base_tours_df,\n",
    "    build_tours_df,\n",
    "    left_index=True,\n",
    "    right_index=True,\n",
    "    suffixes=('_base', '_build'),\n",
    "    how='inner'\n",
    ")\n",
    "\n",
    "# get the difference in start and end times\n",
    "df['start_bin_difference'] = df.start_build - df.start_base\n",
    "df['end_bin_difference'] = df.end_build - df.end_base\n",
    "\n",
    "# get the difference in start and end time periods\n",
    "df['start_period_difference'] = df.start_period_build - df.start_period_base\n",
    "df['end_period_difference'] = df.end_period_build - df.end_period_base"
   ]
  },
  {
   "cell_type": "markdown",
   "id": "8623143d",
   "metadata": {},
   "source": [
    "### Tour Start Time Bin Difference"
   ]
  },
  {
   "cell_type": "raw",
   "id": "6df67362",
   "metadata": {
    "vscode": {
     "languageId": "raw"
    }
   },
   "source": [
    "::: {.panel-tabset}"
   ]
  },
  {
   "cell_type": "code",
   "execution_count": null,
   "id": "7374bdc7",
   "metadata": {},
   "outputs": [],
   "source": [
    "# | output: asis\n",
    "# above comment is needed for Quarto to render subtabs correctly\n",
    "\n",
    "for key, value in name_dict.items():\n",
    "    purpose_df = df[df.primary_purpose_base == key]\n",
    "    if len(purpose_df) == 0:\n",
    "        continue\n",
    "    display(Markdown(f\"### {value.capitalize()}\"))\n",
    "    purpose_df = purpose_df.groupby(f'start_bin_difference').size().reset_index()\n",
    "    purpose_df.columns = [f'start_bin_difference', 'count']\n",
    "    purpose_df = purpose_df.sort_values(by=f'start_bin_difference')\n",
    "\n",
    "    fig = vh.create_bar_chart(\n",
    "        source_data=purpose_df,\n",
    "        source=f'start_bin_difference',\n",
    "        col=f'start_bin_difference',\n",
    "        plot_col='count',\n",
    "        # title=f\"{purpose.capitalize()} Tour {metric.capitalize()} Time Difference\",\n",
    "    )\n",
    "    fig.show()\n",
    "    display(Markdown(\" \"))"
   ]
  },
  {
   "cell_type": "raw",
   "id": "e90980ba",
   "metadata": {
    "vscode": {
     "languageId": "raw"
    }
   },
   "source": [
    ":::"
   ]
  },
  {
   "cell_type": "markdown",
   "id": "9c58e877",
   "metadata": {},
   "source": [
    "### Tour Start Time Period Difference"
   ]
  },
  {
   "cell_type": "raw",
   "id": "654c9285",
   "metadata": {
    "vscode": {
     "languageId": "raw"
    }
   },
   "source": [
    "::: {.panel-tabset}"
   ]
  },
  {
   "cell_type": "code",
   "execution_count": null,
   "id": "8531b8d5",
   "metadata": {},
   "outputs": [],
   "source": [
    "# | output: asis\n",
    "# above comment is needed for Quarto to render subtabs correctly\n",
    "\n",
    "for key, value in name_dict.items():\n",
    "    purpose_df = df[df.primary_purpose_base == key]\n",
    "    if len(purpose_df) == 0:\n",
    "        continue\n",
    "    display(Markdown(f\"### {value.capitalize()}\"))\n",
    "    purpose_df = purpose_df.groupby(f'start_period_difference').size().reset_index()\n",
    "    purpose_df.columns = [f'start_period_difference', 'count']\n",
    "    purpose_df = purpose_df.sort_values(by=f'start_period_difference')\n",
    "\n",
    "    fig = vh.create_bar_chart(\n",
    "        source_data=purpose_df,\n",
    "        source=f'start_period_difference',\n",
    "        col=f'start_period_difference',\n",
    "        plot_col='count',\n",
    "        # title=f\"{purpose.capitalize()} Tour {metric.capitalize()} Time Difference\",\n",
    "    )\n",
    "    fig.show()\n",
    "    display(Markdown(\" \"))"
   ]
  },
  {
   "cell_type": "raw",
   "id": "eab80e6e",
   "metadata": {
    "vscode": {
     "languageId": "raw"
    }
   },
   "source": [
    ":::"
   ]
  },
  {
   "cell_type": "markdown",
   "id": "d941c327",
   "metadata": {},
   "source": [
    "### Tour End Time Bin Difference"
   ]
  },
  {
   "cell_type": "raw",
   "id": "e16a0178",
   "metadata": {
    "vscode": {
     "languageId": "raw"
    }
   },
   "source": [
    "::: {.panel-tabset}"
   ]
  },
  {
   "cell_type": "code",
   "execution_count": null,
   "id": "919f226e",
   "metadata": {},
   "outputs": [],
   "source": [
    "# | output: asis\n",
    "# above comment is needed for Quarto to render subtabs correctly\n",
    "\n",
    "for key, value in name_dict.items():\n",
    "    purpose_df = df[df.primary_purpose_base == key]\n",
    "    if len(purpose_df) == 0:\n",
    "        continue\n",
    "    display(Markdown(f\"### {value.capitalize()}\"))\n",
    "    purpose_df = purpose_df.groupby(f'end_bin_difference').size().reset_index()\n",
    "    purpose_df.columns = [f'end_bin_difference', 'count']\n",
    "    purpose_df = purpose_df.sort_values(by=f'end_bin_difference')\n",
    "\n",
    "    fig = vh.create_bar_chart(\n",
    "        source_data=purpose_df,\n",
    "        source=f'end_bin_difference',\n",
    "        col=f'end_bin_difference',\n",
    "        plot_col='count',\n",
    "        # title=f\"{purpose.capitalize()} Tour {metric.capitalize()} Time Difference\",\n",
    "    )\n",
    "    fig.show()\n",
    "    display(Markdown(\" \"))"
   ]
  },
  {
   "cell_type": "raw",
   "id": "5abf76cb",
   "metadata": {
    "vscode": {
     "languageId": "raw"
    }
   },
   "source": [
    ":::"
   ]
  },
  {
   "cell_type": "markdown",
   "id": "7b8d24d6",
   "metadata": {},
   "source": [
    "### Tour End Period Difference"
   ]
  },
  {
   "cell_type": "raw",
   "id": "838d30e5",
   "metadata": {
    "vscode": {
     "languageId": "raw"
    }
   },
   "source": [
    "::: {.panel-tabset}"
   ]
  },
  {
   "cell_type": "code",
   "execution_count": null,
   "id": "43603e08",
   "metadata": {},
   "outputs": [],
   "source": [
    "# | output: asis\n",
    "# above comment is needed for Quarto to render subtabs correctly\n",
    "\n",
    "for key, value in name_dict.items():\n",
    "    purpose_df = df[df.primary_purpose_base == key]\n",
    "    if len(purpose_df) == 0:\n",
    "        continue\n",
    "    display(Markdown(f\"### {value.capitalize()}\"))\n",
    "    purpose_df = purpose_df.groupby(f'end_period_difference').size().reset_index()\n",
    "    purpose_df.columns = [f'end_period_difference', 'count']\n",
    "    purpose_df = purpose_df.sort_values(by=f'end_period_difference')\n",
    "\n",
    "    fig = vh.create_bar_chart(\n",
    "        source_data=purpose_df,\n",
    "        source=f'end_period_difference',\n",
    "        col=f'end_period_difference',\n",
    "        plot_col='count',\n",
    "        # title=f\"{purpose.capitalize()} Tour {metric.capitalize()} Time Difference\",\n",
    "    )\n",
    "    fig.show()\n",
    "    display(Markdown(\" \"))"
   ]
  },
  {
   "cell_type": "raw",
   "id": "a13d8b72",
   "metadata": {
    "vscode": {
     "languageId": "raw"
    }
   },
   "source": [
    ":::"
   ]
  },
  {
   "cell_type": "markdown",
   "id": "8976f398",
   "metadata": {},
   "source": [
    "## Tour Mode Choice"
   ]
  },
  {
   "cell_type": "code",
   "execution_count": null,
   "id": "b23a883c",
   "metadata": {},
   "outputs": [],
   "source": [
    "print(\"Lorem ipsum\") # Placeholder for CS"
   ]
  },
  {
   "cell_type": "markdown",
   "id": "c1a39b2b",
   "metadata": {},
   "source": [
    "## At-Work Subtour Frequency"
   ]
  },
  {
   "cell_type": "code",
   "execution_count": null,
   "id": "5f8b4a9d",
   "metadata": {},
   "outputs": [],
   "source": [
    "# at-work subtours are decisions made by work tours, so we need to filter based on the work location\n",
    "\n",
    "# read in unfiltered tours for base and build\n",
    "\n",
    "base_tours_df = pd.read_csv(f\"{base_dir}/final_tours.csv\", \n",
    "                        index_col='tour_id', \n",
    "                        usecols=['tour_id','tour_category','primary_purpose','destination', 'parent_tour_id'])\n",
    "\n",
    "build_tours_df = pd.read_csv(f\"{build_dir}/final_tours.csv\", \n",
    "                         index_col='tour_id', \n",
    "                         usecols=['tour_id','tour_category','primary_purpose','destination', 'parent_tour_id'])\n",
    "\n",
    "# keep work tours only\n",
    "base_work_tours_df = base_tours_df[base_tours_df.primary_purpose == 'work']\n",
    "build_work_tours_df = build_tours_df[build_tours_df.primary_purpose == 'work']"
   ]
  },
  {
   "cell_type": "code",
   "execution_count": null,
   "id": "d7a8a9d0",
   "metadata": {},
   "outputs": [],
   "source": [
    "print(f\"Filtering work tours by work MAZ. Original work tours: {len(base_work_tours_df)}\")\n",
    "base_work_tours_df = base_work_tours_df[single_filter_mazs(base_work_tours_df.destination)]\n",
    "build_work_tours_df = build_work_tours_df[single_filter_mazs(build_work_tours_df.destination)]\n",
    "print(f\"Work tours after filtering: {len(base_work_tours_df)}\")"
   ]
  },
  {
   "cell_type": "code",
   "execution_count": null,
   "id": "5fe39fd8",
   "metadata": {},
   "outputs": [],
   "source": [
    "# now get the at-work subtours from the unfiltered tours\n",
    "base_atwork_tours_df = base_tours_df[base_tours_df.primary_purpose == 'atwork']\n",
    "build_atwork_tours_df = build_tours_df[build_tours_df.primary_purpose == 'atwork']"
   ]
  },
  {
   "cell_type": "code",
   "execution_count": null,
   "id": "a7f5dc2e",
   "metadata": {},
   "outputs": [],
   "source": [
    "# now count at-work subtours by parent_tour_id\n",
    "base_atwork_tour_counts_df = base_atwork_tours_df.groupby('parent_tour_id').size()\n",
    "build_atwork_tour_counts_df = build_atwork_tours_df.groupby('parent_tour_id').size()\n",
    "base_atwork_tour_counts_df = base_atwork_tour_counts_df.rename('at-work')\n",
    "build_atwork_tour_counts_df = build_atwork_tour_counts_df.rename('at-work')\n",
    "\n",
    "# reindex to ensure all work tours are included, filling missing with 0\n",
    "base_work_atwork_counts_df = base_atwork_tour_counts_df.reindex(base_work_tours_df.index, fill_value=0)\n",
    "build_work_atwork_counts_df = build_atwork_tour_counts_df.reindex(build_work_tours_df.index, fill_value=0)\n",
    "\n",
    "display(Markdown(f\"### At-Work Subtour Frequency\\n\"))\n",
    "df = pd.crosstab(\n",
    "    base_work_atwork_counts_df, \n",
    "    build_work_atwork_counts_df, \n",
    "    rownames=['Base'], \n",
    "    colnames=['Build'], \n",
    "    margins=True, \n",
    "    margins_name='Total'\n",
    ")\n",
    "df"
   ]
  },
  {
   "cell_type": "markdown",
   "id": "df242b89",
   "metadata": {},
   "source": [
    "## At-Work Subtour Destinations"
   ]
  },
  {
   "cell_type": "code",
   "execution_count": null,
   "id": "752979eb",
   "metadata": {},
   "outputs": [],
   "source": [
    "base_tour = pd.read_csv(f\"{base_dir}/final_tours.csv\", \n",
    "                        index_col='tour_id', \n",
    "                        usecols=['tour_id','tour_category','origin','destination','primary_purpose','start','end'])\n",
    "\n",
    "build_tour = pd.read_csv(f\"{build_dir}/final_tours.csv\", \n",
    "                         index_col='tour_id', \n",
    "                         usecols=['tour_id','tour_category','origin','destination','primary_purpose','start','end'])\n"
   ]
  },
  {
   "cell_type": "code",
   "execution_count": null,
   "id": "604977ef",
   "metadata": {},
   "outputs": [],
   "source": [
    "print(f\"\"\"Filtering tours by origin {\n",
    "    'and' if how_method == 'all' else 'or' if how_method == 'any' else '???'\n",
    "    } destination TAZ.\\nOriginal tours in base: {len(base_tour)}\\tbuild: {len(build_tour)}\"\"\")\n",
    "\n",
    "base_tour = base_tour[multi_filter_mazs([base_tour.origin, base_tour.destination])] # base tour in the filtered set\n",
    "\n",
    "# special build-case filtering\n",
    "build_tour = build_tour[(\n",
    "    build_tour.index.isin(base_tour_idx) # originally existed in base\n",
    "    & build_tour.index.isin(base_tour.index)    # and was in the current set for the base\n",
    "    ) |     # OR\n",
    "    ((~build_tour.index.isin(base_tour_idx)) # is a new tour \n",
    "     & multi_filter_mazs([build_tour.origin, build_tour.destination]) # and it's in this set\n",
    "     )]\n",
    "\n",
    "print(f\"After filtering, tours in base: {len(base_tour)}\\tbuild: {len(build_tour)}\")"
   ]
  },
  {
   "cell_type": "code",
   "execution_count": null,
   "id": "d0f3ae6a",
   "metadata": {},
   "outputs": [],
   "source": [
    "df = base_tour[base_tour.tour_category == 'atwork'].merge(build_tour[build_tour.tour_category == 'atwork'],\n",
    "                                                          how='outer',\n",
    "                                                          left_index=True,\n",
    "                                                          right_index=True,\n",
    "                                                          suffixes=('_base','_build'))\n"
   ]
  },
  {
   "cell_type": "code",
   "execution_count": null,
   "id": "a8107065",
   "metadata": {},
   "outputs": [],
   "source": [
    "df.loc[df.destination_base == df.destination_build,'Case'] = \"Unchanged\"\n",
    "df.loc[df.destination_base != df.destination_build,'Case'] = \"Changed\"\n",
    "\n",
    "df.loc[df.destination_base.isna(),'Case'] = \"Newly Created\"\n",
    "df.loc[df.destination_build.isna(),\"Case\"] = \"Removed\"\n"
   ]
  },
  {
   "cell_type": "code",
   "execution_count": null,
   "id": "b16694fa",
   "metadata": {},
   "outputs": [],
   "source": [
    "df = df.Case.value_counts()\n",
    "\n",
    "df"
   ]
  },
  {
   "cell_type": "code",
   "execution_count": null,
   "id": "479e63bd",
   "metadata": {},
   "outputs": [],
   "source": [
    "fig = vh.create_pie_chart(df.to_frame().sort_index(),[\"count\"])\n",
    "fig.show()"
   ]
  },
  {
   "cell_type": "markdown",
   "id": "3ef0a582",
   "metadata": {},
   "source": [
    "## At-Work Subtour Scheduling"
   ]
  },
  {
   "cell_type": "code",
   "execution_count": null,
   "id": "ee088c27",
   "metadata": {},
   "outputs": [],
   "source": [
    "base_tour = pd.read_csv(f\"{base_dir}/final_tours.csv\", \n",
    "                        index_col='tour_id', \n",
    "                        usecols=['tour_id','tour_category','origin','destination','primary_purpose','start','end'])\n",
    "base_tour = base_tour[base_tour.tour_category == 'atwork']\n",
    "\n",
    "base_tour_idx = base_tour.index\n",
    "\n",
    "build_tour = pd.read_csv(f\"{build_dir}/final_tours.csv\", \n",
    "                         index_col='tour_id', \n",
    "                         usecols=['tour_id','tour_category','origin','destination','primary_purpose','start','end'])\n",
    "build_tour = build_tour[build_tour.tour_category == 'atwork']"
   ]
  },
  {
   "cell_type": "code",
   "execution_count": null,
   "id": "e8ab8310",
   "metadata": {},
   "outputs": [],
   "source": [
    "print(f\"\"\"Filtering tours by origin {\n",
    "    'and' if how_method == 'all' else 'or' if how_method == 'any' else '???'\n",
    "    } destination TAZ.\\nOriginal tours in base: {len(base_tour)}\\tbuild: {len(build_tour)}\"\"\")\n",
    "\n",
    "base_tour = base_tour[multi_filter_mazs([base_tour.origin, base_tour.destination])] # base tour in the filtered set\n",
    "\n",
    "# special build-case filtering\n",
    "build_tour = build_tour[(\n",
    "    build_tour.index.isin(base_tour_idx) # originally existed in base\n",
    "    & build_tour.index.isin(base_tour.index)    # and was in the current set for the base\n",
    "    ) |     # OR\n",
    "    ((~build_tour.index.isin(base_tour_idx)) # is a new tour \n",
    "     & multi_filter_mazs([build_tour.origin, build_tour.destination]) # and it's in this set\n",
    "     )]\n",
    "\n",
    "print(f\"After filtering, tours in base: {len(base_tour)}\\tbuild: {len(build_tour)}\")"
   ]
  },
  {
   "cell_type": "code",
   "execution_count": null,
   "id": "6310d7fa",
   "metadata": {},
   "outputs": [],
   "source": [
    "# start with the filtered tours\n",
    "# base_atwork_tours_df = base_tour[base_tour.tour_category == 'atwork']\n",
    "# build_atwork_tours_df = build_tour[build_tour.tour_category == 'atwork']\n",
    "\n",
    "# translate time bin to time period index\n",
    "base_tour['start_period'] = base_tour.start.apply(vh.get_time_period_index)\n",
    "build_tour['start_period'] = build_tour.start.apply(vh.get_time_period_index)\n",
    "base_tour['end_period'] = base_tour.end.apply(vh.get_time_period_index)\n",
    "build_tour['end_period'] = build_tour.end.apply(vh.get_time_period_index) "
   ]
  },
  {
   "cell_type": "code",
   "execution_count": null,
   "id": "84c330a3",
   "metadata": {},
   "outputs": [],
   "source": [
    "# join base and build tours on tour_id\n",
    "# compare tours that are in both base and build datasets\n",
    "df = pd.merge(\n",
    "    base_tour,\n",
    "    build_tour,\n",
    "    left_index=True,\n",
    "    right_index=True,\n",
    "    suffixes=('_base', '_build'),\n",
    "    how='inner'\n",
    ")\n",
    "\n",
    "# get the difference in start and end times\n",
    "df['start_bin_difference'] = df.start_build - df.start_base\n",
    "df['end_bin_difference'] = df.end_build - df.end_base\n",
    "\n",
    "# get the difference in start and end time periods\n",
    "df['start_period_difference'] = df.start_period_build - df.start_period_base\n",
    "df['end_period_difference'] = df.end_period_build - df.end_period_base"
   ]
  },
  {
   "cell_type": "code",
   "execution_count": null,
   "id": "907d19b3",
   "metadata": {},
   "outputs": [],
   "source": [
    "display(Markdown(f\"### Atwork Subtour Start Time Bin Difference\"))\n",
    "purpose_df = df.groupby(f'start_bin_difference').size().reset_index()\n",
    "purpose_df.columns = [f'start_bin_difference', 'count']\n",
    "purpose_df = purpose_df.sort_values(by=f'start_bin_difference')\n",
    "\n",
    "fig = vh.create_bar_chart(\n",
    "    source_data=purpose_df,\n",
    "    source=f'start_bin_difference',\n",
    "    col=f'start_bin_difference',\n",
    "    plot_col='count',\n",
    "    # title=f\"{purpose.capitalize()} Tour {metric.capitalize()} Time Difference\",\n",
    ")\n",
    "fig.show()\n",
    "display(Markdown(\" \"))"
   ]
  },
  {
   "cell_type": "code",
   "execution_count": null,
   "id": "c41eaf25",
   "metadata": {},
   "outputs": [],
   "source": [
    "display(Markdown(f\"### Atwork Subtour Start Time Period Difference\"))\n",
    "purpose_df = df.groupby(f'start_period_difference').size().reset_index()\n",
    "purpose_df.columns = [f'start_period_difference', 'count']\n",
    "purpose_df = purpose_df.sort_values(by=f'start_period_difference')\n",
    "\n",
    "fig = vh.create_bar_chart(\n",
    "    source_data=purpose_df,\n",
    "    source=f'start_period_difference',\n",
    "    col=f'start_period_difference',\n",
    "    plot_col='count',\n",
    "    # title=f\"{purpose.capitalize()} Tour {metric.capitalize()} Time Difference\",\n",
    ")\n",
    "fig.show()\n",
    "display(Markdown(\" \"))"
   ]
  },
  {
   "cell_type": "code",
   "execution_count": null,
   "id": "a8e861dd",
   "metadata": {},
   "outputs": [],
   "source": [
    "display(Markdown(f\"### Atwork Subtour End Time Bin Difference\"))\n",
    "purpose_df = df.groupby(f'end_period_difference').size().reset_index()\n",
    "purpose_df.columns = [f'end_period_difference', 'count']\n",
    "purpose_df = purpose_df.sort_values(by=f'end_period_difference')\n",
    "\n",
    "fig = vh.create_bar_chart(\n",
    "    source_data=purpose_df,\n",
    "    source=f'end_period_difference',\n",
    "    col=f'end_period_difference',\n",
    "    plot_col='count',\n",
    "    # title=f\"{purpose.capitalize()} Tour {metric.capitalize()} Time Difference\",\n",
    ")\n",
    "fig.show()\n",
    "display(Markdown(\" \"))"
   ]
  },
  {
   "cell_type": "code",
   "execution_count": null,
   "id": "48de62b9",
   "metadata": {},
   "outputs": [],
   "source": [
    "display(Markdown(f\"### Atwork Subtour End Time Period Difference\"))\n",
    "purpose_df = df.groupby(f'end_period_difference').size().reset_index()\n",
    "purpose_df.columns = [f'end_period_difference', 'count']\n",
    "purpose_df = purpose_df.sort_values(by=f'end_period_difference')\n",
    "\n",
    "fig = vh.create_bar_chart(\n",
    "    source_data=purpose_df,\n",
    "    source=f'end_period_difference',\n",
    "    col=f'end_period_difference',\n",
    "    plot_col='count',\n",
    "    # title=f\"{purpose.capitalize()} Tour {metric.capitalize()} Time Difference\",\n",
    ")\n",
    "fig.show()\n",
    "display(Markdown(\" \"))"
   ]
  },
  {
   "cell_type": "markdown",
   "id": "29f9bfa7",
   "metadata": {},
   "source": [
    "## At-Work Subtour Mode Choice"
   ]
  },
  {
   "cell_type": "code",
   "execution_count": null,
   "id": "052ff80f",
   "metadata": {},
   "outputs": [],
   "source": [
    "print(\"Lorem ipsum\") # Placeholder for CS"
   ]
  },
  {
   "cell_type": "markdown",
   "id": "ac961eb2",
   "metadata": {},
   "source": [
    "## Stop Frequency"
   ]
  },
  {
   "cell_type": "code",
   "execution_count": null,
   "id": "6fb17221",
   "metadata": {},
   "outputs": [],
   "source": [
    "print(\"Lorem ipsum\") # Placeholder for CS"
   ]
  }
 ],
 "metadata": {
  "kernelspec": {
   "display_name": ".venv",
   "language": "python",
   "name": "python3"
  },
  "language_info": {
   "codemirror_mode": {
    "name": "ipython",
    "version": 3
   },
   "file_extension": ".py",
   "mimetype": "text/x-python",
   "name": "python",
   "nbconvert_exporter": "python",
   "pygments_lexer": "ipython3",
   "version": "3.13.4"
  }
 },
 "nbformat": 4,
 "nbformat_minor": 5
}
