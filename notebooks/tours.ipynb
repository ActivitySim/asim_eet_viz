{
 "cells": [
  {
   "cell_type": "raw",
   "id": "155d0f85",
   "metadata": {
    "vscode": {
     "languageId": "raw"
    }
   },
   "source": [
    "---\n",
    "title: Tour Models\n",
    "date: today\n",
    "---"
   ]
  },
  {
   "cell_type": "code",
   "execution_count": null,
   "id": "5f97b388",
   "metadata": {},
   "outputs": [],
   "source": [
    "import pandas as pd\n",
    "import yaml\n",
    "import plotly.io as pio\n",
    "pio.renderers.default = \"plotly_mimetype+notebook_connected\"\n",
    "\n",
    "from IPython.display import Markdown, display\n",
    "import visualizer_helpers as vh"
   ]
  },
  {
   "cell_type": "code",
   "execution_count": null,
   "id": "1222b87a",
   "metadata": {},
   "outputs": [],
   "source": [
    "# file IO locations\n",
    "with open('_quarto.yml') as f:\n",
    "    config = yaml.safe_load(f)\n",
    "base_dir = config['sources']['base']\n",
    "build_dir = config['sources']['build']"
   ]
  },
  {
   "cell_type": "code",
   "execution_count": null,
   "id": "a5de2921",
   "metadata": {},
   "outputs": [],
   "source": [
    "name_dict = {'escort': \"Escorting\", \n",
    "             'work': \"Work\", \n",
    "             'school': \"School\", \n",
    "             'othmaint': \"Other-Maintenance\",\n",
    "             'othdiscr': \"Other-Discretionary\", \n",
    "             'shopping': \"Shopping\",\n",
    "             'atwork': \"At-work Subtour\", \n",
    "             'eatout': \"Eat Out\", \n",
    "             'social' : \"Social\", \n",
    "             'univ': \"University\"}"
   ]
  },
  {
   "cell_type": "markdown",
   "id": "09f11c37",
   "metadata": {},
   "source": [
    "## Non-Mandatory Tour Frequency"
   ]
  },
  {
   "cell_type": "code",
   "execution_count": null,
   "id": "f86a6954",
   "metadata": {},
   "outputs": [],
   "source": [
    "print(\"Lorem ipsum\") # Placeholder for WSP"
   ]
  },
  {
   "cell_type": "markdown",
   "id": "02abda8e",
   "metadata": {},
   "source": [
    "## Non-Mandatory Tour Destinations"
   ]
  },
  {
   "cell_type": "code",
   "execution_count": null,
   "id": "926736b3",
   "metadata": {},
   "outputs": [],
   "source": [
    "base_tour = pd.read_csv(f\"{base_dir}/final_tours.csv\", \n",
    "                        index_col='tour_id', \n",
    "                        usecols=['tour_id','tour_category','destination','primary_purpose'])\n",
    "\n",
    "build_tour = pd.read_csv(f\"{build_dir}/final_tours.csv\", \n",
    "                         index_col='tour_id', \n",
    "                         usecols=['tour_id','tour_category','destination','primary_purpose'])\n"
   ]
  },
  {
   "cell_type": "code",
   "execution_count": null,
   "id": "c3027c7d",
   "metadata": {},
   "outputs": [],
   "source": [
    "df = base_tour[base_tour.tour_category == 'non_mandatory'].merge(build_tour,\n",
    "                                                                 how='left',\n",
    "                                                                 left_index=True,\n",
    "                                                                 right_index=True,\n",
    "                                                                 suffixes=('_base','_build'))\n",
    "\n",
    "df = (df.destination_base == df.destination_build).value_counts()\n",
    "df.index = df.index.map({True:'No Change',False:'Change'})\n",
    "df"
   ]
  },
  {
   "cell_type": "code",
   "execution_count": null,
   "id": "fba6627b",
   "metadata": {},
   "outputs": [],
   "source": [
    "fig = vh.create_pie_chart(df.to_frame(),[\"count\"])\n",
    "fig.show()"
   ]
  },
  {
   "cell_type": "raw",
   "id": "fb5d3b94",
   "metadata": {},
   "source": [
    "::: {.panel-tabset}"
   ]
  },
  {
   "cell_type": "code",
   "execution_count": null,
   "id": "5ecb0e5e",
   "metadata": {},
   "outputs": [],
   "source": [
    "# | output: asis\n",
    "# above comment is needed for Quarto to render subtabs correctly\n",
    "\n",
    "for key, value in name_dict.items():\n",
    "\n",
    "    if len(base_tour[\n",
    "        (base_tour.tour_category == 'non_mandatory')\n",
    "        & (base_tour.primary_purpose == key)\n",
    "        ]) == 0:\n",
    "        continue\n",
    "    \n",
    "    print(f\"#### {value}\")\n",
    "    df = base_tour[\n",
    "        (base_tour.tour_category == 'non_mandatory')\n",
    "        & (base_tour.primary_purpose == key)\n",
    "        ].merge(build_tour,\n",
    "                how='left',\n",
    "                left_index=True,\n",
    "                right_index=True,\n",
    "                suffixes=('_base','_build'))\n",
    "    \n",
    "    df = (df.destination_base == df.destination_build).value_counts()\n",
    "    df.index = df.index.map({True:'No Change',False:'Change'})\n",
    "    print(str(df).replace(\"\\n\",\"<br>\"))\n",
    "    \n",
    "    fig = vh.create_pie_chart(df.to_frame(),[\"count\"])\n",
    "    \n",
    "    fig.show()\n",
    "    display(Markdown(\" \"))"
   ]
  },
  {
   "cell_type": "raw",
   "id": "8fa5cf90",
   "metadata": {},
   "source": [
    ":::"
   ]
  },
  {
   "cell_type": "markdown",
   "id": "9dc57a10",
   "metadata": {},
   "source": [
    "## Non-Mandatory Tour Scheduling"
   ]
  },
  {
   "cell_type": "code",
   "execution_count": null,
   "id": "1713c170",
   "metadata": {},
   "outputs": [],
   "source": [
    "print(\"Lorem ipsum\") # Placeholder for WSP"
   ]
  },
  {
   "cell_type": "markdown",
   "id": "8976f398",
   "metadata": {},
   "source": [
    "## Tour Mode Choice"
   ]
  },
  {
   "cell_type": "code",
   "execution_count": null,
   "id": "b23a883c",
   "metadata": {},
   "outputs": [],
   "source": [
    "print(\"Lorem ipsum\") # Placeholder for CS"
   ]
  },
  {
   "cell_type": "markdown",
   "id": "c1a39b2b",
   "metadata": {},
   "source": [
    "## At-Work Subtour Frequency"
   ]
  },
  {
   "cell_type": "code",
   "execution_count": null,
   "id": "5fe39fd8",
   "metadata": {},
   "outputs": [],
   "source": [
    "print(\"Lorem ipsum\") # Placeholder for WSP"
   ]
  },
  {
   "cell_type": "markdown",
   "id": "df242b89",
   "metadata": {},
   "source": [
    "## At-Work Subtour Destinations"
   ]
  },
  {
   "cell_type": "code",
   "execution_count": null,
   "id": "752979eb",
   "metadata": {},
   "outputs": [],
   "source": [
    "base_tour = pd.read_csv(f\"{base_dir}/final_tours.csv\", \n",
    "                        index_col='tour_id', \n",
    "                        usecols=['tour_id','tour_category','destination','primary_purpose'])\n",
    "\n",
    "build_tour = pd.read_csv(f\"{build_dir}/final_tours.csv\", \n",
    "                         index_col='tour_id', \n",
    "                         usecols=['tour_id','tour_category','destination','primary_purpose'])\n"
   ]
  },
  {
   "cell_type": "code",
   "execution_count": null,
   "id": "d0f3ae6a",
   "metadata": {},
   "outputs": [],
   "source": [
    "df = base_tour[base_tour.tour_category == 'atwork'].merge(build_tour,\n",
    "                                                          how='left',\n",
    "                                                          left_index=True,\n",
    "                                                          right_index=True,\n",
    "                                                          suffixes=('_base','_build'))\n",
    "\n",
    "df = (df.destination_base == df.destination_build).value_counts()\n",
    "df.index = df.index.map({True:'No Change',False:'Change'})\n",
    "df"
   ]
  },
  {
   "cell_type": "code",
   "execution_count": null,
   "id": "479e63bd",
   "metadata": {},
   "outputs": [],
   "source": [
    "fig = vh.create_pie_chart(df.to_frame(),[\"count\"])\n",
    "fig.show()"
   ]
  },
  {
   "cell_type": "markdown",
   "id": "3ef0a582",
   "metadata": {},
   "source": [
    "## At-Work Subtour Scheduling"
   ]
  },
  {
   "cell_type": "code",
   "execution_count": null,
   "id": "6310d7fa",
   "metadata": {},
   "outputs": [],
   "source": [
    "print(\"Lorem ipsum\") # Placeholder for WSP"
   ]
  },
  {
   "cell_type": "markdown",
   "id": "29f9bfa7",
   "metadata": {},
   "source": [
    "## At-Work Subtour Mode Choice"
   ]
  },
  {
   "cell_type": "code",
   "execution_count": null,
   "id": "052ff80f",
   "metadata": {},
   "outputs": [],
   "source": [
    "print(\"Lorem ipsum\") # Placeholder for CS"
   ]
  },
  {
   "cell_type": "markdown",
   "id": "ac961eb2",
   "metadata": {},
   "source": [
    "## Stop Frequency"
   ]
  },
  {
   "cell_type": "code",
   "execution_count": null,
   "id": "6fb17221",
   "metadata": {},
   "outputs": [],
   "source": [
    "print(\"Lorem ipsum\") # Placeholder for CS"
   ]
  }
 ],
 "metadata": {
  "language_info": {
   "name": "python"
  }
 },
 "nbformat": 4,
 "nbformat_minor": 5
}
