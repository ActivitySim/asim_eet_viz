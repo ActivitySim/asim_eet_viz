{
 "cells": [
  {
   "cell_type": "raw",
   "id": "52f1a655",
   "metadata": {
    "vscode": {
     "languageId": "raw"
    }
   },
   "source": [
    "---\n",
    "title: Daily Models\n",
    "date: today\n",
    "---"
   ]
  },
  {
   "cell_type": "code",
   "execution_count": null,
   "id": "d9ece70f",
   "metadata": {},
   "outputs": [],
   "source": [
    "import pandas as pd\n",
    "import plotly.io as pio\n",
    "pio.renderers.default = \"plotly_mimetype+notebook_connected\"\n",
    "import yaml\n",
    "\n",
    "from IPython.display import Markdown, display\n",
    "import visualizer_helpers as vh"
   ]
  },
  {
   "cell_type": "code",
   "execution_count": null,
   "id": "8b456644",
   "metadata": {
    "tags": [
     "parameters"
    ]
   },
   "outputs": [],
   "source": [
    "# NOTE: SPECIALLY TAGGED PARAMETERS CELL\n",
    "# Assignments in this cell may be overwritten at compile-time\n",
    "# Otherwise, the below defaults to not filtering any zones\n",
    "zone_set: str = 'all'\n",
    "how_method: str = 'any'\n",
    "affected_tazs: list = []\n",
    "affected_mazs: list = []"
   ]
  },
  {
   "cell_type": "code",
   "execution_count": null,
   "id": "ac808966",
   "metadata": {},
   "outputs": [],
   "source": [
    "# get corresponding filter from zone_set parameter\n",
    "single_filter_tazs, multi_filter_tazs = vh.get_filters(zone_set, how_method, affected_tazs)\n",
    "single_filter_mazs, multi_filter_mazs = vh.get_filters(zone_set, how_method, affected_mazs)"
   ]
  },
  {
   "cell_type": "code",
   "execution_count": null,
   "id": "92e53ec3",
   "metadata": {},
   "outputs": [],
   "source": [
    "# file IO locations\n",
    "with open('_quarto.yml') as f:\n",
    "    config = yaml.safe_load(f)\n",
    "base_dir = config['sources']['base']\n",
    "build_dir = config['sources']['build']"
   ]
  },
  {
   "cell_type": "code",
   "execution_count": null,
   "id": "3f714f97",
   "metadata": {},
   "outputs": [],
   "source": [
    "name_dict = {'escort': \"Escorting\", \n",
    "             'work': \"Work\", \n",
    "             'school': \"School\", \n",
    "             'othmaint': \"Other-Maintenance\",\n",
    "             'othdiscr': \"Other-Discretionary\", \n",
    "             'shopping': \"Shopping\",\n",
    "             'atwork': \"At-work Subtour\", \n",
    "             'eatout': \"Eat Out\", \n",
    "             'social' : \"Social\", \n",
    "             'univ': \"University\"}"
   ]
  },
  {
   "cell_type": "markdown",
   "id": "f1eeefe2",
   "metadata": {},
   "source": [
    "## Coordinated Daily Activity Pattern"
   ]
  },
  {
   "cell_type": "code",
   "execution_count": null,
   "id": "9b48e152",
   "metadata": {},
   "outputs": [],
   "source": [
    "base_persons_df = pd.read_csv(\n",
    "    f\"{base_dir}/final_persons.csv\",\n",
    "    index_col=\"person_id\",\n",
    "    usecols=[\n",
    "        \"person_id\",\n",
    "        \"cdap_activity\",\n",
    "        'home_zone_id'\n",
    "    ]\n",
    ")\n",
    "\n",
    "build_persons_df = pd.read_csv(\n",
    "    f\"{build_dir}/final_persons.csv\",\n",
    "    index_col=\"person_id\",\n",
    "    usecols=[\n",
    "        \"person_id\",\n",
    "        \"cdap_activity\",\n",
    "        'home_zone_id'\n",
    "    ]\n",
    ")"
   ]
  },
  {
   "cell_type": "code",
   "execution_count": null,
   "id": "97a7fcb0",
   "metadata": {},
   "outputs": [],
   "source": [
    "print(f\"Filtering persons by home MAZ. Original Persons: {len(base_persons_df)}\")\n",
    "base_persons_df = base_persons_df[single_filter_mazs(base_persons_df.home_zone_id)]\n",
    "build_persons_df = build_persons_df[single_filter_mazs(build_persons_df.home_zone_id)]\n",
    "print(f\"Persons after filtering: {len(base_persons_df)}\")"
   ]
  },
  {
   "cell_type": "code",
   "execution_count": null,
   "id": "7bfcf347",
   "metadata": {},
   "outputs": [],
   "source": [
    "df = pd.crosstab(\n",
    "    base_persons_df.cdap_activity,\n",
    "    build_persons_df.cdap_activity,\n",
    "    rownames=['Base'],\n",
    "    colnames=['Build'],\n",
    "    margins=True,\n",
    "    margins_name='Total'\n",
    ")\n",
    "\n",
    "df"
   ]
  },
  {
   "cell_type": "markdown",
   "id": "e933ff70",
   "metadata": {},
   "source": [
    "## Mandatory Tour Frequency"
   ]
  },
  {
   "cell_type": "code",
   "execution_count": null,
   "id": "c6c6c8fe",
   "metadata": {},
   "outputs": [],
   "source": [
    "# mandatory tour frequency is a decision made by persons, we should apply the filter on person\n",
    "\n",
    "base_persons_df = pd.read_csv(\n",
    "    f\"{base_dir}/final_persons.csv\",\n",
    "    index_col=\"person_id\",\n",
    "    usecols=[\n",
    "        \"person_id\",\n",
    "        \"mandatory_tour_frequency\",\n",
    "        \"home_zone_id\",\n",
    "        \"ptype\"\n",
    "    ]\n",
    ")\n",
    "# keep workers and students\n",
    "base_persons_df = base_persons_df[base_persons_df.ptype.isin([1,2,3,6,7,8])]\n",
    "base_persons_df.loc[base_persons_df.ptype.isin([1,2]), 'person_type'] = \"workers\"\n",
    "base_persons_df.loc[base_persons_df.ptype.isin([3,6,7,8]), 'person_type'] = \"students\"\n",
    "\n",
    "build_persons_df = pd.read_csv(\n",
    "    f\"{build_dir}/final_persons.csv\",\n",
    "    index_col=\"person_id\",\n",
    "    usecols=[\n",
    "        \"person_id\",\n",
    "        \"mandatory_tour_frequency\",\n",
    "        \"home_zone_id\",\n",
    "        \"ptype\"\n",
    "    ]\n",
    ")\n",
    "build_persons_df = build_persons_df[build_persons_df.ptype.isin([1,2,3,6,7,8])]\n",
    "build_persons_df.loc[build_persons_df.ptype.isin([1,2]), 'person_type'] = \"workers\"\n",
    "build_persons_df.loc[build_persons_df.ptype.isin([3,6,7,8]), 'person_type'] = \"students\""
   ]
  },
  {
   "cell_type": "code",
   "execution_count": null,
   "id": "bf8b28ae",
   "metadata": {},
   "outputs": [],
   "source": [
    "print(f\"Filtering persons by home MAZ. Original Persons: {len(base_persons_df)}\")\n",
    "base_persons_df = base_persons_df[single_filter_mazs(base_persons_df.home_zone_id)]\n",
    "build_persons_df = build_persons_df[single_filter_mazs(build_persons_df.home_zone_id)]\n",
    "print(f\"Persons after filtering: {len(base_persons_df)}\")"
   ]
  },
  {
   "cell_type": "raw",
   "id": "a59000fa",
   "metadata": {
    "vscode": {
     "languageId": "raw"
    }
   },
   "source": [
    "::: {.panel-tabset}"
   ]
  },
  {
   "cell_type": "code",
   "execution_count": null,
   "id": "87702659",
   "metadata": {},
   "outputs": [],
   "source": [
    "# | output: asis\n",
    "# above comment is needed for Quarto to render subtabs correctly\n",
    "\n",
    "for person_type in ['workers', 'students']:\n",
    "    df = pd.crosstab(\n",
    "        base_persons_df[base_persons_df.person_type == person_type].mandatory_tour_frequency.fillna('None'),\n",
    "        build_persons_df[build_persons_df.person_type == person_type].mandatory_tour_frequency.fillna('None'),\n",
    "        rownames=['Base'],\n",
    "        colnames=['Build'],\n",
    "        margins=True,\n",
    "        margins_name='Total',\n",
    "        dropna=False\n",
    "    )\n",
    "    \n",
    "    display(Markdown(f\"### {person_type.capitalize()} Mandatory Tour Frequency\"))\n",
    "    display(df)"
   ]
  },
  {
   "cell_type": "raw",
   "id": "fc3e521c",
   "metadata": {},
   "source": [
    ":::"
   ]
  },
  {
   "cell_type": "markdown",
   "id": "40f8ada4",
   "metadata": {},
   "source": [
    "## Non-Mandatory Tour Frequency"
   ]
  },
  {
   "cell_type": "code",
   "execution_count": null,
   "id": "8c9e6eb9",
   "metadata": {},
   "outputs": [],
   "source": [
    "# Tour Frequency is a person choice, so we should apply the filter on person\n",
    "\n",
    "base_persons_df = pd.read_csv(\n",
    "    f\"{base_dir}/final_persons.csv\", \n",
    "    index_col='person_id',\n",
    "    usecols=['person_id', 'home_zone_id'],\n",
    ")\n",
    "\n",
    "build_persons_df = pd.read_csv(\n",
    "    f\"{build_dir}/final_persons.csv\",\n",
    "    index_col='person_id',\n",
    "    usecols=['person_id', 'home_zone_id'],\n",
    ")"
   ]
  },
  {
   "cell_type": "code",
   "execution_count": null,
   "id": "62a4008c",
   "metadata": {},
   "outputs": [],
   "source": [
    "print(f\"Filtering persons by home MAZ. Original Persons: {len(base_persons_df)}\")\n",
    "base_persons_df = base_persons_df[single_filter_mazs(base_persons_df.home_zone_id)]\n",
    "build_persons_df = build_persons_df[single_filter_mazs(build_persons_df.home_zone_id)]\n",
    "print(f\"Persons after filtering: {len(base_persons_df)}\")"
   ]
  },
  {
   "cell_type": "code",
   "execution_count": null,
   "id": "0cebaf9a",
   "metadata": {},
   "outputs": [],
   "source": [
    "# read in unfiltered tours for base and build\n",
    "\n",
    "base_tours_df = pd.read_csv(f\"{base_dir}/final_tours.csv\", \n",
    "                        index_col='tour_id', \n",
    "                        usecols=['tour_id','tour_category','primary_purpose','person_id'])\n",
    "\n",
    "build_tours_df = pd.read_csv(f\"{build_dir}/final_tours.csv\", \n",
    "                         index_col='tour_id', \n",
    "                         usecols=['tour_id','tour_category','primary_purpose','person_id'])\n",
    "\n",
    "# keep non-mandatory tours only\n",
    "base_tours_df = base_tours_df[base_tours_df.tour_category == 'non_mandatory']\n",
    "build_tours_df = build_tours_df[build_tours_df.tour_category == 'non_mandatory']"
   ]
  },
  {
   "cell_type": "code",
   "execution_count": null,
   "id": "3a00ec3a",
   "metadata": {},
   "outputs": [],
   "source": [
    "# count non-mandatory tours by person\n",
    "base_tour_counts_df = base_tours_df.groupby('person_id').size()\n",
    "build_tour_counts_df = build_tours_df.groupby('person_id').size()\n",
    "base_tour_counts_df = base_tour_counts_df.rename('non-mandatory')\n",
    "build_tour_counts_df = build_tour_counts_df.rename('non-mandatory')\n",
    "\n",
    "# reindex to ensure all persons are included, filling missing with 0\n",
    "base_person_tour_counts_df = base_tour_counts_df.reindex(base_persons_df.index, fill_value=0)\n",
    "build_person_tour_counts_df = build_tour_counts_df.reindex(base_persons_df.index, fill_value=0)\n",
    "\n",
    "display(Markdown(f\"### Non-Mandatory Tour Counts\\n\"))\n",
    "df = pd.crosstab(\n",
    "    base_person_tour_counts_df, \n",
    "    build_person_tour_counts_df, \n",
    "    rownames=['Base'], \n",
    "    colnames=['Build'], \n",
    "    margins=True, \n",
    "    margins_name='Total'\n",
    ")\n",
    "\n",
    "df"
   ]
  },
  {
   "cell_type": "raw",
   "id": "c4132ce1",
   "metadata": {},
   "source": [
    "::: {.panel-tabset}"
   ]
  },
  {
   "cell_type": "code",
   "execution_count": null,
   "id": "4ac69234",
   "metadata": {},
   "outputs": [],
   "source": [
    "# | output: asis\n",
    "# above comment is needed for Quarto to render subtabs correctly\n",
    "\n",
    "for key, value in name_dict.items():\n",
    "    \n",
    "    if len(base_tours_df[base_tours_df.primary_purpose == key]) == 0:\n",
    "        continue\n",
    "\n",
    "    # count tours by primary purpose\n",
    "    base_tour_counts_df = base_tours_df[base_tours_df.primary_purpose == key].groupby('person_id').size()\n",
    "    build_tour_counts_df = build_tours_df[build_tours_df.primary_purpose == key].groupby('person_id').size()\n",
    "    base_tour_counts_df = base_tour_counts_df.rename(value)\n",
    "    build_tour_counts_df = build_tour_counts_df.rename(value)\n",
    "\n",
    "    # reindex to ensure all persons are included, filling missing with 0\n",
    "    base_person_tour_counts_df = base_tour_counts_df.reindex(base_persons_df.index, fill_value=0)\n",
    "    build_person_tour_counts_df = build_tour_counts_df.reindex(base_persons_df.index, fill_value=0)\n",
    "\n",
    "    df = pd.crosstab(\n",
    "        base_person_tour_counts_df, \n",
    "        build_person_tour_counts_df, \n",
    "        rownames=['Base'], \n",
    "        colnames=['Build'], \n",
    "        margins=True, \n",
    "        margins_name='Total'\n",
    "    )\n",
    "\n",
    "    display(Markdown(f\"\\n### {value} Tour Counts\"))\n",
    "    display(df)"
   ]
  },
  {
   "cell_type": "raw",
   "id": "737f32e9",
   "metadata": {},
   "source": [
    ":::"
   ]
  }
 ],
 "metadata": {
  "kernelspec": {
   "display_name": ".venv",
   "language": "python",
   "name": "python3"
  },
  "language_info": {
   "codemirror_mode": {
    "name": "ipython",
    "version": 3
   },
   "file_extension": ".py",
   "mimetype": "text/x-python",
   "name": "python",
   "nbconvert_exporter": "python",
   "pygments_lexer": "ipython3",
   "version": "3.13.4"
  }
 },
 "nbformat": 4,
 "nbformat_minor": 5
}
