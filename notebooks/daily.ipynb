{
 "cells": [
  {
   "cell_type": "raw",
   "id": "52f1a655",
   "metadata": {
    "vscode": {
     "languageId": "raw"
    }
   },
   "source": [
    "---\n",
    "title: Daily Models\n",
    "date: today\n",
    "---"
   ]
  },
  {
   "cell_type": "code",
   "execution_count": null,
   "id": "d9ece70f",
   "metadata": {},
   "outputs": [],
   "source": [
    "import pandas as pd\n",
    "import plotly.io as pio\n",
    "pio.renderers.default = \"plotly_mimetype+notebook_connected\"\n",
    "import yaml\n",
    "\n",
    "from IPython.display import Markdown, display\n",
    "import visualizer_helpers as vh"
   ]
  },
  {
   "cell_type": "code",
   "execution_count": null,
   "id": "8b456644",
   "metadata": {
    "tags": [
     "parameters"
    ]
   },
   "outputs": [],
   "source": [
    "# NOTE: SPECIALLY TAGGED PARAMETERS CELL\n",
    "# Assignments in this cell may be overwritten at compile-time\n",
    "# Otherwise, the below defaults to not filtering any zones\n",
    "zone_set: str = 'all'\n",
    "how_method: str = 'any'\n",
    "affected_tazs: list = []\n",
    "affected_mazs: list = []"
   ]
  },
  {
   "cell_type": "code",
   "execution_count": null,
   "id": "ac808966",
   "metadata": {},
   "outputs": [],
   "source": [
    "# get corresponding filter from zone_set parameter\n",
    "single_filter_tazs, multi_filter_tazs = vh.get_filters(zone_set, how_method, affected_tazs)\n",
    "single_filter_mazs, multi_filter_mazs = vh.get_filters(zone_set, how_method, affected_mazs)"
   ]
  },
  {
   "cell_type": "code",
   "execution_count": null,
   "id": "92e53ec3",
   "metadata": {},
   "outputs": [],
   "source": [
    "# file IO locations\n",
    "with open('_quarto.yml') as f:\n",
    "    config = yaml.safe_load(f)\n",
    "base_dir = config['sources']['base']\n",
    "build_dir = config['sources']['build']"
   ]
  },
  {
   "cell_type": "markdown",
   "id": "f1eeefe2",
   "metadata": {},
   "source": [
    "## Coordinated Daily Activity Pattern"
   ]
  },
  {
   "cell_type": "code",
   "execution_count": null,
   "id": "9b48e152",
   "metadata": {},
   "outputs": [],
   "source": [
    "base_persons_df = pd.read_csv(\n",
    "    f\"{base_dir}/final_persons.csv\",\n",
    "    index_col=\"person_id\",\n",
    "    usecols=[\n",
    "        \"person_id\",\n",
    "        \"cdap_activity\",\n",
    "        'home_zone_id'\n",
    "    ]\n",
    ")\n",
    "\n",
    "build_persons_df = pd.read_csv(\n",
    "    f\"{build_dir}/final_persons.csv\",\n",
    "    index_col=\"person_id\",\n",
    "    usecols=[\n",
    "        \"person_id\",\n",
    "        \"cdap_activity\",\n",
    "        'home_zone_id'\n",
    "    ]\n",
    ")"
   ]
  },
  {
   "cell_type": "code",
   "execution_count": null,
   "id": "97a7fcb0",
   "metadata": {},
   "outputs": [],
   "source": [
    "print(f\"Filtering persons by home MAZ. Original Persons: {len(base_persons_df)}\")\n",
    "base_persons_df = base_persons_df[single_filter_mazs(base_persons_df.home_zone_id)]\n",
    "build_persons_df = build_persons_df[single_filter_mazs(build_persons_df.home_zone_id)]\n",
    "print(f\"Persons after filtering: {len(base_persons_df)}\")"
   ]
  },
  {
   "cell_type": "code",
   "execution_count": null,
   "id": "7bfcf347",
   "metadata": {},
   "outputs": [],
   "source": [
    "df = pd.crosstab(\n",
    "    base_persons_df.cdap_activity,\n",
    "    build_persons_df.cdap_activity,\n",
    "    rownames=['Base'],\n",
    "    colnames=['Build'],\n",
    "    margins=True,\n",
    "    margins_name='Total'\n",
    ")\n",
    "\n",
    "df"
   ]
  },
  {
   "cell_type": "markdown",
   "id": "e933ff70",
   "metadata": {},
   "source": [
    "## Mandatory Tour Frequency"
   ]
  },
  {
   "cell_type": "code",
   "execution_count": null,
   "id": "c6c6c8fe",
   "metadata": {},
   "outputs": [],
   "source": [
    "# mandatory tour frequency is a decision made by persons, we should apply the filter on person\n",
    "\n",
    "base_persons_df = pd.read_csv(\n",
    "    f\"{base_dir}/final_persons.csv\",\n",
    "    index_col=\"person_id\",\n",
    "    usecols=[\n",
    "        \"person_id\",\n",
    "        \"mandatory_tour_frequency\",\n",
    "        \"home_zone_id\",\n",
    "        \"ptype\"\n",
    "    ]\n",
    ")\n",
    "# keep workers and students\n",
    "base_persons_df = base_persons_df[base_persons_df.ptype.isin([1,2,3,6,7,8])]\n",
    "base_persons_df.loc[base_persons_df.ptype.isin([1,2]), 'person_type'] = \"workers\"\n",
    "base_persons_df.loc[base_persons_df.ptype.isin([3,6,7,8]), 'person_type'] = \"students\"\n",
    "\n",
    "build_persons_df = pd.read_csv(\n",
    "    f\"{build_dir}/final_persons.csv\",\n",
    "    index_col=\"person_id\",\n",
    "    usecols=[\n",
    "        \"person_id\",\n",
    "        \"mandatory_tour_frequency\",\n",
    "        \"home_zone_id\",\n",
    "        \"ptype\"\n",
    "    ]\n",
    ")\n",
    "build_persons_df = build_persons_df[build_persons_df.ptype.isin([1,2,3,6,7,8])]\n",
    "build_persons_df.loc[build_persons_df.ptype.isin([1,2]), 'person_type'] = \"workers\"\n",
    "build_persons_df.loc[build_persons_df.ptype.isin([3,6,7,8]), 'person_type'] = \"students\""
   ]
  },
  {
   "cell_type": "code",
   "execution_count": null,
   "id": "bf8b28ae",
   "metadata": {},
   "outputs": [],
   "source": [
    "print(f\"Filtering persons by home MAZ. Original Persons: {len(base_persons_df)}\")\n",
    "base_persons_df = base_persons_df[single_filter_mazs(base_persons_df.home_zone_id)]\n",
    "build_persons_df = build_persons_df[single_filter_mazs(build_persons_df.home_zone_id)]\n",
    "print(f\"Persons after filtering: {len(base_persons_df)}\")"
   ]
  },
  {
   "cell_type": "raw",
   "id": "a59000fa",
   "metadata": {
    "vscode": {
     "languageId": "raw"
    }
   },
   "source": [
    "::: {.panel-tabset}"
   ]
  },
  {
   "cell_type": "code",
   "execution_count": null,
   "id": "87702659",
   "metadata": {},
   "outputs": [],
   "source": [
    "# | output: asis\n",
    "# above comment is needed for Quarto to render subtabs correctly\n",
    "\n",
    "for person_type in ['workers', 'students']:\n",
    "    df = pd.crosstab(\n",
    "        base_persons_df[base_persons_df.person_type == person_type].mandatory_tour_frequency.fillna('None'),\n",
    "        build_persons_df[build_persons_df.person_type == person_type].mandatory_tour_frequency.fillna('None'),\n",
    "        rownames=['Base'],\n",
    "        colnames=['Build'],\n",
    "        margins=True,\n",
    "        margins_name='Total',\n",
    "        dropna=False\n",
    "    )\n",
    "    \n",
    "    display(Markdown(f\"### {person_type.capitalize()} Mandatory Tour Frequency\"))\n",
    "    display(df)"
   ]
  },
  {
   "cell_type": "raw",
   "id": "f5af5d9c",
   "metadata": {
    "vscode": {
     "languageId": "raw"
    }
   },
   "source": [
    ":::"
   ]
  },
  {
   "cell_type": "markdown",
   "id": "f09d9bb8",
   "metadata": {},
   "source": [
    "## Mandatory Tour Scheduling"
   ]
  },
  {
   "cell_type": "code",
   "execution_count": null,
   "id": "1077f748",
   "metadata": {},
   "outputs": [],
   "source": [
    "base_tours_df = pd.read_csv(\n",
    "    f\"{base_dir}/final_tours.csv\",\n",
    "    index_col=\"tour_id\",\n",
    "    usecols=[\n",
    "        \"tour_id\",\n",
    "        \"tour_type\",\n",
    "        \"start\",\n",
    "        \"end\",\n",
    "        \"origin\",\n",
    "        \"destination\"\n",
    "    ]\n",
    ")\n",
    "# keep only work and school tours\n",
    "base_tours_df = base_tours_df[base_tours_df.tour_type.isin(['work', 'school'])]\n",
    "base_tour_idx = base_tours_df.index\n",
    "\n",
    "build_tours_df = pd.read_csv(\n",
    "    f\"{build_dir}/final_tours.csv\",\n",
    "    index_col=\"tour_id\",\n",
    "    usecols=[\n",
    "        \"tour_id\",\n",
    "        \"tour_type\",\n",
    "        \"start\",\n",
    "        \"end\",\n",
    "        \"origin\",\n",
    "        \"destination\"\n",
    "    ]\n",
    ")\n",
    "build_tours_df = build_tours_df[build_tours_df.tour_type.isin(['work', 'school'])]"
   ]
  },
  {
   "cell_type": "code",
   "execution_count": null,
   "id": "0988085a",
   "metadata": {},
   "outputs": [],
   "source": [
    "print(f\"\"\"Filtering tours by origin {\n",
    "    'and' if how_method == 'all' else 'or' if how_method == 'any' else '???'\n",
    "    } destination MAZ.\\nOriginal tours in base: {len(base_tours_df)}\\tbuild: {len(build_tours_df)}\"\"\")\n",
    "\n",
    "base_tours_df = base_tours_df[multi_filter_mazs([base_tours_df.origin, base_tours_df.destination])] # base tour in the filtered set\n",
    "\n",
    "# special build-case filtering\n",
    "build_tour = build_tours_df[(\n",
    "    build_tours_df.index.isin(base_tour_idx) # originally existed in base\n",
    "    & build_tours_df.index.isin(base_tours_df.index)    # and was in the current set for the base\n",
    "    ) |     # OR\n",
    "    ((~build_tours_df.index.isin(base_tour_idx)) # is a new tour \n",
    "     & multi_filter_mazs([build_tours_df.origin, build_tours_df.destination]) # and it's in this set\n",
    "     )]\n",
    "\n",
    "print(f\"After filtering, tours in base: {len(base_tours_df)}\\tbuild: {len(build_tours_df)}\")"
   ]
  },
  {
   "cell_type": "code",
   "execution_count": null,
   "id": "7d117600",
   "metadata": {},
   "outputs": [],
   "source": [
    "# translate time bin to time period index\n",
    "base_tours_df['start_period'] = base_tours_df.start.apply(vh.get_time_period_index)\n",
    "build_tours_df['start_period'] = build_tours_df.start.apply(vh.get_time_period_index)\n",
    "\n",
    "base_tours_df['end_period'] = base_tours_df.end.apply(vh.get_time_period_index)\n",
    "build_tours_df['end_period'] = build_tours_df.end.apply(vh.get_time_period_index)"
   ]
  },
  {
   "cell_type": "code",
   "execution_count": null,
   "id": "ca41c1c9",
   "metadata": {},
   "outputs": [],
   "source": [
    "# join base and build tours on tour_id\n",
    "# compare tours that are in both base and build datasets\n",
    "df = pd.merge(\n",
    "    base_tours_df,\n",
    "    build_tours_df,\n",
    "    left_index=True,\n",
    "    right_index=True,\n",
    "    suffixes=('_base', '_build'),\n",
    "    how='inner'\n",
    ")\n",
    "\n",
    "# get the difference in start and end times\n",
    "df['start_bin_difference'] = df.start_build - df.start_base\n",
    "df['end_bin_difference'] = df.end_build - df.end_base\n",
    "\n",
    "# get the difference in start and end time periods\n",
    "df['start_period_difference'] = df.start_period_build - df.start_period_base\n",
    "df['end_period_difference'] = df.end_period_build - df.end_period_base"
   ]
  },
  {
   "cell_type": "raw",
   "id": "bf815603",
   "metadata": {
    "vscode": {
     "languageId": "raw"
    }
   },
   "source": [
    "::: {.panel-tabset}"
   ]
  },
  {
   "cell_type": "code",
   "execution_count": null,
   "id": "ba420114",
   "metadata": {},
   "outputs": [],
   "source": [
    "# | output: asis\n",
    "# above comment is needed for Quarto to render subtabs correctly\n",
    "\n",
    "for purpose in ['work', 'school']:\n",
    "    for metric in ['start', 'end']:\n",
    "        purpose_df = df[df.tour_type_base == purpose]\n",
    "        display(Markdown(f\"### {purpose.capitalize()} Tour {metric.capitalize()} Time Bin Difference\"))\n",
    "        purpose_df = purpose_df.groupby(f'{metric}_bin_difference').size().reset_index()\n",
    "        purpose_df.columns = [f'{metric}_bin_difference', 'count']\n",
    "        purpose_df = purpose_df.sort_values(by=f'{metric}_bin_difference')\n",
    "\n",
    "        fig = vh.create_bar_chart(\n",
    "            source_data=purpose_df,\n",
    "            source=f'{metric}_bin_difference',\n",
    "            col=f'{metric}_bin_difference',\n",
    "            plot_col='count',\n",
    "            # title=f\"{purpose.capitalize()} Tour {metric.capitalize()} Time Difference\",\n",
    "        )\n",
    "        fig.show()\n",
    "        display(Markdown(\" \"))"
   ]
  },
  {
   "cell_type": "raw",
   "id": "6a48038f",
   "metadata": {
    "vscode": {
     "languageId": "raw"
    }
   },
   "source": [
    ":::"
   ]
  },
  {
   "cell_type": "raw",
   "id": "b9fb3204",
   "metadata": {
    "vscode": {
     "languageId": "raw"
    }
   },
   "source": [
    "::: {.panel-tabset}"
   ]
  },
  {
   "cell_type": "code",
   "execution_count": null,
   "id": "4442f483",
   "metadata": {},
   "outputs": [],
   "source": [
    "# | output: asis\n",
    "# above comment is needed for Quarto to render subtabs correctly\n",
    "\n",
    "for purpose in ['work', 'school']:\n",
    "    for metric in ['start', 'end']:\n",
    "        purpose_df = df[df.tour_type_base == purpose]\n",
    "        display(Markdown(f\"### {purpose.capitalize()} Tour {metric.capitalize()} Time Period Difference\"))\n",
    "        purpose_df = purpose_df.groupby(f'{metric}_period_difference').size().reset_index()\n",
    "        purpose_df.columns = [f'{metric}_period_difference', 'count']\n",
    "        purpose_df = purpose_df.sort_values(by=f'{metric}_period_difference')\n",
    "\n",
    "        fig = vh.create_bar_chart(\n",
    "            source_data=purpose_df,\n",
    "            source=f'{metric}_period_difference',\n",
    "            col=f'{metric}_period_difference',\n",
    "            plot_col='count',\n",
    "            # title=f\"{purpose.capitalize()} Tour {metric.capitalize()} Time Difference\",\n",
    "        )\n",
    "        fig.show()\n",
    "        display(Markdown(\" \"))"
   ]
  },
  {
   "cell_type": "raw",
   "id": "fcb86757",
   "metadata": {
    "vscode": {
     "languageId": "raw"
    }
   },
   "source": [
    ":::"
   ]
  }
 ],
 "metadata": {
  "kernelspec": {
   "display_name": ".venv",
   "language": "python",
   "name": "python3"
  },
  "language_info": {
   "codemirror_mode": {
    "name": "ipython",
    "version": 3
   },
   "file_extension": ".py",
   "mimetype": "text/x-python",
   "name": "python",
   "nbconvert_exporter": "python",
   "pygments_lexer": "ipython3",
   "version": "3.13.4"
  }
 },
 "nbformat": 4,
 "nbformat_minor": 5
}
