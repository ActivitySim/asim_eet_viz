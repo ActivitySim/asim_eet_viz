{
 "cells": [
  {
   "cell_type": "raw",
   "id": "1f52bab0",
   "metadata": {
    "vscode": {
     "languageId": "raw"
    }
   },
   "source": [
    "---\n",
    "title: Trip Models\n",
    "date: today\n",
    "---"
   ]
  },
  {
   "cell_type": "code",
   "execution_count": null,
   "id": "3fda3191",
   "metadata": {},
   "outputs": [],
   "source": [
    "import pandas as pd\n",
    "import yaml\n",
    "import plotly.io as pio\n",
    "pio.renderers.default = \"plotly_mimetype+notebook_connected\"\n",
    "\n",
    "from IPython.display import Markdown, display\n",
    "import visualizer_helpers as vh"
   ]
  },
  {
   "cell_type": "code",
   "execution_count": null,
   "id": "c62e8340",
   "metadata": {
    "tags": [
     "parameters"
    ]
   },
   "outputs": [],
   "source": [
    "# NOTE: SPECIALLY TAGGED PARAMETERS CELL\n",
    "# Assignments in this cell may be overwritten at compile-time\n",
    "# Otherwise, the below defaults to not filtering any zones\n",
    "zone_set: str = 'all'\n",
    "how_method: str = 'any'\n",
    "affected_tazs: list = []\n",
    "affected_mazs: list = []"
   ]
  },
  {
   "cell_type": "code",
   "execution_count": null,
   "id": "cadf4092",
   "metadata": {},
   "outputs": [],
   "source": [
    "# get corresponding filter from zone_set parameter\n",
    "single_filter_tazs, multi_filter_tazs = vh.get_filters(zone_set, how_method, affected_tazs)\n",
    "single_filter_mazs, multi_filter_mazs = vh.get_filters(zone_set, how_method, affected_mazs)"
   ]
  },
  {
   "cell_type": "code",
   "execution_count": null,
   "id": "237668d9",
   "metadata": {},
   "outputs": [],
   "source": [
    "# file IO locations\n",
    "with open('_quarto.yml') as f:\n",
    "    config = yaml.safe_load(f)\n",
    "base_dir = config['sources']['base']\n",
    "build_dir = config['sources']['build']"
   ]
  },
  {
   "cell_type": "code",
   "execution_count": null,
   "id": "52c9d86a",
   "metadata": {},
   "outputs": [],
   "source": [
    "base_trip = pd.read_csv(f\"{base_dir}/final_trips.csv\", \n",
    "                        index_col='trip_id', \n",
    "                        usecols=['trip_id','trip_count','trip_num','origin','destination','depart'])\n",
    "base_trip_idx = base_trip.index\n",
    "build_trip = pd.read_csv(f\"{build_dir}/final_trips.csv\", \n",
    "                         index_col='trip_id', \n",
    "                         usecols=['trip_id','trip_count','trip_num','origin','destination','depart'])\n"
   ]
  },
  {
   "cell_type": "code",
   "execution_count": null,
   "id": "d5ee28c5",
   "metadata": {},
   "outputs": [],
   "source": [
    "print(f\"\"\"Filtering trips by origin {\n",
    "    'and' if how_method == 'all' else 'or' if how_method == 'any' else '???'\n",
    "    } destination TAZ.\\nOriginal trips in base: {len(base_trip)}\\tbuild: {len(build_trip)}\\tdiff: {len(build_trip)-len(base_trip)}\"\"\")\n",
    "\n",
    "base_trip = base_trip[multi_filter_mazs([base_trip.origin, base_trip.destination])] # base tour in the filtered set\n",
    "\n",
    "build_trip = build_trip[\n",
    "\n",
    "    (build_trip.index.isin(base_trip_idx) # originally existed in base\n",
    "    & build_trip.index.isin(base_trip.index) )    # and was in the current set for the base\n",
    " \n",
    "    |     # OR\n",
    "    ((~build_trip.index.isin(base_trip_idx)) # is a new tour \n",
    "     & multi_filter_mazs([build_trip.origin, build_trip.destination])) # and it's in this set\n",
    "     \n",
    "    ]\n",
    "\n",
    "print(f\"After filtering, trips in base: {len(build_trip)}\\tbuild: {len(build_trip)}\\tdiff: {len(build_trip)-len(base_trip)}\")"
   ]
  },
  {
   "cell_type": "markdown",
   "id": "265516ee",
   "metadata": {},
   "source": [
    "## Trip Purpose"
   ]
  },
  {
   "cell_type": "code",
   "execution_count": null,
   "id": "e0d5e2e0",
   "metadata": {},
   "outputs": [],
   "source": [
    "print(\"Lorem ipsum\") # Placeholder for CS"
   ]
  },
  {
   "cell_type": "markdown",
   "id": "6a7d1649",
   "metadata": {},
   "source": [
    "## Trip Destination"
   ]
  },
  {
   "cell_type": "code",
   "execution_count": null,
   "id": "cd44fbfc",
   "metadata": {},
   "outputs": [],
   "source": [
    "df = base_trip[base_trip.trip_count != base_trip.trip_num].merge(build_trip[build_trip.trip_count != build_trip.trip_num],\n",
    "                                                                 how='outer',\n",
    "                                                                 left_index=True,\n",
    "                                                                 right_index=True,\n",
    "                                                                 suffixes=('_base','_build'))\n"
   ]
  },
  {
   "cell_type": "code",
   "execution_count": null,
   "id": "f3f589ae",
   "metadata": {},
   "outputs": [],
   "source": [
    "df.loc[df.destination_base == df.destination_build,'Case'] = \"Unchanged\"\n",
    "df.loc[df.destination_base != df.destination_build,'Case'] = \"Changed\"\n",
    "\n",
    "df.loc[df.destination_base.isna(),'Case'] = \"Newly Created\"\n",
    "df.loc[df.destination_build.isna(),\"Case\"] = \"Removed\"\n"
   ]
  },
  {
   "cell_type": "code",
   "execution_count": null,
   "id": "95b875de",
   "metadata": {},
   "outputs": [],
   "source": [
    "df = df.Case.value_counts()\n",
    "\n",
    "df"
   ]
  },
  {
   "cell_type": "code",
   "execution_count": null,
   "id": "9a32760d",
   "metadata": {},
   "outputs": [],
   "source": [
    "fig = vh.create_pie_chart(df.to_frame().sort_index(),[\"count\"])\n",
    "fig.show()"
   ]
  },
  {
   "cell_type": "markdown",
   "id": "a47e4efc",
   "metadata": {},
   "source": [
    "## Trip Scheduling"
   ]
  },
  {
   "cell_type": "code",
   "execution_count": null,
   "id": "712e8ed2",
   "metadata": {},
   "outputs": [],
   "source": [
    "# translate departure to time period index\n",
    "base_trip['depart_period'] = base_trip.depart.apply(vh.get_time_period_index)\n",
    "build_trip['depart_period'] = build_trip.depart.apply(vh.get_time_period_index)\n",
    "\n",
    "# join base and build trips on trip_id\n",
    "# compare trips that are in both base and build\n",
    "df = base_trip.merge(\n",
    "    build_trip, \n",
    "    how='inner', \n",
    "    left_index=True, \n",
    "    right_index=True,\n",
    "    suffixes=('_base', '_build')\n",
    ")\n",
    "\n",
    "# get the difference in departure time\n",
    "df['depart_bin_difference'] = df.depart_build - df.depart_base\n",
    "# get the difference in departure time period\n",
    "df['depart_period_difference'] = df.depart_period_build - df.depart_period_base"
   ]
  },
  {
   "cell_type": "raw",
   "id": "002b37f5",
   "metadata": {
    "vscode": {
     "languageId": "raw"
    }
   },
   "source": [
    "::: {.panel-tabset}"
   ]
  },
  {
   "cell_type": "code",
   "execution_count": null,
   "id": "d374cfce",
   "metadata": {},
   "outputs": [],
   "source": [
    "# | output: asis\n",
    "# above comment is needed for Quarto to render subtabs correctly\n",
    "\n",
    "for key in ['bin', 'period']:\n",
    "    purpose_df = df\n",
    "    display(Markdown(f\"### Trip Departure Time {key.capitalize()} Difference\"))\n",
    "    purpose_df = purpose_df.groupby(f'depart_{key}_difference').size().reset_index()\n",
    "    purpose_df.columns = [f'depart_{key}_difference', 'count']\n",
    "    purpose_df = purpose_df.sort_values(by=f'depart_{key}_difference')\n",
    "\n",
    "    fig = vh.create_bar_chart(\n",
    "        source_data=purpose_df,\n",
    "        source=f'depart_{key}_difference',\n",
    "        col=f'depart_{key}_difference',\n",
    "        plot_col='count',\n",
    "        # title=f\"{purpose.capitalize()} Tour {metric.capitalize()} Time Difference\",\n",
    "    )\n",
    "    fig.show()\n",
    "    display(Markdown(\" \"))"
   ]
  },
  {
   "cell_type": "raw",
   "id": "bd16f546",
   "metadata": {
    "vscode": {
     "languageId": "raw"
    }
   },
   "source": [
    ":::"
   ]
  },
  {
   "cell_type": "markdown",
   "id": "aa129b4c",
   "metadata": {},
   "source": [
    "## Trip Mode Choice"
   ]
  },
  {
   "cell_type": "code",
   "execution_count": null,
   "id": "d1adb492",
   "metadata": {},
   "outputs": [],
   "source": [
    "print(\"Lorem ipsum\") # Placeholder for CS"
   ]
  }
 ],
 "metadata": {
  "kernelspec": {
   "display_name": "asimviz",
   "language": "python",
   "name": "python3"
  },
  "language_info": {
   "codemirror_mode": {
    "name": "ipython",
    "version": 3
   },
   "file_extension": ".py",
   "mimetype": "text/x-python",
   "name": "python",
   "nbconvert_exporter": "python",
   "pygments_lexer": "ipython3",
   "version": "3.12.9"
  }
 },
 "nbformat": 4,
 "nbformat_minor": 5
}
