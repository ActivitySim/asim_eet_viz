{
 "cells": [
  {
   "cell_type": "raw",
   "id": "1f52bab0",
   "metadata": {
    "vscode": {
     "languageId": "raw"
    }
   },
   "source": [
    "---\n",
    "title: Trip Models\n",
    "date: today\n",
    "---"
   ]
  },
  {
   "cell_type": "code",
   "execution_count": null,
   "id": "3fda3191",
   "metadata": {},
   "outputs": [],
   "source": [
    "import pandas as pd\n",
    "import yaml\n",
    "import plotly.io as pio\n",
    "pio.renderers.default = \"plotly_mimetype+notebook_connected\"\n",
    "\n",
    "from IPython.display import Markdown, display\n",
    "import visualizer_helpers as vh"
   ]
  },
  {
   "cell_type": "code",
   "execution_count": null,
   "id": "237668d9",
   "metadata": {},
   "outputs": [],
   "source": [
    "# file IO locations\n",
    "with open('_quarto.yml') as f:\n",
    "    config = yaml.safe_load(f)\n",
    "base_dir = config['sources']['base']\n",
    "build_dir = config['sources']['build']"
   ]
  },
  {
   "cell_type": "markdown",
   "id": "265516ee",
   "metadata": {},
   "source": [
    "## Trip Purpose"
   ]
  },
  {
   "cell_type": "code",
   "execution_count": null,
   "id": "e0d5e2e0",
   "metadata": {},
   "outputs": [],
   "source": [
    "print(\"Lorem ipsum\") # Placeholder for CS"
   ]
  },
  {
   "cell_type": "markdown",
   "id": "6a7d1649",
   "metadata": {},
   "source": [
    "## Trip Destination"
   ]
  },
  {
   "cell_type": "code",
   "execution_count": null,
   "id": "52c9d86a",
   "metadata": {},
   "outputs": [],
   "source": [
    "base_trip = pd.read_csv(f\"{base_dir}/final_trips.csv\", \n",
    "                        index_col='trip_id', \n",
    "                        usecols=['trip_id','trip_count','trip_num','dtaz'])\n",
    "\n",
    "build_trip = pd.read_csv(f\"{build_dir}/final_trips.csv\", \n",
    "                         index_col='trip_id', \n",
    "                         usecols=['trip_id','trip_count','trip_num','dtaz'])\n"
   ]
  },
  {
   "cell_type": "code",
   "execution_count": null,
   "id": "cd44fbfc",
   "metadata": {},
   "outputs": [],
   "source": [
    "df = base_trip[base_trip.trip_count != base_trip.trip_num].merge(build_trip,\n",
    "                                                                 how='left',\n",
    "                                                                 left_index=True,\n",
    "                                                                 right_index=True,\n",
    "                                                                 suffixes=('_base','_build'))\n",
    "\n",
    "df = (df.dtaz_base == df.dtaz_build).value_counts()\n",
    "df.index = df.index.map({True:'No Change',False:'Change'})\n",
    "df"
   ]
  },
  {
   "cell_type": "code",
   "execution_count": null,
   "id": "9a32760d",
   "metadata": {},
   "outputs": [],
   "source": [
    "fig = vh.create_pie_chart(df.to_frame(),[\"count\"])\n",
    "fig.show()"
   ]
  },
  {
   "cell_type": "markdown",
   "id": "a47e4efc",
   "metadata": {},
   "source": [
    "## Trip Scheduling"
   ]
  },
  {
   "cell_type": "code",
   "execution_count": null,
   "id": "712e8ed2",
   "metadata": {},
   "outputs": [],
   "source": [
    "print(\"Lorem ipsum\") # Placeholder for WSP"
   ]
  },
  {
   "cell_type": "markdown",
   "id": "aa129b4c",
   "metadata": {},
   "source": [
    "## Trip Mode Choice"
   ]
  },
  {
   "cell_type": "code",
   "execution_count": null,
   "id": "d1adb492",
   "metadata": {},
   "outputs": [],
   "source": [
    "print(\"Lorem ipsum\") # Placeholder for CS"
   ]
  }
 ],
 "metadata": {
  "language_info": {
   "name": "python"
  }
 },
 "nbformat": 4,
 "nbformat_minor": 5
}
