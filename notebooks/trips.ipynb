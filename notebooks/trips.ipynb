{
 "cells": [
  {
   "cell_type": "raw",
   "id": "1f52bab0",
   "metadata": {
    "vscode": {
     "languageId": "raw"
    }
   },
   "source": [
    "---\n",
    "title: Trip Models\n",
    "date: today\n",
    "---"
   ]
  },
  {
   "cell_type": "code",
   "execution_count": null,
   "id": "3fda3191",
   "metadata": {},
   "outputs": [],
   "source": [
    "import pandas as pd\n",
    "import numpy as np\n",
    "import yaml\n",
    "import plotly.io as pio\n",
    "pio.renderers.default = \"plotly_mimetype+notebook_connected\"\n",
    "\n",
    "from IPython.display import Markdown, display\n",
    "import visualizer_helpers as vh\n",
    "\n",
    "pd.set_option('display.max_rows',100)"
   ]
  },
  {
   "cell_type": "code",
   "execution_count": null,
   "id": "c62e8340",
   "metadata": {
    "tags": [
     "parameters"
    ]
   },
   "outputs": [],
   "source": [
    "# NOTE: SPECIALLY TAGGED PARAMETERS CELL\n",
    "# Assignments in this cell may be overwritten at compile-time\n",
    "# Otherwise, the below defaults to not filtering any zones\n",
    "zone_set: str = 'all'\n",
    "how_method: str = 'any'\n",
    "affected_tazs: list = []\n",
    "affected_mazs: list = []"
   ]
  },
  {
   "cell_type": "code",
   "execution_count": null,
   "id": "cadf4092",
   "metadata": {},
   "outputs": [],
   "source": [
    "# get corresponding filter from zone_set parameter\n",
    "single_filter_tazs, multi_filter_tazs = vh.get_filters(zone_set, how_method, affected_tazs)\n",
    "single_filter_mazs, multi_filter_mazs = vh.get_filters(zone_set, how_method, affected_mazs)"
   ]
  },
  {
   "cell_type": "code",
   "execution_count": null,
   "id": "237668d9",
   "metadata": {},
   "outputs": [],
   "source": [
    "# file IO locations\n",
    "with open('_quarto.yml') as f:\n",
    "    config = yaml.safe_load(f)\n",
    "base_dir = config['sources']['base']\n",
    "build_dir = config['sources']['build']"
   ]
  },
  {
   "cell_type": "code",
   "execution_count": null,
   "id": "52c9d86a",
   "metadata": {},
   "outputs": [],
   "source": [
    "base_trip = pd.read_csv(f\"{base_dir}/final_trips.csv\", \n",
    "                        index_col='trip_id', \n",
    "                        usecols=['trip_id', 'trip_mode', 'trip_count','trip_num', 'trip_count', 'origin','destination', 'purpose','depart'])\n",
    "base_trip_idx = base_trip.index\n",
    "build_trip = pd.read_csv(f\"{build_dir}/final_trips.csv\", \n",
    "                         index_col='trip_id', \n",
    "                         usecols=['trip_id', 'trip_mode', 'trip_count','trip_num', 'trip_count', 'origin','destination', 'purpose','depart'])\n"
   ]
  },
  {
   "cell_type": "code",
   "execution_count": null,
   "id": "d5ee28c5",
   "metadata": {},
   "outputs": [],
   "source": [
    "print(f\"\"\"Filtering all trips by origin {\n",
    "    'and' if how_method == 'all' else 'or' if how_method == 'any' else '???'\n",
    "    } destination MAZ.\\nOriginal trips in base: {len(base_trip)}\\tbuild: {len(build_trip)}\\tdiff: {len(build_trip)-len(base_trip)}\"\"\")\n",
    "\n",
    "base_trip = base_trip[multi_filter_mazs([base_trip.origin, base_trip.destination])] # base tour in the filtered set\n",
    "\n",
    "build_trip = build_trip[\n",
    "\n",
    "    (build_trip.index.isin(base_trip_idx) # originally existed in base\n",
    "    & build_trip.index.isin(base_trip.index) )    # and was in the current set for the base\n",
    " \n",
    "    |     # OR\n",
    "    ((~build_trip.index.isin(base_trip_idx)) # is a new tour \n",
    "     & multi_filter_mazs([build_trip.origin, build_trip.destination])) # and it's in this set\n",
    "     \n",
    "    ]\n",
    "\n",
    "print(f\"After filtering, total trips in base: {len(base_trip)}\\tbuild: {len(build_trip)}\\tdiff: {len(build_trip)-len(base_trip)}\")"
   ]
  },
  {
   "cell_type": "markdown",
   "id": "265516ee",
   "metadata": {},
   "source": [
    "## Trip Purpose"
   ]
  },
  {
   "cell_type": "code",
   "execution_count": null,
   "id": "111e0920-cbea-48c1-a6cf-abdef37dc534",
   "metadata": {},
   "outputs": [],
   "source": [
    "# To analyze \"intermediate\" trip purposes, count only:\n",
    "# Trips on tours multiple stops (trip_count > 1) and \n",
    "# Excluding the last stop on the tour (trip_count != trip_num)\n",
    "df = pd.merge(\n",
    "    base_trip[(base_trip.trip_count > 1) & (base_trip.trip_count != base_trip.trip_num)],\n",
    "    build_trip[(build_trip.trip_count > 1) & (build_trip.trip_count != build_trip.trip_num)],\n",
    "    how='outer',\n",
    "    left_index=True,\n",
    "    right_index=True,\n",
    "    suffixes=('_base', '_build')\n",
    ")"
   ]
  },
  {
   "cell_type": "code",
   "execution_count": null,
   "id": "99a55b57-7018-4532-8997-7a944f79709f",
   "metadata": {},
   "outputs": [],
   "source": [
    "df.loc[df.purpose_base == df.purpose_build,'Case'] = \"Unchanged\"\n",
    "df.loc[df.purpose_base != df.purpose_build,'Case'] = \"Changed\"\n",
    "\n",
    "df.loc[df.purpose_base.isna(),'Case'] = \"Newly Created\"\n",
    "df.loc[df.purpose_build.isna(),\"Case\"] = \"Removed\""
   ]
  },
  {
   "cell_type": "code",
   "execution_count": null,
   "id": "6821c5a4-1449-4778-85ce-0641dc9e8b62",
   "metadata": {},
   "outputs": [],
   "source": [
    "df_case = df.Case.value_counts()\n",
    "df_case"
   ]
  },
  {
   "cell_type": "code",
   "execution_count": null,
   "id": "0a2f7b96-b092-41a6-a186-b5d8c636f023",
   "metadata": {},
   "outputs": [],
   "source": [
    "fig = vh.create_pie_chart(df_case.to_frame().sort_index(),[\"count\"])\n",
    "fig.show()"
   ]
  },
  {
   "cell_type": "markdown",
   "id": "6a7d1649",
   "metadata": {},
   "source": [
    "## Trip Destination"
   ]
  },
  {
   "cell_type": "code",
   "execution_count": null,
   "id": "cd44fbfc",
   "metadata": {},
   "outputs": [],
   "source": [
    "df = base_trip[base_trip.trip_count != base_trip.trip_num].merge(build_trip[build_trip.trip_count != build_trip.trip_num],\n",
    "                                                                 how='outer',\n",
    "                                                                 left_index=True,\n",
    "                                                                 right_index=True,\n",
    "                                                                 suffixes=('_base','_build'))\n"
   ]
  },
  {
   "cell_type": "code",
   "execution_count": null,
   "id": "f3f589ae",
   "metadata": {},
   "outputs": [],
   "source": [
    "df.loc[df.destination_base == df.destination_build,'Case'] = \"Unchanged\"\n",
    "df.loc[df.destination_base != df.destination_build,'Case'] = \"Changed\"\n",
    "\n",
    "df.loc[df.destination_base.isna(),'Case'] = \"Newly Created\"\n",
    "df.loc[df.destination_build.isna(),\"Case\"] = \"Removed\"\n"
   ]
  },
  {
   "cell_type": "code",
   "execution_count": null,
   "id": "95b875de",
   "metadata": {},
   "outputs": [],
   "source": [
    "df = df.Case.value_counts()\n",
    "\n",
    "df"
   ]
  },
  {
   "cell_type": "code",
   "execution_count": null,
   "id": "9a32760d",
   "metadata": {},
   "outputs": [],
   "source": [
    "fig = vh.create_pie_chart(df.to_frame().sort_index(),[\"count\"])\n",
    "fig.show()"
   ]
  },
  {
   "cell_type": "markdown",
   "id": "a47e4efc",
   "metadata": {},
   "source": [
    "## Trip Scheduling"
   ]
  },
  {
   "cell_type": "code",
   "execution_count": null,
   "id": "712e8ed2",
   "metadata": {},
   "outputs": [],
   "source": [
    "# translate departure to time period index\n",
    "base_trip['depart_period'] = base_trip.depart.apply(vh.get_time_period_index)\n",
    "build_trip['depart_period'] = build_trip.depart.apply(vh.get_time_period_index)\n",
    "\n",
    "# join base and build trips on trip_id\n",
    "# compare trips that are in both base and build\n",
    "df = base_trip.merge(\n",
    "    build_trip, \n",
    "    how='inner', \n",
    "    left_index=True, \n",
    "    right_index=True,\n",
    "    suffixes=('_base', '_build')\n",
    ")\n",
    "\n",
    "# get the difference in departure time\n",
    "df['depart_bin_difference'] = df.depart_build - df.depart_base\n",
    "# get the difference in departure time period\n",
    "df['depart_period_difference'] = df.depart_period_build - df.depart_period_base"
   ]
  },
  {
   "cell_type": "code",
   "execution_count": null,
   "id": "b28bcc5c",
   "metadata": {},
   "outputs": [],
   "source": [
    "mapper = {\n",
    "    0: \"EA\",\n",
    "    1: \"AM\",\n",
    "    2: \"MD\",\n",
    "    3: \"PM\",\n",
    "    4: \"EV\"\n",
    "}\n",
    "tp_order = ['EA','AM','MD','PM','EV','Total']\n",
    "\n",
    "metric='depart'\n",
    "purpose_df = df\n",
    "display(Markdown(f\"### Trip departure changes\"))\n",
    "xtab = pd.crosstab(\n",
    "    purpose_df[f'{metric}_period_base'].replace(mapper),\n",
    "    purpose_df[f'{metric}_period_build'].replace(mapper),\n",
    "    margins=True,\n",
    "    margins_name='Total'\n",
    ")\n",
    "display(xtab.loc[tp_order,tp_order])\n",
    "\n",
    "summary_text = f\"\"\"**Trip departure changes:**\n",
    "    Trips which departed earlier in build: {len(purpose_df[purpose_df[f'{metric}_bin_difference'] < 0])}\n",
    "    Trips which departed in the same bin in build: {len(purpose_df[purpose_df[f'{metric}_bin_difference'] == 0])}\n",
    "    Trips which departed later in build: {len(purpose_df[purpose_df[f'{metric}_bin_difference'] > 0])}\n",
    "\n",
    "\"\"\"\n",
    "display(Markdown(summary_text.replace(\"\\n\",\"<br>\")))"
   ]
  },
  {
   "cell_type": "markdown",
   "id": "aa129b4c",
   "metadata": {},
   "source": [
    "## Trip Mode Choice"
   ]
  },
  {
   "cell_type": "code",
   "execution_count": null,
   "id": "681c4f73-fc38-4cc0-88b4-3bddf1390568",
   "metadata": {},
   "outputs": [],
   "source": [
    "df = base_trip[['trip_mode', 'purpose']].merge(build_trip[['trip_mode', 'purpose']],\n",
    "                                                                 how='outer',\n",
    "                                                                 left_index=True,\n",
    "                                                                 right_index=True,\n",
    "                                                                 suffixes=('_base','_build'))\n",
    "\n",
    "df.loc[df.trip_mode_base == df.trip_mode_build,'Case'] = \"Unchanged\"\n",
    "df.loc[df.trip_mode_base != df.trip_mode_build,'Case'] = \"Changed\"\n",
    "\n",
    "df.loc[df.trip_mode_base.isna(),'Case'] = \"Newly Created\"\n",
    "df.loc[df.trip_mode_build.isna(),\"Case\"] = \"Removed\""
   ]
  },
  {
   "cell_type": "code",
   "execution_count": null,
   "id": "39c2edb2-3d28-435f-8195-4a3429f670c4",
   "metadata": {},
   "outputs": [],
   "source": [
    "fig = vh.create_pie_chart(df_case.to_frame(), [\"count\"])\n",
    "fig.show()"
   ]
  },
  {
   "cell_type": "code",
   "execution_count": null,
   "id": "a0f18269",
   "metadata": {},
   "outputs": [],
   "source": [
    "combiners = {\n",
    "    \"EBIKE\": \"MICROMOBILITY\",\n",
    "    \"ESCOOTER\": \"MICROMOBILITY\",\n",
    "\n",
    "    \"WALK_LOC\": \"WALK_TRANSIT\",\n",
    "    \"WALK_PRM\": \"WALK_TRANSIT\",\n",
    "    \"WALK_MIX\": \"WALK_TRANSIT\",\n",
    "\n",
    "    \"PNR_LOC\": \"PNR_TRANSIT\",\n",
    "    \"PNR_PRM\": \"PNR_TRANSIT\",\n",
    "    \"PNR_MIX\": \"PNR_TRANSIT\",\n",
    "\n",
    "    \"KNR_LOC\": \"KNR_TRANSIT\",\n",
    "    \"KNR_PRM\": \"KNR_TRANSIT\",\n",
    "    \"KNR_MIX\": \"KNR_TRANSIT\",\n",
    "\n",
    "    \"TNC_LOC\": \"TNC_TRANSIT\",\n",
    "    \"TNC_PRM\": \"TNC_TRANSIT\",\n",
    "    \"TNC_MIX\": \"TNC_TRANSIT\",\n",
    "\n",
    "    \"TAXI\": \"RIDESHARE\",\n",
    "    \"TNC_SHARED\": \"RIDESHARE\",\n",
    "    \"TNC_SINGLE\": \"RIDESHARE\",\n",
    "\n",
    "}\n",
    "order = ['DRIVEALONE','SHARED2','SHARED3',\n",
    "         'WALK','BIKE','MICROMOBILITY','WALK_TRANSIT',\n",
    "         'PNR_TRANSIT','KNR_TRANSIT','TNC_TRANSIT',\n",
    "         'RIDESHARE','SCH_BUS','Newly created','Removed',\"Total\",]\n"
   ]
  },
  {
   "cell_type": "code",
   "execution_count": null,
   "id": "6374a794",
   "metadata": {},
   "outputs": [],
   "source": [
    "transit_modes = [f'{access_mode}_{transit_mode}' \n",
    "                 for access_mode in ['WALK','PNR','KNR','TNC'] \n",
    "                 for transit_mode in ['LOC','PRM','MIX']]\n",
    "auto_modes = ['DRIVEALONE','SHARED2','SHARED3']\n",
    "nmot_modes = ['BIKE','EBIKE','ESCOOTER','WALK']\n",
    "rideshare_modes = ['TAXI','TNC_SHARED','TNC_SINGLE']"
   ]
  },
  {
   "cell_type": "code",
   "execution_count": null,
   "id": "cd125a48",
   "metadata": {},
   "outputs": [],
   "source": [
    "df[df.trip_mode_build.isin(transit_modes)\n",
    "   &(~(df.trip_mode_base.isin(transit_modes)))\n",
    "\n",
    "   ].trip_mode_base.value_counts()"
   ]
  },
  {
   "cell_type": "code",
   "execution_count": null,
   "id": "90e88f69",
   "metadata": {},
   "outputs": [],
   "source": [
    "summary_text = f\"\"\"**Trip mode changes:**\n",
    "To transit\n",
    "<p style=\"margin-left: 40px\">\n",
    "from auto: {len(df[df.trip_mode_base.isin(auto_modes) & df.trip_mode_build.isin(transit_modes)])}\n",
    "from non-motorized: {len(df[df.trip_mode_base.isin(nmot_modes) & df.trip_mode_build.isin(transit_modes)])}\n",
    "from rideshare: {len(df[df.trip_mode_base.isin(rideshare_modes) & df.trip_mode_build.isin(transit_modes)])}\n",
    "from school bus: {len(df[df.trip_mode_base.isin(['SCH_BUS']) & df.trip_mode_build.isin(transit_modes)])}\n",
    "from new tour: {len(df[df.trip_mode_base.isna() & df.trip_mode_build.isin(transit_modes)])}\n",
    "*Subtotal: {len(df[df.trip_mode_build.isin(transit_modes)&(~(df.trip_mode_base.isin(transit_modes)))])}*\n",
    "</p>\n",
    "Stayed on transit: {len(df[df.trip_mode_base.isin(transit_modes) & df.trip_mode_build.isin(transit_modes)])}\n",
    "Stayed on something else: {len(df[~(df.trip_mode_base.isin(transit_modes)|df.trip_mode_build.isin(transit_modes))])}\n",
    "Switched to something else: {len(df[df.trip_mode_base.isin(transit_modes)&(~(df.trip_mode_build.isin(transit_modes)))])}\n",
    "\"\"\"\n",
    "display(Markdown(summary_text.replace(\"\\n\",\"<br>\")))"
   ]
  },
  {
   "cell_type": "code",
   "execution_count": null,
   "id": "e758e058-f0e5-4317-8626-73696bbcb504",
   "metadata": {},
   "outputs": [],
   "source": [
    "# xtab = df[['trip_mode_base', 'trip_mode_build']].replace(combiners).value_counts().unstack().fillna(0)\n",
    "# xtab.loc[order,order]\n",
    "\n",
    "order = pd.Series(order)\n",
    "xtab = pd.crosstab(\n",
    "    df.trip_mode_base.replace(combiners).fillna('Newly created'),\n",
    "      df.trip_mode_build.replace(combiners).fillna('Removed'),\n",
    "      margins=True,\n",
    "      margins_name='Total')\n",
    "\n",
    "display(xtab.loc[order[order.isin(xtab.index)],order[order.isin(xtab.columns)]])"
   ]
  },
  {
   "cell_type": "raw",
   "id": "4b714173-3547-49e0-be55-8c5424d268fb",
   "metadata": {},
   "source": [
    "::: {.panel-tabset}"
   ]
  },
  {
   "cell_type": "code",
   "execution_count": null,
   "id": "45290a17-dbb1-4792-8725-618a3cf84bfb",
   "metadata": {},
   "outputs": [],
   "source": [
    "# | output: asis\n",
    "# above comment is needed for Quarto to render subtabs correctly\n",
    "\n",
    "# for now, loop through the the recorded trip purposes\n",
    "# note that keying against purpose_base will only include trips that exist in base \n",
    "all_purps = df.purpose_base.sort_values().unique()\n",
    "\n",
    "for purp in all_purps:\n",
    "    df_purp = df.loc[df.purpose_base == purp]\n",
    "    if len(df_purp) == 0:\n",
    "        continue \n",
    "        \n",
    "    print(f\"#### {purp}\")\n",
    "    df_purp_cases = df_purp.Case.value_counts()\n",
    "    print(str(df_purp_cases).replace(\"\\n\",\"<br>\"))\n",
    "    \n",
    "    fig = vh.create_pie_chart(df_purp_cases.to_frame().sort_index(),[\"count\"])\n",
    "    \n",
    "    fig.show()\n",
    "    display(Markdown(\" \"))"
   ]
  },
  {
   "cell_type": "raw",
   "id": "3e819625-b5c0-4496-b791-6d55a45fb77d",
   "metadata": {},
   "source": [
    ":::"
   ]
  }
 ],
 "metadata": {
  "kernelspec": {
   "display_name": "asimviz",
   "language": "python",
   "name": "python3"
  },
  "language_info": {
   "codemirror_mode": {
    "name": "ipython",
    "version": 3
   },
   "file_extension": ".py",
   "mimetype": "text/x-python",
   "name": "python",
   "nbconvert_exporter": "python",
   "pygments_lexer": "ipython3",
   "version": "3.12.9"
  }
 },
 "nbformat": 4,
 "nbformat_minor": 5
}
