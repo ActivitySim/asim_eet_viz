{
 "cells": [
  {
   "cell_type": "raw",
   "id": "01db3d88",
   "metadata": {
    "vscode": {
     "languageId": "raw"
    }
   },
   "source": [
    "---\n",
    "title: Long-Term Models\n",
    "date: today\n",
    "---"
   ]
  },
  {
   "cell_type": "code",
   "execution_count": null,
   "id": "32588113",
   "metadata": {},
   "outputs": [],
   "source": [
    "import pandas as pd\n",
    "import yaml\n",
    "import plotly.io as pio\n",
    "pio.renderers.default = \"plotly_mimetype+notebook_connected\"\n",
    "\n",
    "from IPython.display import Markdown, display\n",
    "import visualizer_helpers as vh"
   ]
  },
  {
   "cell_type": "code",
   "execution_count": null,
   "id": "5353141a",
   "metadata": {
    "tags": [
     "parameters"
    ]
   },
   "outputs": [],
   "source": [
    "# NOTE: SPECIALLY TAGGED PARAMETERS CELL\n",
    "# Assignments in this cell may be overwritten at compile-time\n",
    "# Otherwise, the below defaults to not filtering any zones\n",
    "zone_set: str = 'all'\n",
    "how_method: str = 'any'\n",
    "affected_tazs: list = []\n",
    "affected_mazs: list = []"
   ]
  },
  {
   "cell_type": "code",
   "execution_count": null,
   "id": "889a262c",
   "metadata": {},
   "outputs": [],
   "source": [
    "# get corresponding filter from zone_set parameter\n",
    "single_filter_tazs, multi_filter_tazs = vh.get_filters(zone_set, how_method, affected_tazs)\n",
    "single_filter_mazs, multi_filter_mazs = vh.get_filters(zone_set, how_method, affected_mazs)"
   ]
  },
  {
   "cell_type": "code",
   "execution_count": null,
   "id": "5bbf0146",
   "metadata": {},
   "outputs": [],
   "source": [
    "# file IO locations\n",
    "with open('_quarto.yml') as f:\n",
    "    config = yaml.safe_load(f)\n",
    "base_dir = config['sources']['base']\n",
    "build_dir = config['sources']['build']"
   ]
  },
  {
   "cell_type": "markdown",
   "id": "9e2d527b",
   "metadata": {},
   "source": [
    "## Auto Ownership"
   ]
  },
  {
   "cell_type": "code",
   "execution_count": null,
   "id": "1506b12f",
   "metadata": {},
   "outputs": [],
   "source": [
    "base_hh = pd.read_csv(f\"{base_dir}/final_households.csv\",\n",
    "                       index_col='household_id', \n",
    "                       usecols=['household_id','auto_ownership','home_zone_id'])\n",
    "\n",
    "build_hh = pd.read_csv(f\"{build_dir}/final_households.csv\", \n",
    "                       index_col='household_id', \n",
    "                       usecols=['household_id','auto_ownership','home_zone_id'])\n"
   ]
  },
  {
   "cell_type": "code",
   "execution_count": null,
   "id": "c12b4d8e",
   "metadata": {},
   "outputs": [],
   "source": [
    "print(f\"Filtering households by TAZ.\\nOriginal HHs: {len(base_hh)}\")\n",
    "base_hh = base_hh[single_filter_mazs(base_hh.home_zone_id)]\n",
    "build_hh = build_hh[single_filter_mazs(build_hh.home_zone_id)]\n",
    "print(f\"HHs after filtering: {len(base_hh)}\")"
   ]
  },
  {
   "cell_type": "code",
   "execution_count": null,
   "id": "d6ad5fc7",
   "metadata": {},
   "outputs": [],
   "source": [
    "df = pd.crosstab(base_hh.auto_ownership, \n",
    "                 build_hh.auto_ownership, \n",
    "                 rownames=['Base'],\n",
    "                 colnames=['Build'], \n",
    "                 margins=True, \n",
    "                 margins_name='Total')\n",
    "df"
   ]
  },
  {
   "cell_type": "markdown",
   "id": "b698c455",
   "metadata": {},
   "source": [
    "## Work from Home"
   ]
  },
  {
   "cell_type": "code",
   "execution_count": null,
   "id": "676ec98c",
   "metadata": {},
   "outputs": [],
   "source": [
    "base_per = pd.read_csv(f\"{base_dir}/final_persons.csv\",\n",
    "                       index_col='person_id',\n",
    "                       usecols=['person_id','work_from_home','home_zone_id'])\n",
    "\n",
    "build_per = pd.read_csv(f\"{build_dir}/final_persons.csv\",\n",
    "                        index_col='person_id',\n",
    "                        usecols=['person_id','work_from_home','home_zone_id'])"
   ]
  },
  {
   "cell_type": "code",
   "execution_count": null,
   "id": "06b6fe8e",
   "metadata": {},
   "outputs": [],
   "source": [
    "print(f\"Filtering persons by home TAZ. Original Persons: {len(base_per)}\")\n",
    "base_per = base_per[single_filter_mazs(base_per.home_zone_id)]\n",
    "build_per = build_per[single_filter_mazs(build_per.home_zone_id)]\n",
    "print(f\"Persons after filtering: {len(base_per)}\")"
   ]
  },
  {
   "cell_type": "code",
   "execution_count": null,
   "id": "1aeb51be",
   "metadata": {},
   "outputs": [],
   "source": [
    "df = pd.crosstab(base_per.work_from_home, \n",
    "                 build_per.work_from_home, \n",
    "                 rownames=['Base'], \n",
    "                 colnames=['Build'], \n",
    "                 margins=True, \n",
    "                 margins_name='Total')\n",
    "df"
   ]
  },
  {
   "cell_type": "markdown",
   "id": "3b98c555",
   "metadata": {},
   "source": [
    "## School Location Changes"
   ]
  },
  {
   "cell_type": "code",
   "execution_count": null,
   "id": "6a5e2533",
   "metadata": {},
   "outputs": [],
   "source": [
    "base_per = pd.read_csv(f\"{base_dir}/final_persons.csv\",\n",
    "                       index_col='person_id',\n",
    "                       usecols=['person_id','is_student','school_zone_id','home_zone_id'])\n",
    "build_per = pd.read_csv(f\"{build_dir}/final_persons.csv\",\n",
    "                        index_col='person_id',\n",
    "                        usecols=['person_id','is_student','school_zone_id','home_zone_id'])"
   ]
  },
  {
   "cell_type": "code",
   "execution_count": null,
   "id": "3181225d",
   "metadata": {},
   "outputs": [],
   "source": [
    "print(f\"Filtering persons by home TAZ. Original Persons: {len(base_per)}\")\n",
    "base_per = base_per[single_filter_mazs(base_per.home_zone_id)]\n",
    "build_per = build_per[single_filter_mazs(build_per.home_zone_id)]\n",
    "print(f\"Persons after filtering: {len(base_per)}\")"
   ]
  },
  {
   "cell_type": "code",
   "execution_count": null,
   "id": "3ec77f97",
   "metadata": {},
   "outputs": [],
   "source": [
    "df = base_per[base_per.is_student].merge(build_per[build_per.is_student],\n",
    "                                         how='left',\n",
    "                                         left_index=True,\n",
    "                                         right_index=True,\n",
    "                                         suffixes=('_base','_build'))\n",
    "\n",
    "df = (df.school_zone_id_base == df.school_zone_id_build).value_counts()\n",
    "df.index = df.index.map({True:'Unchanged',False:'Changed'})\n",
    "df"
   ]
  },
  {
   "cell_type": "code",
   "execution_count": null,
   "id": "3b24caa4",
   "metadata": {},
   "outputs": [],
   "source": [
    "fig = vh.create_pie_chart(df.to_frame().sort_index(),[\"count\"])\n",
    "fig.show()"
   ]
  },
  {
   "cell_type": "markdown",
   "id": "97bc80a9",
   "metadata": {},
   "source": [
    "## Workplace Location Changes"
   ]
  },
  {
   "cell_type": "code",
   "execution_count": null,
   "id": "3cd03dcc",
   "metadata": {},
   "outputs": [],
   "source": [
    "base_per = pd.read_csv(f\"{base_dir}/final_persons.csv\",\n",
    "                       index_col='person_id',\n",
    "                       usecols=['person_id','is_worker','workplace_zone_id','home_zone_id'])\n",
    "\n",
    "build_per = pd.read_csv(f\"{build_dir}/final_persons.csv\",\n",
    "                        index_col='person_id',\n",
    "                        usecols=['person_id','is_worker','workplace_zone_id','home_zone_id'])"
   ]
  },
  {
   "cell_type": "code",
   "execution_count": null,
   "id": "2dc41be9",
   "metadata": {},
   "outputs": [],
   "source": [
    "print(f\"Filtering persons by home TAZ. Original Persons: {len(base_per)}\")\n",
    "base_per = base_per[single_filter_mazs(base_per.home_zone_id)]\n",
    "build_per = build_per[single_filter_mazs(build_per.home_zone_id)]\n",
    "print(f\"Persons after filtering: {len(base_per)}\")"
   ]
  },
  {
   "cell_type": "code",
   "execution_count": null,
   "id": "ba02880a",
   "metadata": {},
   "outputs": [],
   "source": [
    "df = base_per[base_per.is_worker].merge(build_per[build_per.is_worker],\n",
    "                                        how='left',\n",
    "                                        left_index=True,\n",
    "                                        right_index=True, \n",
    "                                        suffixes=('_base','_build'))\n",
    "\n",
    "df = (df.workplace_zone_id_base == df.workplace_zone_id_build).value_counts()\n",
    "df.index = df.index.map({True:'Unchanged',False:'Changed'})\n",
    "df"
   ]
  },
  {
   "cell_type": "code",
   "execution_count": null,
   "id": "33870dac",
   "metadata": {},
   "outputs": [],
   "source": [
    "fig = vh.create_pie_chart(df.to_frame().sort_index(),[\"count\"])\n",
    "fig.show()"
   ]
  },
  {
   "cell_type": "markdown",
   "id": "b409b5c3",
   "metadata": {},
   "source": [
    "## Transit Pass Subsidy"
   ]
  },
  {
   "cell_type": "code",
   "execution_count": null,
   "id": "b6592996",
   "metadata": {},
   "outputs": [],
   "source": [
    "print(\"Lorem ipsum\") # Placeholder for CS"
   ]
  },
  {
   "cell_type": "markdown",
   "id": "0c50b3bc",
   "metadata": {},
   "source": [
    "## Transit Pass Ownership"
   ]
  },
  {
   "cell_type": "code",
   "execution_count": null,
   "id": "cc9f2f96",
   "metadata": {},
   "outputs": [],
   "source": [
    "print(\"Lorem ipsum\") # Placeholder for CS"
   ]
  },
  {
   "cell_type": "markdown",
   "id": "c603361e",
   "metadata": {},
   "source": [
    "## Free Parking"
   ]
  },
  {
   "cell_type": "code",
   "execution_count": null,
   "id": "260389c0",
   "metadata": {},
   "outputs": [],
   "source": [
    "print(\"Lorem ipsum\") # Placeholder for CS"
   ]
  },
  {
   "cell_type": "markdown",
   "id": "3c5866b6",
   "metadata": {},
   "source": [
    "## Telecommute Frequency"
   ]
  },
  {
   "cell_type": "code",
   "execution_count": null,
   "id": "c616c291",
   "metadata": {},
   "outputs": [],
   "source": [
    "print(\"Lorem ipsum\") # Placeholder for CS"
   ]
  },
  {
   "cell_type": "markdown",
   "id": "3576c24a",
   "metadata": {},
   "source": [
    "## Transponder Ownership"
   ]
  },
  {
   "cell_type": "code",
   "execution_count": null,
   "id": "0919472b",
   "metadata": {},
   "outputs": [],
   "source": [
    "base_hh = pd.read_csv(f\"{base_dir}/final_households.csv\", \n",
    "                      index_col='household_id', \n",
    "                      usecols=['household_id','transponder_ownership','home_zone_id'])\n",
    "\n",
    "build_hh = pd.read_csv(f\"{build_dir}/final_households.csv\", \n",
    "                       index_col='household_id', \n",
    "                       usecols=['household_id','transponder_ownership', 'home_zone_id'])\n"
   ]
  },
  {
   "cell_type": "code",
   "execution_count": null,
   "id": "50f10067",
   "metadata": {},
   "outputs": [],
   "source": [
    "print(f\"Filtering households by TAZ. Original HHs: {len(base_hh)}\")\n",
    "base_hh = base_hh[single_filter_mazs(base_hh.home_zone_id)]\n",
    "build_hh = build_hh[single_filter_mazs(build_hh.home_zone_id)]\n",
    "print(f\"HHs after filtering: {len(base_hh)}\")"
   ]
  },
  {
   "cell_type": "code",
   "execution_count": null,
   "id": "3f5935bf",
   "metadata": {},
   "outputs": [],
   "source": [
    "df = pd.crosstab(base_hh.transponder_ownership,\n",
    "                 build_hh.transponder_ownership, \n",
    "                 rownames=['Base'],\n",
    "                 colnames=['Build'], \n",
    "                 margins=True, \n",
    "                 margins_name='Total')\n",
    "df"
   ]
  }
 ],
 "metadata": {
  "language_info": {
   "name": "python"
  }
 },
 "nbformat": 4,
 "nbformat_minor": 5
}
