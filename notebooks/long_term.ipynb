{
 "cells": [
  {
   "cell_type": "raw",
   "id": "01db3d88",
   "metadata": {
    "vscode": {
     "languageId": "raw"
    }
   },
   "source": [
    "---\n",
    "title: Long-Term Models\n",
    "date: today\n",
    "---"
   ]
  },
  {
   "cell_type": "code",
   "execution_count": null,
   "id": "32588113",
   "metadata": {},
   "outputs": [],
   "source": [
    "import pandas as pd\n",
    "import yaml\n",
    "import plotly.io as pio\n",
    "pio.renderers.default = \"plotly_mimetype+notebook_connected\"\n",
    "\n",
    "from IPython.display import Markdown, display\n",
    "\n",
    "import visualizer_helpers as vh"
   ]
  },
  {
   "cell_type": "code",
   "execution_count": null,
   "id": "5353141a",
   "metadata": {
    "tags": [
     "parameters"
    ]
   },
   "outputs": [],
   "source": [
    "# NOTE: SPECIALLY TAGGED PARAMETERS CELL\n",
    "# Assignments in this cell may be overwritten at compile-time\n",
    "# Otherwise, the below defaults to not filtering any zones\n",
    "zone_set: str = 'all'\n",
    "how_method: str = 'any'\n",
    "affected_tazs: list = []\n",
    "affected_mazs: list = []"
   ]
  },
  {
   "cell_type": "code",
   "execution_count": null,
   "id": "889a262c",
   "metadata": {},
   "outputs": [],
   "source": [
    "# get corresponding filter from zone_set parameter\n",
    "single_filter_tazs, multi_filter_tazs = vh.get_filters(zone_set, how_method, affected_tazs)\n",
    "single_filter_mazs, multi_filter_mazs = vh.get_filters(zone_set, how_method, affected_mazs)"
   ]
  },
  {
   "cell_type": "code",
   "execution_count": null,
   "id": "5bbf0146",
   "metadata": {},
   "outputs": [],
   "source": [
    "# file IO locations\n",
    "with open('_quarto.yml') as f:\n",
    "    config = yaml.safe_load(f)\n",
    "base_dir = config['sources']['base']\n",
    "build_dir = config['sources']['build']"
   ]
  },
  {
   "cell_type": "markdown",
   "id": "9e2d527b",
   "metadata": {},
   "source": [
    "## Auto Ownership"
   ]
  },
  {
   "cell_type": "code",
   "execution_count": null,
   "id": "1506b12f",
   "metadata": {},
   "outputs": [],
   "source": [
    "base_hh = pd.read_csv(f\"{base_dir}/final_households.csv\",\n",
    "                       index_col='household_id', \n",
    "                       usecols=['household_id','auto_ownership','home_zone_id'])\n",
    "\n",
    "build_hh = pd.read_csv(f\"{build_dir}/final_households.csv\", \n",
    "                       index_col='household_id', \n",
    "                       usecols=['household_id','auto_ownership','home_zone_id'])\n"
   ]
  },
  {
   "cell_type": "code",
   "execution_count": null,
   "id": "c12b4d8e",
   "metadata": {},
   "outputs": [],
   "source": [
    "print(f\"Filtering households by MAZ.\\nOriginal HHs: {len(base_hh)}\")\n",
    "base_hh = base_hh[single_filter_mazs(base_hh.home_zone_id)]\n",
    "build_hh = build_hh[single_filter_mazs(build_hh.home_zone_id)]\n",
    "print(f\"HHs after filtering: {len(base_hh)}\")"
   ]
  },
  {
   "cell_type": "code",
   "execution_count": null,
   "id": "d6ad5fc7",
   "metadata": {},
   "outputs": [],
   "source": [
    "df = pd.crosstab(base_hh.auto_ownership, \n",
    "                 build_hh.auto_ownership, \n",
    "                 rownames=['Base'],\n",
    "                 colnames=['Build'], \n",
    "                 margins=True, \n",
    "                 margins_name='Total')\n",
    "df"
   ]
  },
  {
   "cell_type": "code",
   "execution_count": null,
   "id": "42074519",
   "metadata": {},
   "outputs": [],
   "source": [
    "diffs = base_hh[['auto_ownership']].merge(\n",
    "    build_hh[['auto_ownership']],\n",
    "    how='left',\n",
    "    left_index=True,\n",
    "    right_index=True,\n",
    "    suffixes=('_base','_build')\n",
    "    )\n",
    "diffs = diffs.auto_ownership_build - diffs.auto_ownership_base\n",
    "summary_text = f\"\"\"**Auto ownership changes:**\n",
    "    Households with fewer autos owned in build: {len(diffs[diffs<0])}\n",
    "    Households with the same autos owned: {len(diffs[diffs==0])}\n",
    "    Households with more autos owned in build: {len(diffs[diffs>0])}\n",
    "\"\"\"\n",
    "display(Markdown(summary_text.replace(\"\\n\",\"<br>\")))"
   ]
  },
  {
   "cell_type": "markdown",
   "id": "b698c455",
   "metadata": {},
   "source": [
    "## Work from Home"
   ]
  },
  {
   "cell_type": "code",
   "execution_count": null,
   "id": "676ec98c",
   "metadata": {},
   "outputs": [],
   "source": [
    "base_per = pd.read_csv(f\"{base_dir}/final_persons.csv\",\n",
    "                       index_col='person_id',\n",
    "                       usecols=['person_id','work_from_home','home_zone_id'])\n",
    "\n",
    "build_per = pd.read_csv(f\"{build_dir}/final_persons.csv\",\n",
    "                        index_col='person_id',\n",
    "                        usecols=['person_id','work_from_home','home_zone_id'])"
   ]
  },
  {
   "cell_type": "code",
   "execution_count": null,
   "id": "06b6fe8e",
   "metadata": {},
   "outputs": [],
   "source": [
    "print(f\"Filtering persons by home MAZ. Original Persons: {len(base_per)}\")\n",
    "base_per = base_per[single_filter_mazs(base_per.home_zone_id)]\n",
    "build_per = build_per[single_filter_mazs(build_per.home_zone_id)]\n",
    "print(f\"Persons after filtering: {len(base_per)}\")"
   ]
  },
  {
   "cell_type": "code",
   "execution_count": null,
   "id": "1aeb51be",
   "metadata": {},
   "outputs": [],
   "source": [
    "df = pd.crosstab(base_per[base_per.is_worker].work_from_home, \n",
    "                 build_per[build_per.is_worker].work_from_home, \n",
    "                 rownames=['Base'], \n",
    "                 colnames=['Build'], \n",
    "                 margins=True, \n",
    "                 margins_name='Total')\n",
    "df"
   ]
  },
  {
   "cell_type": "markdown",
   "id": "97bc80a9",
   "metadata": {},
   "source": [
    "## Workplace Location Changes"
   ]
  },
  {
   "cell_type": "code",
   "execution_count": null,
   "id": "3cd03dcc",
   "metadata": {},
   "outputs": [],
   "source": [
    "base_per = pd.read_csv(f\"{base_dir}/final_persons.csv\",\n",
    "                       index_col='person_id',\n",
    "                       usecols=['person_id','is_worker','workplace_zone_id','home_zone_id'])\n",
    "\n",
    "build_per = pd.read_csv(f\"{build_dir}/final_persons.csv\",\n",
    "                        index_col='person_id',\n",
    "                        usecols=['person_id','is_worker','workplace_zone_id','home_zone_id'])"
   ]
  },
  {
   "cell_type": "code",
   "execution_count": null,
   "id": "2dc41be9",
   "metadata": {},
   "outputs": [],
   "source": [
    "print(f\"Filtering persons by home MAZ. Original Persons: {len(base_per)}\")\n",
    "base_per = base_per[single_filter_mazs(base_per.home_zone_id)]\n",
    "build_per = build_per[single_filter_mazs(build_per.home_zone_id)]\n",
    "print(f\"Persons after filtering: {len(base_per)}\")"
   ]
  },
  {
   "cell_type": "code",
   "execution_count": null,
   "id": "ba02880a",
   "metadata": {},
   "outputs": [],
   "source": [
    "df = base_per[base_per.is_worker].merge(build_per[build_per.is_worker],\n",
    "                                        how='left',\n",
    "                                        left_index=True,\n",
    "                                        right_index=True, \n",
    "                                        suffixes=('_base','_build'))\n",
    "\n",
    "df = (df.workplace_zone_id_base == df.workplace_zone_id_build).value_counts()\n",
    "df.index = df.index.map({True:'Unchanged',False:'Changed'})\n",
    "df"
   ]
  },
  {
   "cell_type": "code",
   "execution_count": null,
   "id": "33870dac",
   "metadata": {},
   "outputs": [],
   "source": [
    "fig = vh.create_pie_chart(df.to_frame().sort_index(),[\"count\"])\n",
    "fig.show()"
   ]
  },
  {
   "cell_type": "markdown",
   "id": "aa5eb0df",
   "metadata": {},
   "source": [
    "## School Location Changes"
   ]
  },
  {
   "cell_type": "code",
   "execution_count": null,
   "id": "29db29c9",
   "metadata": {},
   "outputs": [],
   "source": [
    "base_per = pd.read_csv(f\"{base_dir}/final_persons.csv\",\n",
    "                       index_col='person_id',\n",
    "                       usecols=['person_id','is_student','school_zone_id','home_zone_id'])\n",
    "build_per = pd.read_csv(f\"{build_dir}/final_persons.csv\",\n",
    "                        index_col='person_id',\n",
    "                        usecols=['person_id','is_student','school_zone_id','home_zone_id'])"
   ]
  },
  {
   "cell_type": "code",
   "execution_count": null,
   "id": "85d98b6e",
   "metadata": {},
   "outputs": [],
   "source": [
    "print(f\"Filtering persons by home MAZ. Original Persons: {len(base_per)}\")\n",
    "base_per = base_per[single_filter_mazs(base_per.home_zone_id)]\n",
    "build_per = build_per[single_filter_mazs(build_per.home_zone_id)]\n",
    "print(f\"Persons after filtering: {len(base_per)}\")"
   ]
  },
  {
   "cell_type": "code",
   "execution_count": null,
   "id": "cf85cadb",
   "metadata": {},
   "outputs": [],
   "source": [
    "df = base_per[base_per.is_student].merge(build_per[build_per.is_student],\n",
    "                                         how='left',\n",
    "                                         left_index=True,\n",
    "                                         right_index=True,\n",
    "                                         suffixes=('_base','_build'))\n",
    "\n",
    "df = (df.school_zone_id_base == df.school_zone_id_build).value_counts()\n",
    "df.index = df.index.map({True:'Unchanged',False:'Changed'})\n",
    "df"
   ]
  },
  {
   "cell_type": "code",
   "execution_count": null,
   "id": "02d05432",
   "metadata": {},
   "outputs": [],
   "source": [
    "fig = vh.create_pie_chart(df.to_frame().sort_index(),[\"count\"])\n",
    "fig.show()"
   ]
  },
  {
   "cell_type": "markdown",
   "id": "b409b5c3",
   "metadata": {},
   "source": [
    "## Transit Subsidy"
   ]
  },
  {
   "cell_type": "code",
   "execution_count": null,
   "id": "b6592996",
   "metadata": {},
   "outputs": [],
   "source": [
    "usecols = ['person_id','transit_pass_ownership','transit_pass_subsidy', 'home_zone_id']\n",
    "base_per = pd.read_csv(f\"{base_dir}/final_persons.csv\",\n",
    "                       index_col='person_id',\n",
    "                       usecols=usecols)\n",
    "\n",
    "build_per = pd.read_csv(f\"{build_dir}/final_persons.csv\",\n",
    "                        index_col='person_id',\n",
    "                        usecols=usecols)"
   ]
  },
  {
   "cell_type": "code",
   "execution_count": null,
   "id": "41f8c0de-7ee0-4b47-ace2-7281b410d706",
   "metadata": {},
   "outputs": [],
   "source": [
    "print(f\"Filtering persons by home MAZ. Original Persons: {len(base_per)}\")\n",
    "base_per = base_per[single_filter_mazs(base_per.home_zone_id)]\n",
    "build_per = build_per[single_filter_mazs(build_per.home_zone_id)]\n",
    "print(f\"Persons after filtering: {len(base_per)}\")"
   ]
  },
  {
   "cell_type": "code",
   "execution_count": null,
   "id": "93f0a448-d3d2-45ce-a639-12b633f2ece1",
   "metadata": {},
   "outputs": [],
   "source": [
    "# Note: subsidy does not appear to be conditioned on ownership\n",
    "df = base_per[['transit_pass_subsidy']].merge(\n",
    "    build_per[['transit_pass_subsidy']],\n",
    "    how='left',\n",
    "    left_index=True,\n",
    "    right_index=True,\n",
    "    suffixes=('_base', '_build')\n",
    ")"
   ]
  },
  {
   "cell_type": "code",
   "execution_count": null,
   "id": "36020842-d3ff-4676-9ec8-b60b112589a7",
   "metadata": {},
   "outputs": [],
   "source": [
    "df0 = pd.crosstab(\n",
    "    base_per.transit_pass_subsidy,\n",
    "    build_per.transit_pass_subsidy,\n",
    "    rownames=['base'],\n",
    "    colnames=['build'],\n",
    "    margins=True,\n",
    "    margins_name='Total'\n",
    ")\n",
    "df0"
   ]
  },
  {
   "cell_type": "code",
   "execution_count": null,
   "id": "f8215d44-371e-43c8-beab-45b3f6db87d2",
   "metadata": {},
   "outputs": [],
   "source": [
    "df = (df.transit_pass_subsidy_base == df.transit_pass_subsidy_build).value_counts()\n",
    "df.index = df.index.map({True: 'Unchanged', False: 'Changed'})\n",
    "df"
   ]
  },
  {
   "cell_type": "code",
   "execution_count": null,
   "id": "3457cb7a-bd65-4a4b-8572-14014548a709",
   "metadata": {},
   "outputs": [],
   "source": [
    "fig = vh.create_pie_chart(df.to_frame().sort_index(),[\"count\"])\n",
    "fig.show()"
   ]
  },
  {
   "cell_type": "markdown",
   "id": "0c50b3bc",
   "metadata": {},
   "source": [
    "## Transit Pass Ownership"
   ]
  },
  {
   "cell_type": "code",
   "execution_count": null,
   "id": "cc9f2f96",
   "metadata": {},
   "outputs": [],
   "source": [
    "df = base_per[['transit_pass_ownership']].merge(\n",
    "    build_per[['transit_pass_ownership']],\n",
    "    how='left',\n",
    "    left_index=True,\n",
    "    right_index=True,\n",
    "    suffixes=('_base', '_build')\n",
    ")"
   ]
  },
  {
   "cell_type": "code",
   "execution_count": null,
   "id": "a66845d2-b990-412d-992c-0d8bd9b513e4",
   "metadata": {},
   "outputs": [],
   "source": [
    "df0 = pd.crosstab(\n",
    "    base_per.transit_pass_ownership,\n",
    "    build_per.transit_pass_ownership,\n",
    "    rownames=['base'],\n",
    "    colnames=['build'],\n",
    "    margins=True,\n",
    "    margins_name='Total'\n",
    ")\n",
    "df0"
   ]
  },
  {
   "cell_type": "code",
   "execution_count": null,
   "id": "3e79edd1-e968-4965-bcf0-43768d71eddc",
   "metadata": {},
   "outputs": [],
   "source": [
    "df = (df.transit_pass_ownership_base == df.transit_pass_ownership_build).value_counts()\n",
    "df.index = df.index.map({True: 'Unchanged', False: 'Changed'})\n",
    "df"
   ]
  },
  {
   "cell_type": "code",
   "execution_count": null,
   "id": "29fe2f7f-42b4-4b6f-b243-cc476d24c96b",
   "metadata": {},
   "outputs": [],
   "source": [
    "fig = vh.create_pie_chart(df.to_frame().sort_index(),[\"count\"])\n",
    "fig.show()"
   ]
  },
  {
   "cell_type": "markdown",
   "id": "c603361e",
   "metadata": {},
   "source": [
    "## Free Parking"
   ]
  },
  {
   "cell_type": "code",
   "execution_count": null,
   "id": "6a3dcb1e-6be6-4d47-95eb-6f0850fe56d7",
   "metadata": {},
   "outputs": [],
   "source": [
    "usecols = ['person_id', 'is_worker', 'free_parking_at_work', 'workplace_zone_id']\n",
    "base_per = pd.read_csv(f\"{base_dir}/final_persons.csv\",\n",
    "                       index_col='person_id',\n",
    "                       usecols=usecols)\n",
    "\n",
    "build_per = pd.read_csv(f\"{build_dir}/final_persons.csv\",\n",
    "                        index_col='person_id',\n",
    "                        usecols=usecols)"
   ]
  },
  {
   "cell_type": "code",
   "execution_count": null,
   "id": "c0274e55-1705-4a19-81ab-8b37edfe17ff",
   "metadata": {},
   "outputs": [],
   "source": [
    "print(f\"Filtering persons by workplace MAZ. Original Persons: {len(base_per)}\")\n",
    "base_per = base_per[single_filter_mazs(base_per.workplace_zone_id)]\n",
    "build_per = build_per[single_filter_mazs(build_per.workplace_zone_id)]\n",
    "print(f\"Persons after filtering: {len(base_per)}\")"
   ]
  },
  {
   "cell_type": "code",
   "execution_count": null,
   "id": "260389c0",
   "metadata": {},
   "outputs": [],
   "source": [
    "df = base_per[base_per.is_worker].merge(build_per[build_per.is_worker],\n",
    "                                        how='left',\n",
    "                                        left_index=True,\n",
    "                                        right_index=True, \n",
    "                                        suffixes=('_base','_build'))"
   ]
  },
  {
   "cell_type": "code",
   "execution_count": null,
   "id": "5bbfb410-661e-4a6b-8fe2-d62dc74b0fa9",
   "metadata": {},
   "outputs": [],
   "source": [
    "df0 = pd.crosstab(\n",
    "    base_per[base_per.is_worker].free_parking_at_work,\n",
    "    build_per[build_per.is_worker].free_parking_at_work,\n",
    "    rownames=['base'],\n",
    "    colnames=['build'],\n",
    "    margins=True,\n",
    "    margins_name='Total'\n",
    ")\n",
    "df0"
   ]
  },
  {
   "cell_type": "code",
   "execution_count": null,
   "id": "458535a2-d9b5-4c83-908d-25d71640a087",
   "metadata": {},
   "outputs": [],
   "source": [
    "df = (df.free_parking_at_work_base == df.free_parking_at_work_build).value_counts()\n",
    "df.index = df.index.map({True:'Unchanged',False:'Changed'})\n",
    "df"
   ]
  },
  {
   "cell_type": "code",
   "execution_count": null,
   "id": "a423fc4f-d2f3-4661-9f76-15a2a8d06785",
   "metadata": {},
   "outputs": [],
   "source": [
    "fig = vh.create_pie_chart(df.to_frame().sort_index(),[\"count\"])\n",
    "fig.show()"
   ]
  },
  {
   "cell_type": "markdown",
   "id": "3c5866b6",
   "metadata": {},
   "source": [
    "## Telecommute Frequency"
   ]
  },
  {
   "cell_type": "code",
   "execution_count": null,
   "id": "c616c291",
   "metadata": {},
   "outputs": [],
   "source": [
    "usecols = ['person_id', 'is_worker', 'telecommute_frequency', 'workplace_zone_id']\n",
    "base_per = pd.read_csv(f\"{base_dir}/final_persons.csv\",\n",
    "                       index_col='person_id',\n",
    "                       usecols=usecols)\n",
    "\n",
    "build_per = pd.read_csv(f\"{build_dir}/final_persons.csv\",\n",
    "                        index_col='person_id',\n",
    "                        usecols=usecols)\n",
    "\n",
    "# nicer names, please. grab the first char to get magnitudes.\n",
    "tc_labels = {\n",
    "    'No_Telecommute': '0 (No Telecommute)',\n",
    "    '1_days_week': '1 Day per Week',\n",
    "    '2_3_days_week': '2-3 Days per Week',\n",
    "    '4_days_week': '4 Days per Week'\n",
    "}\n",
    "\n",
    "base_per.telecommute_frequency = base_per.telecommute_frequency.map(tc_labels)\n",
    "build_per.telecommute_frequency = build_per.telecommute_frequency.map(tc_labels)"
   ]
  },
  {
   "cell_type": "code",
   "execution_count": null,
   "id": "dd67a4fd-2c8d-471a-b4e4-be0957d8089c",
   "metadata": {},
   "outputs": [],
   "source": [
    "print(f\"Filtering persons by workplace MAZ. Original Persons: {len(base_per)}\")\n",
    "base_per = base_per[single_filter_mazs(base_per.workplace_zone_id)]\n",
    "build_per = build_per[single_filter_mazs(build_per.workplace_zone_id)]\n",
    "print(f\"Persons after filtering: {len(base_per)}\")"
   ]
  },
  {
   "cell_type": "code",
   "execution_count": null,
   "id": "73320e28-73e7-4d76-a794-224beec0b96a",
   "metadata": {},
   "outputs": [],
   "source": [
    "df = base_per[base_per.is_worker].merge(build_per[build_per.is_worker],\n",
    "                                        how='left',\n",
    "                                        left_index=True,\n",
    "                                        right_index=True, \n",
    "                                        suffixes=('_base','_build'))"
   ]
  },
  {
   "cell_type": "code",
   "execution_count": null,
   "id": "9539541c-4b88-4e83-9672-25f6c7de857c",
   "metadata": {},
   "outputs": [],
   "source": [
    "xtab = pd.crosstab(\n",
    "    df.telecommute_frequency_base,\n",
    "    df.telecommute_frequency_build,\n",
    "    rownames=['base'],\n",
    "    colnames=['build'],\n",
    "    margins=True,\n",
    "    margins_name='Total'\n",
    ").sort_index()\n",
    "xtab"
   ]
  },
  {
   "cell_type": "code",
   "execution_count": null,
   "id": "f7803913-88b3-485e-955b-3293316e5949",
   "metadata": {},
   "outputs": [],
   "source": [
    "df1 = df.loc[:, [\"telecommute_frequency_base\", \"telecommute_frequency_build\"]]\n",
    "\n",
    "base_tc_magnitude = df1.telecommute_frequency_base.str[0]\n",
    "build_tc_magnitude = df1.telecommute_frequency_build.str[0]\n",
    "\n",
    "df1.loc[base_tc_magnitude == build_tc_magnitude, 'case'] = 'Unchanged'\n",
    "df1.loc[base_tc_magnitude > build_tc_magnitude, 'case'] = 'Decreased'\n",
    "df1.loc[base_tc_magnitude < build_tc_magnitude, 'case'] = 'Increased'\n",
    "\n",
    "fig = vh.create_pie_chart(df1.case.value_counts().to_frame().sort_index(), [\"count\"])\n",
    "fig.show()"
   ]
  },
  {
   "cell_type": "code",
   "execution_count": null,
   "id": "6515324c",
   "metadata": {},
   "outputs": [],
   "source": [
    "summary_text = f\"\"\"**Telecommute frequency changes:**\n",
    "    Workers with decreased telecommuting: {len(df1[df1.case=='Decreased'])}\n",
    "    Workers with unchanged telecommuting: {len(df1[df1.case=='Unchanged'])}\n",
    "    Workers with increased telecommuting: {len(df1[df1.case=='Increased'])}\n",
    "\"\"\"\n",
    "display(Markdown(summary_text.replace(\"\\n\",\"<br>\")))"
   ]
  },
  {
   "cell_type": "markdown",
   "id": "3576c24a",
   "metadata": {},
   "source": [
    "## Transponder Ownership"
   ]
  },
  {
   "cell_type": "code",
   "execution_count": null,
   "id": "0919472b",
   "metadata": {},
   "outputs": [],
   "source": [
    "base_hh = pd.read_csv(f\"{base_dir}/final_households.csv\", \n",
    "                      index_col='household_id', \n",
    "                      usecols=['household_id','transponder_ownership','home_zone_id'])\n",
    "\n",
    "build_hh = pd.read_csv(f\"{build_dir}/final_households.csv\", \n",
    "                       index_col='household_id', \n",
    "                       usecols=['household_id','transponder_ownership', 'home_zone_id'])\n"
   ]
  },
  {
   "cell_type": "code",
   "execution_count": null,
   "id": "50f10067",
   "metadata": {},
   "outputs": [],
   "source": [
    "print(f\"Filtering households by MAZ. Original HHs: {len(base_hh)}\")\n",
    "base_hh = base_hh[single_filter_mazs(base_hh.home_zone_id)]\n",
    "build_hh = build_hh[single_filter_mazs(build_hh.home_zone_id)]\n",
    "print(f\"HHs after filtering: {len(base_hh)}\")"
   ]
  },
  {
   "cell_type": "code",
   "execution_count": null,
   "id": "3f5935bf",
   "metadata": {},
   "outputs": [],
   "source": [
    "df = pd.crosstab(base_hh.transponder_ownership,\n",
    "                 build_hh.transponder_ownership, \n",
    "                 rownames=['Base'],\n",
    "                 colnames=['Build'], \n",
    "                 margins=True, \n",
    "                 margins_name='Total')\n",
    "df"
   ]
  }
 ],
 "metadata": {
  "kernelspec": {
   "display_name": "asimviz",
   "language": "python",
   "name": "asimviz"
  },
  "language_info": {
   "codemirror_mode": {
    "name": "ipython",
    "version": 3
   },
   "file_extension": ".py",
   "mimetype": "text/x-python",
   "name": "python",
   "nbconvert_exporter": "python",
   "pygments_lexer": "ipython3",
   "version": "3.12.9"
  }
 },
 "nbformat": 4,
 "nbformat_minor": 5
}
